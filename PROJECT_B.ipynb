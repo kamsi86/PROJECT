{
  "nbformat": 4,
  "nbformat_minor": 0,
  "metadata": {
    "colab": {
      "provenance": []
    },
    "kernelspec": {
      "name": "python3",
      "display_name": "Python 3"
    },
    "language_info": {
      "name": "python"
    }
  },
  "cells": [
    {
      "cell_type": "markdown",
      "source": [
        "# **IN THIS NOTEBOOK I WILL PERFORM  UNIVARIATE TIME SERIES ANALYSIS USING THE LSTM (LONG-SHORT TERM MEMORY).**"
      ],
      "metadata": {
        "id": "pk6uNc_HT_ri"
      }
    },
    {
      "cell_type": "code",
      "execution_count": 1,
      "metadata": {
        "id": "XasIb-ukTkfP"
      },
      "outputs": [],
      "source": [
        "import numpy as np\n",
        "import pandas as pd\n",
        "import matplotlib.pyplot as plt"
      ]
    },
    {
      "cell_type": "code",
      "source": [
        "#Importing the dataset\n",
        "dateparse= lambda dates: pd.datetime.strptime(dates,'%d-%m-%Y')\n",
        "data=pd.read_csv('MAster_methanol.csv',parse_dates=['Date'],date_parser=dateparse,usecols=['Date','Asia Price'])"
      ],
      "metadata": {
        "colab": {
          "base_uri": "https://localhost:8080/"
        },
        "id": "O198qecJebwW",
        "outputId": "024820a7-a709-4e1f-9a04-e54c011b1eea"
      },
      "execution_count": 3,
      "outputs": [
        {
          "output_type": "stream",
          "name": "stderr",
          "text": [
            "<ipython-input-3-f4ab67922f0b>:2: FutureWarning: The pandas.datetime class is deprecated and will be removed from pandas in a future version. Import from datetime module instead.\n",
            "  dateparse= lambda dates: pd.datetime.strptime(dates,'%d-%m-%Y')\n"
          ]
        }
      ]
    },
    {
      "cell_type": "code",
      "source": [
        "#data.dtypes\n",
        "data.index=pd.to_datetime(data['Date'],format='%d-%m-%Y')"
      ],
      "metadata": {
        "id": "4yAf2XiMelh_"
      },
      "execution_count": 4,
      "outputs": []
    },
    {
      "cell_type": "code",
      "source": [
        "data.head()"
      ],
      "metadata": {
        "colab": {
          "base_uri": "https://localhost:8080/",
          "height": 238
        },
        "id": "UZeLnk-9em8u",
        "outputId": "a68d18d5-6c06-465a-a3bd-e2629cce0522"
      },
      "execution_count": 6,
      "outputs": [
        {
          "output_type": "execute_result",
          "data": {
            "text/plain": [
              "                 Date  Asia Price\n",
              "Date                             \n",
              "2005-10-07 2005-10-07       232.5\n",
              "2005-10-14 2005-10-14       232.5\n",
              "2005-10-21 2005-10-21       235.0\n",
              "2005-10-28 2005-10-28       232.5\n",
              "2005-11-04 2005-11-04       242.5"
            ],
            "text/html": [
              "\n",
              "  <div id=\"df-26068909-4cf4-44f1-809d-41a15344b7dd\">\n",
              "    <div class=\"colab-df-container\">\n",
              "      <div>\n",
              "<style scoped>\n",
              "    .dataframe tbody tr th:only-of-type {\n",
              "        vertical-align: middle;\n",
              "    }\n",
              "\n",
              "    .dataframe tbody tr th {\n",
              "        vertical-align: top;\n",
              "    }\n",
              "\n",
              "    .dataframe thead th {\n",
              "        text-align: right;\n",
              "    }\n",
              "</style>\n",
              "<table border=\"1\" class=\"dataframe\">\n",
              "  <thead>\n",
              "    <tr style=\"text-align: right;\">\n",
              "      <th></th>\n",
              "      <th>Date</th>\n",
              "      <th>Asia Price</th>\n",
              "    </tr>\n",
              "    <tr>\n",
              "      <th>Date</th>\n",
              "      <th></th>\n",
              "      <th></th>\n",
              "    </tr>\n",
              "  </thead>\n",
              "  <tbody>\n",
              "    <tr>\n",
              "      <th>2005-10-07</th>\n",
              "      <td>2005-10-07</td>\n",
              "      <td>232.5</td>\n",
              "    </tr>\n",
              "    <tr>\n",
              "      <th>2005-10-14</th>\n",
              "      <td>2005-10-14</td>\n",
              "      <td>232.5</td>\n",
              "    </tr>\n",
              "    <tr>\n",
              "      <th>2005-10-21</th>\n",
              "      <td>2005-10-21</td>\n",
              "      <td>235.0</td>\n",
              "    </tr>\n",
              "    <tr>\n",
              "      <th>2005-10-28</th>\n",
              "      <td>2005-10-28</td>\n",
              "      <td>232.5</td>\n",
              "    </tr>\n",
              "    <tr>\n",
              "      <th>2005-11-04</th>\n",
              "      <td>2005-11-04</td>\n",
              "      <td>242.5</td>\n",
              "    </tr>\n",
              "  </tbody>\n",
              "</table>\n",
              "</div>\n",
              "      <button class=\"colab-df-convert\" onclick=\"convertToInteractive('df-26068909-4cf4-44f1-809d-41a15344b7dd')\"\n",
              "              title=\"Convert this dataframe to an interactive table.\"\n",
              "              style=\"display:none;\">\n",
              "        \n",
              "  <svg xmlns=\"http://www.w3.org/2000/svg\" height=\"24px\"viewBox=\"0 0 24 24\"\n",
              "       width=\"24px\">\n",
              "    <path d=\"M0 0h24v24H0V0z\" fill=\"none\"/>\n",
              "    <path d=\"M18.56 5.44l.94 2.06.94-2.06 2.06-.94-2.06-.94-.94-2.06-.94 2.06-2.06.94zm-11 1L8.5 8.5l.94-2.06 2.06-.94-2.06-.94L8.5 2.5l-.94 2.06-2.06.94zm10 10l.94 2.06.94-2.06 2.06-.94-2.06-.94-.94-2.06-.94 2.06-2.06.94z\"/><path d=\"M17.41 7.96l-1.37-1.37c-.4-.4-.92-.59-1.43-.59-.52 0-1.04.2-1.43.59L10.3 9.45l-7.72 7.72c-.78.78-.78 2.05 0 2.83L4 21.41c.39.39.9.59 1.41.59.51 0 1.02-.2 1.41-.59l7.78-7.78 2.81-2.81c.8-.78.8-2.07 0-2.86zM5.41 20L4 18.59l7.72-7.72 1.47 1.35L5.41 20z\"/>\n",
              "  </svg>\n",
              "      </button>\n",
              "      \n",
              "  <style>\n",
              "    .colab-df-container {\n",
              "      display:flex;\n",
              "      flex-wrap:wrap;\n",
              "      gap: 12px;\n",
              "    }\n",
              "\n",
              "    .colab-df-convert {\n",
              "      background-color: #E8F0FE;\n",
              "      border: none;\n",
              "      border-radius: 50%;\n",
              "      cursor: pointer;\n",
              "      display: none;\n",
              "      fill: #1967D2;\n",
              "      height: 32px;\n",
              "      padding: 0 0 0 0;\n",
              "      width: 32px;\n",
              "    }\n",
              "\n",
              "    .colab-df-convert:hover {\n",
              "      background-color: #E2EBFA;\n",
              "      box-shadow: 0px 1px 2px rgba(60, 64, 67, 0.3), 0px 1px 3px 1px rgba(60, 64, 67, 0.15);\n",
              "      fill: #174EA6;\n",
              "    }\n",
              "\n",
              "    [theme=dark] .colab-df-convert {\n",
              "      background-color: #3B4455;\n",
              "      fill: #D2E3FC;\n",
              "    }\n",
              "\n",
              "    [theme=dark] .colab-df-convert:hover {\n",
              "      background-color: #434B5C;\n",
              "      box-shadow: 0px 1px 3px 1px rgba(0, 0, 0, 0.15);\n",
              "      filter: drop-shadow(0px 1px 2px rgba(0, 0, 0, 0.3));\n",
              "      fill: #FFFFFF;\n",
              "    }\n",
              "  </style>\n",
              "\n",
              "      <script>\n",
              "        const buttonEl =\n",
              "          document.querySelector('#df-26068909-4cf4-44f1-809d-41a15344b7dd button.colab-df-convert');\n",
              "        buttonEl.style.display =\n",
              "          google.colab.kernel.accessAllowed ? 'block' : 'none';\n",
              "\n",
              "        async function convertToInteractive(key) {\n",
              "          const element = document.querySelector('#df-26068909-4cf4-44f1-809d-41a15344b7dd');\n",
              "          const dataTable =\n",
              "            await google.colab.kernel.invokeFunction('convertToInteractive',\n",
              "                                                     [key], {});\n",
              "          if (!dataTable) return;\n",
              "\n",
              "          const docLinkHtml = 'Like what you see? Visit the ' +\n",
              "            '<a target=\"_blank\" href=https://colab.research.google.com/notebooks/data_table.ipynb>data table notebook</a>'\n",
              "            + ' to learn more about interactive tables.';\n",
              "          element.innerHTML = '';\n",
              "          dataTable['output_type'] = 'display_data';\n",
              "          await google.colab.output.renderOutput(dataTable, element);\n",
              "          const docLink = document.createElement('div');\n",
              "          docLink.innerHTML = docLinkHtml;\n",
              "          element.appendChild(docLink);\n",
              "        }\n",
              "      </script>\n",
              "    </div>\n",
              "  </div>\n",
              "  "
            ]
          },
          "metadata": {},
          "execution_count": 6
        }
      ]
    },
    {
      "cell_type": "code",
      "source": [
        "del data['Date']"
      ],
      "metadata": {
        "id": "11XYsypbexiA"
      },
      "execution_count": 7,
      "outputs": []
    },
    {
      "cell_type": "code",
      "source": [
        "data.head()"
      ],
      "metadata": {
        "colab": {
          "base_uri": "https://localhost:8080/",
          "height": 238
        },
        "id": "1UXJXvmHez9R",
        "outputId": "f659f978-90b2-4c66-f8d3-58127b2e9698"
      },
      "execution_count": 8,
      "outputs": [
        {
          "output_type": "execute_result",
          "data": {
            "text/plain": [
              "            Asia Price\n",
              "Date                  \n",
              "2005-10-07       232.5\n",
              "2005-10-14       232.5\n",
              "2005-10-21       235.0\n",
              "2005-10-28       232.5\n",
              "2005-11-04       242.5"
            ],
            "text/html": [
              "\n",
              "  <div id=\"df-57750e48-96a8-45f8-8608-f71e990c1f8e\">\n",
              "    <div class=\"colab-df-container\">\n",
              "      <div>\n",
              "<style scoped>\n",
              "    .dataframe tbody tr th:only-of-type {\n",
              "        vertical-align: middle;\n",
              "    }\n",
              "\n",
              "    .dataframe tbody tr th {\n",
              "        vertical-align: top;\n",
              "    }\n",
              "\n",
              "    .dataframe thead th {\n",
              "        text-align: right;\n",
              "    }\n",
              "</style>\n",
              "<table border=\"1\" class=\"dataframe\">\n",
              "  <thead>\n",
              "    <tr style=\"text-align: right;\">\n",
              "      <th></th>\n",
              "      <th>Asia Price</th>\n",
              "    </tr>\n",
              "    <tr>\n",
              "      <th>Date</th>\n",
              "      <th></th>\n",
              "    </tr>\n",
              "  </thead>\n",
              "  <tbody>\n",
              "    <tr>\n",
              "      <th>2005-10-07</th>\n",
              "      <td>232.5</td>\n",
              "    </tr>\n",
              "    <tr>\n",
              "      <th>2005-10-14</th>\n",
              "      <td>232.5</td>\n",
              "    </tr>\n",
              "    <tr>\n",
              "      <th>2005-10-21</th>\n",
              "      <td>235.0</td>\n",
              "    </tr>\n",
              "    <tr>\n",
              "      <th>2005-10-28</th>\n",
              "      <td>232.5</td>\n",
              "    </tr>\n",
              "    <tr>\n",
              "      <th>2005-11-04</th>\n",
              "      <td>242.5</td>\n",
              "    </tr>\n",
              "  </tbody>\n",
              "</table>\n",
              "</div>\n",
              "      <button class=\"colab-df-convert\" onclick=\"convertToInteractive('df-57750e48-96a8-45f8-8608-f71e990c1f8e')\"\n",
              "              title=\"Convert this dataframe to an interactive table.\"\n",
              "              style=\"display:none;\">\n",
              "        \n",
              "  <svg xmlns=\"http://www.w3.org/2000/svg\" height=\"24px\"viewBox=\"0 0 24 24\"\n",
              "       width=\"24px\">\n",
              "    <path d=\"M0 0h24v24H0V0z\" fill=\"none\"/>\n",
              "    <path d=\"M18.56 5.44l.94 2.06.94-2.06 2.06-.94-2.06-.94-.94-2.06-.94 2.06-2.06.94zm-11 1L8.5 8.5l.94-2.06 2.06-.94-2.06-.94L8.5 2.5l-.94 2.06-2.06.94zm10 10l.94 2.06.94-2.06 2.06-.94-2.06-.94-.94-2.06-.94 2.06-2.06.94z\"/><path d=\"M17.41 7.96l-1.37-1.37c-.4-.4-.92-.59-1.43-.59-.52 0-1.04.2-1.43.59L10.3 9.45l-7.72 7.72c-.78.78-.78 2.05 0 2.83L4 21.41c.39.39.9.59 1.41.59.51 0 1.02-.2 1.41-.59l7.78-7.78 2.81-2.81c.8-.78.8-2.07 0-2.86zM5.41 20L4 18.59l7.72-7.72 1.47 1.35L5.41 20z\"/>\n",
              "  </svg>\n",
              "      </button>\n",
              "      \n",
              "  <style>\n",
              "    .colab-df-container {\n",
              "      display:flex;\n",
              "      flex-wrap:wrap;\n",
              "      gap: 12px;\n",
              "    }\n",
              "\n",
              "    .colab-df-convert {\n",
              "      background-color: #E8F0FE;\n",
              "      border: none;\n",
              "      border-radius: 50%;\n",
              "      cursor: pointer;\n",
              "      display: none;\n",
              "      fill: #1967D2;\n",
              "      height: 32px;\n",
              "      padding: 0 0 0 0;\n",
              "      width: 32px;\n",
              "    }\n",
              "\n",
              "    .colab-df-convert:hover {\n",
              "      background-color: #E2EBFA;\n",
              "      box-shadow: 0px 1px 2px rgba(60, 64, 67, 0.3), 0px 1px 3px 1px rgba(60, 64, 67, 0.15);\n",
              "      fill: #174EA6;\n",
              "    }\n",
              "\n",
              "    [theme=dark] .colab-df-convert {\n",
              "      background-color: #3B4455;\n",
              "      fill: #D2E3FC;\n",
              "    }\n",
              "\n",
              "    [theme=dark] .colab-df-convert:hover {\n",
              "      background-color: #434B5C;\n",
              "      box-shadow: 0px 1px 3px 1px rgba(0, 0, 0, 0.15);\n",
              "      filter: drop-shadow(0px 1px 2px rgba(0, 0, 0, 0.3));\n",
              "      fill: #FFFFFF;\n",
              "    }\n",
              "  </style>\n",
              "\n",
              "      <script>\n",
              "        const buttonEl =\n",
              "          document.querySelector('#df-57750e48-96a8-45f8-8608-f71e990c1f8e button.colab-df-convert');\n",
              "        buttonEl.style.display =\n",
              "          google.colab.kernel.accessAllowed ? 'block' : 'none';\n",
              "\n",
              "        async function convertToInteractive(key) {\n",
              "          const element = document.querySelector('#df-57750e48-96a8-45f8-8608-f71e990c1f8e');\n",
              "          const dataTable =\n",
              "            await google.colab.kernel.invokeFunction('convertToInteractive',\n",
              "                                                     [key], {});\n",
              "          if (!dataTable) return;\n",
              "\n",
              "          const docLinkHtml = 'Like what you see? Visit the ' +\n",
              "            '<a target=\"_blank\" href=https://colab.research.google.com/notebooks/data_table.ipynb>data table notebook</a>'\n",
              "            + ' to learn more about interactive tables.';\n",
              "          element.innerHTML = '';\n",
              "          dataTable['output_type'] = 'display_data';\n",
              "          await google.colab.output.renderOutput(dataTable, element);\n",
              "          const docLink = document.createElement('div');\n",
              "          docLink.innerHTML = docLinkHtml;\n",
              "          element.appendChild(docLink);\n",
              "        }\n",
              "      </script>\n",
              "    </div>\n",
              "  </div>\n",
              "  "
            ]
          },
          "metadata": {},
          "execution_count": 8
        }
      ]
    },
    {
      "cell_type": "code",
      "source": [
        "data.index"
      ],
      "metadata": {
        "colab": {
          "base_uri": "https://localhost:8080/"
        },
        "id": "MagEpYEIe6Zp",
        "outputId": "c227c920-3947-4e26-f66f-93c00d496bf5"
      },
      "execution_count": 9,
      "outputs": [
        {
          "output_type": "execute_result",
          "data": {
            "text/plain": [
              "DatetimeIndex(['2005-10-07', '2005-10-14', '2005-10-21', '2005-10-28',\n",
              "               '2005-11-04', '2005-11-11', '2005-11-18', '2005-11-25',\n",
              "               '2005-12-02', '2005-12-09',\n",
              "               ...\n",
              "               '2021-02-19', '2021-02-26', '2021-03-05', '2021-03-12',\n",
              "               '2021-03-19', '2021-03-26', '2021-04-02', '2021-04-09',\n",
              "               '2021-04-16', '2021-04-23'],\n",
              "              dtype='datetime64[ns]', name='Date', length=796, freq=None)"
            ]
          },
          "metadata": {},
          "execution_count": 9
        }
      ]
    },
    {
      "cell_type": "code",
      "source": [
        "data.plot()"
      ],
      "metadata": {
        "colab": {
          "base_uri": "https://localhost:8080/",
          "height": 440
        },
        "id": "SrQnwodMe9mG",
        "outputId": "f56d65d2-a2ac-43a9-e8df-e05f7523f719"
      },
      "execution_count": 10,
      "outputs": [
        {
          "output_type": "execute_result",
          "data": {
            "text/plain": [
              "<Axes: xlabel='Date'>"
            ]
          },
          "metadata": {},
          "execution_count": 10
        },
        {
          "output_type": "display_data",
          "data": {
            "text/plain": [
              "<Figure size 640x480 with 1 Axes>"
            ],
            "image/png": "[encoded data removed]"
          },
          "metadata": {}
        }
      ]
    },
    {
      "cell_type": "markdown",
      "source": [
        "Splitting data into train and test set"
      ],
      "metadata": {
        "id": "D2Um2RJffQL7"
      }
    },
    {
      "cell_type": "code",
      "source": [
        "train=data[:670]"
      ],
      "metadata": {
        "id": "9_9FsTtjfahj"
      },
      "execution_count": 11,
      "outputs": []
    },
    {
      "cell_type": "code",
      "source": [
        "test=data[670:]"
      ],
      "metadata": {
        "id": "Yzmpu8gUfkvT"
      },
      "execution_count": 12,
      "outputs": []
    },
    {
      "cell_type": "code",
      "source": [
        "len(train),len(test)"
      ],
      "metadata": {
        "colab": {
          "base_uri": "https://localhost:8080/"
        },
        "id": "4_SIFxXZfl-q",
        "outputId": "5f2cf34f-91c8-4a73-fd6c-7397ce024f94"
      },
      "execution_count": 13,
      "outputs": [
        {
          "output_type": "execute_result",
          "data": {
            "text/plain": [
              "(670, 126)"
            ]
          },
          "metadata": {},
          "execution_count": 13
        }
      ]
    },
    {
      "cell_type": "code",
      "source": [
        "#Feature scaling of data\n",
        "#To convert data between scale of 0 to 1\n",
        "from sklearn.preprocessing import MinMaxScaler\n",
        "scaler=MinMaxScaler()"
      ],
      "metadata": {
        "id": "sqyOJ54Vft8J"
      },
      "execution_count": 14,
      "outputs": []
    },
    {
      "cell_type": "code",
      "source": [
        "data.head(),data.tail()"
      ],
      "metadata": {
        "colab": {
          "base_uri": "https://localhost:8080/"
        },
        "id": "CviWaMwhf8Gj",
        "outputId": "0f33d699-9a38-4768-dd48-eead8e08fb23"
      },
      "execution_count": 15,
      "outputs": [
        {
          "output_type": "execute_result",
          "data": {
            "text/plain": [
              "(            Asia Price\n",
              " Date                  \n",
              " 2005-10-07       232.5\n",
              " 2005-10-14       232.5\n",
              " 2005-10-21       235.0\n",
              " 2005-10-28       232.5\n",
              " 2005-11-04       242.5,\n",
              "             Asia Price\n",
              " Date                  \n",
              " 2021-03-26       370.0\n",
              " 2021-04-02       365.0\n",
              " 2021-04-09       364.0\n",
              " 2021-04-16       375.0\n",
              " 2021-04-23       371.0)"
            ]
          },
          "metadata": {},
          "execution_count": 15
        }
      ]
    },
    {
      "cell_type": "code",
      "source": [
        "#fit scaler object on training test #cals std ,max,min value\n",
        "scaler.fit(train) "
      ],
      "metadata": {
        "colab": {
          "base_uri": "https://localhost:8080/",
          "height": 75
        },
        "id": "WVFN-wwPgBFx",
        "outputId": "3c971c85-a953-4973-f545-81f19d48a4fe"
      },
      "execution_count": 16,
      "outputs": [
        {
          "output_type": "execute_result",
          "data": {
            "text/plain": [
              "MinMaxScaler()"
            ],
            "text/html": [
              "<style>#sk-container-id-1 {color: black;background-color: white;}#sk-container-id-1 pre{padding: 0;}#sk-container-id-1 div.sk-toggleable {background-color: white;}#sk-container-id-1 label.sk-toggleable__label {cursor: pointer;display: block;width: 100%;margin-bottom: 0;padding: 0.3em;box-sizing: border-box;text-align: center;}#sk-container-id-1 label.sk-toggleable__label-arrow:before {content: \"▸\";float: left;margin-right: 0.25em;color: #696969;}#sk-container-id-1 label.sk-toggleable__label-arrow:hover:before {color: black;}#sk-container-id-1 div.sk-estimator:hover label.sk-toggleable__label-arrow:before {color: black;}#sk-container-id-1 div.sk-toggleable__content {max-height: 0;max-width: 0;overflow: hidden;text-align: left;background-color: #f0f8ff;}#sk-container-id-1 div.sk-toggleable__content pre {margin: 0.2em;color: black;border-radius: 0.25em;background-color: #f0f8ff;}#sk-container-id-1 input.sk-toggleable__control:checked~div.sk-toggleable__content {max-height: 200px;max-width: 100%;overflow: auto;}#sk-container-id-1 input.sk-toggleable__control:checked~label.sk-toggleable__label-arrow:before {content: \"▾\";}#sk-container-id-1 div.sk-estimator input.sk-toggleable__control:checked~label.sk-toggleable__label {background-color: #d4ebff;}#sk-container-id-1 div.sk-label input.sk-toggleable__control:checked~label.sk-toggleable__label {background-color: #d4ebff;}#sk-container-id-1 input.sk-hidden--visually {border: 0;clip: rect(1px 1px 1px 1px);clip: rect(1px, 1px, 1px, 1px);height: 1px;margin: -1px;overflow: hidden;padding: 0;position: absolute;width: 1px;}#sk-container-id-1 div.sk-estimator {font-family: monospace;background-color: #f0f8ff;border: 1px dotted black;border-radius: 0.25em;box-sizing: border-box;margin-bottom: 0.5em;}#sk-container-id-1 div.sk-estimator:hover {background-color: #d4ebff;}#sk-container-id-1 div.sk-parallel-item::after {content: \"\";width: 100%;border-bottom: 1px solid gray;flex-grow: 1;}#sk-container-id-1 div.sk-label:hover label.sk-toggleable__label {background-color: #d4ebff;}#sk-container-id-1 div.sk-serial::before {content: \"\";position: absolute;border-left: 1px solid gray;box-sizing: border-box;top: 0;bottom: 0;left: 50%;z-index: 0;}#sk-container-id-1 div.sk-serial {display: flex;flex-direction: column;align-items: center;background-color: white;padding-right: 0.2em;padding-left: 0.2em;position: relative;}#sk-container-id-1 div.sk-item {position: relative;z-index: 1;}#sk-container-id-1 div.sk-parallel {display: flex;align-items: stretch;justify-content: center;background-color: white;position: relative;}#sk-container-id-1 div.sk-item::before, #sk-container-id-1 div.sk-parallel-item::before {content: \"\";position: absolute;border-left: 1px solid gray;box-sizing: border-box;top: 0;bottom: 0;left: 50%;z-index: -1;}#sk-container-id-1 div.sk-parallel-item {display: flex;flex-direction: column;z-index: 1;position: relative;background-color: white;}#sk-container-id-1 div.sk-parallel-item:first-child::after {align-self: flex-end;width: 50%;}#sk-container-id-1 div.sk-parallel-item:last-child::after {align-self: flex-start;width: 50%;}#sk-container-id-1 div.sk-parallel-item:only-child::after {width: 0;}#sk-container-id-1 div.sk-dashed-wrapped {border: 1px dashed gray;margin: 0 0.4em 0.5em 0.4em;box-sizing: border-box;padding-bottom: 0.4em;background-color: white;}#sk-container-id-1 div.sk-label label {font-family: monospace;font-weight: bold;display: inline-block;line-height: 1.2em;}#sk-container-id-1 div.sk-label-container {text-align: center;}#sk-container-id-1 div.sk-container {/* jupyter's `normalize.less` sets `[hidden] { display: none; }` but bootstrap.min.css set `[hidden] { display: none !important; }` so we also need the `!important` here to be able to override the default hidden behavior on the sphinx rendered scikit-learn.org. See: https://github.com/scikit-learn/scikit-learn/issues/21755 */display: inline-block !important;position: relative;}#sk-container-id-1 div.sk-text-repr-fallback {display: none;}</style><div id=\"sk-container-id-1\" class=\"sk-top-container\"><div class=\"sk-text-repr-fallback\"><pre>MinMaxScaler()</pre><b>In a Jupyter environment, please rerun this cell to show the HTML representation or trust the notebook. <br />On GitHub, the HTML representation is unable to render, please try loading this page with nbviewer.org.</b></div><div class=\"sk-container\" hidden><div class=\"sk-item\"><div class=\"sk-estimator sk-toggleable\"><input class=\"sk-toggleable__control sk-hidden--visually\" id=\"sk-estimator-id-1\" type=\"checkbox\" checked><label for=\"sk-estimator-id-1\" class=\"sk-toggleable__label sk-toggleable__label-arrow\">MinMaxScaler</label><div class=\"sk-toggleable__content\"><pre>MinMaxScaler()</pre></div></div></div></div></div>"
            ]
          },
          "metadata": {},
          "execution_count": 16
        }
      ]
    },
    {
      "cell_type": "code",
      "source": [
        "#transform the train and test in scalar object values\n",
        "scaled_train=scaler.transform(train)\n",
        "scaled_test=scaler.transform(test)"
      ],
      "metadata": {
        "id": "F3357SK2gJVF"
      },
      "execution_count": 17,
      "outputs": []
    },
    {
      "cell_type": "code",
      "source": [
        "scaled_train[:10] #An array"
      ],
      "metadata": {
        "colab": {
          "base_uri": "https://localhost:8080/"
        },
        "id": "_LzsZ3scgMnV",
        "outputId": "727231ce-4981-4ec5-fd0c-e28cd2f4756a"
      },
      "execution_count": 18,
      "outputs": [
        {
          "output_type": "execute_result",
          "data": {
            "text/plain": [
              "array([[0.17032967],\n",
              "       [0.17032967],\n",
              "       [0.17582418],\n",
              "       [0.17032967],\n",
              "       [0.19230769],\n",
              "       [0.21428571],\n",
              "       [0.22527473],\n",
              "       [0.22527473],\n",
              "       [0.22527473],\n",
              "       [0.23076923]])"
            ]
          },
          "metadata": {},
          "execution_count": 18
        }
      ]
    },
    {
      "cell_type": "code",
      "source": [
        "scaled_test[:10] #An array"
      ],
      "metadata": {
        "colab": {
          "base_uri": "https://localhost:8080/"
        },
        "id": "zJgUfHKOgSC9",
        "outputId": "95723886-55f9-4c50-e16d-0e5488aefddb"
      },
      "execution_count": 19,
      "outputs": [
        {
          "output_type": "execute_result",
          "data": {
            "text/plain": [
              "array([[0.64395604],\n",
              "       [0.6043956 ],\n",
              "       [0.59340659],\n",
              "       [0.47472527],\n",
              "       [0.45054945],\n",
              "       [0.38461538],\n",
              "       [0.36263736],\n",
              "       [0.31868132],\n",
              "       [0.31648352],\n",
              "       [0.31648352]])"
            ]
          },
          "metadata": {},
          "execution_count": 19
        }
      ]
    },
    {
      "cell_type": "markdown",
      "source": [
        "TIME SERIES ANALYSIS USING TENSORFLOW'S TIME SERIES GENERATOR"
      ],
      "metadata": {
        "id": "-5ZVUtO7gYqN"
      }
    },
    {
      "cell_type": "code",
      "source": [
        "from keras.preprocessing.sequence import TimeseriesGenerator"
      ],
      "metadata": {
        "id": "5MBz4D3wgZU0"
      },
      "execution_count": 20,
      "outputs": []
    },
    {
      "cell_type": "code",
      "source": [
        "#Define generator given data is weekly \n",
        "#3 months=12 weeks data\n",
        "n_input=12\n",
        "n_features=1 #only 1 feature in the data\n",
        "generator=TimeseriesGenerator(scaled_train,scaled_train,length=n_input,batch_size=1)"
      ],
      "metadata": {
        "id": "LTZjAGIigpL8"
      },
      "execution_count": 21,
      "outputs": []
    },
    {
      "cell_type": "code",
      "source": [
        "#Given values of 3 months in array ie,12 weeks, predicts 13th week's value\n",
        "X,y=generator[0]\n",
        "print(f'Given the array: \\n{X.flatten()}')\n",
        "print(f'Predict the y: \\n {y}')"
      ],
      "metadata": {
        "colab": {
          "base_uri": "https://localhost:8080/"
        },
        "id": "lIY8hsoTg0bR",
        "outputId": "3b393095-1292-465e-f5dd-200bddd877db"
      },
      "execution_count": 22,
      "outputs": [
        {
          "output_type": "stream",
          "name": "stdout",
          "text": [
            "Given the array: \n",
            "[0.17032967 0.17032967 0.17582418 0.17032967 0.19230769 0.21428571\n",
            " 0.22527473 0.22527473 0.22527473 0.23076923 0.23076923 0.24175824]\n",
            "Predict the y: \n",
            " [[0.25274725]]\n"
          ]
        }
      ]
    },
    {
      "cell_type": "markdown",
      "source": [
        "A PREVIEW OF HOW PREDICTIONS ARE MADE GIVEN 12 WEEKS DATA. THE MODEL PREDICTS THE 13th WEEK'S DATA"
      ],
      "metadata": {
        "id": "xOEl4cBXhEx2"
      }
    },
    {
      "cell_type": "code",
      "source": [
        "X,y=generator[1] #take values #from 2nd week and predict the 14th week and so on\n",
        "print(f'Given the array: \\n{X.flatten()}')\n",
        "print(f'Predict the y: \\n {y}')\n",
        "#Given values of 3 months in array ie,12 weeks\n",
        "#predicts 13th week's value"
      ],
      "metadata": {
        "colab": {
          "base_uri": "https://localhost:8080/"
        },
        "id": "tZDUBX27hJf9",
        "outputId": "de51c43b-fd8a-4f70-a296-c5bd8188dac1"
      },
      "execution_count": 23,
      "outputs": [
        {
          "output_type": "stream",
          "name": "stdout",
          "text": [
            "Given the array: \n",
            "[0.17032967 0.17582418 0.17032967 0.19230769 0.21428571 0.22527473\n",
            " 0.22527473 0.22527473 0.23076923 0.23076923 0.24175824 0.25274725]\n",
            "Predict the y: \n",
            " [[0.25824176]]\n"
          ]
        }
      ]
    },
    {
      "cell_type": "code",
      "source": [
        "X.shape"
      ],
      "metadata": {
        "colab": {
          "base_uri": "https://localhost:8080/"
        },
        "id": "XzxIOfEuhSsa",
        "outputId": "e522bf1a-4e87-4a3e-a904-900d16c4098e"
      },
      "execution_count": 24,
      "outputs": [
        {
          "output_type": "execute_result",
          "data": {
            "text/plain": [
              "(1, 12, 1)"
            ]
          },
          "metadata": {},
          "execution_count": 24
        }
      ]
    },
    {
      "cell_type": "markdown",
      "source": [
        "CREATING A LSTM MODEL USING KERAS LIBRARY FROM TENSORFLOW"
      ],
      "metadata": {
        "id": "KSTTTFh8h_7d"
      }
    },
    {
      "cell_type": "code",
      "source": [
        "#Calling models\n",
        "#Layers added sequentially\n",
        "from keras.models import Sequential\n",
        "from keras.layers import Dense\n",
        "from keras.layers import LSTM"
      ],
      "metadata": {
        "id": "R-5oZy_ZiAeo"
      },
      "execution_count": 25,
      "outputs": []
    },
    {
      "cell_type": "code",
      "source": [
        "#Define model\n",
        "model=Sequential()"
      ],
      "metadata": {
        "id": "sfg_TfjyiLhL"
      },
      "execution_count": 26,
      "outputs": []
    },
    {
      "cell_type": "code",
      "source": [
        "#LSTM layer with 100 neurons , activation function relu and input shape of data\n",
        "model.add(LSTM(100,activation='relu',input_shape=(n_input,n_features)))\n",
        "model.add(Dense(1)) # model layer final\n",
        "model.compile(optimizer='adam',loss='mse')"
      ],
      "metadata": {
        "id": "9h2XM34QiST4"
      },
      "execution_count": 27,
      "outputs": []
    },
    {
      "cell_type": "code",
      "source": [
        "model.summary()"
      ],
      "metadata": {
        "colab": {
          "base_uri": "https://localhost:8080/"
        },
        "id": "vL3nl8yXi0LP",
        "outputId": "eedddbc1-a20f-46ae-90ef-e67e865f0612"
      },
      "execution_count": 28,
      "outputs": [
        {
          "output_type": "stream",
          "name": "stdout",
          "text": [
            "Model: \"sequential\"\n",
            "_________________________________________________________________\n",
            " Layer (type)                Output Shape              Param #   \n",
            "=================================================================\n",
            " lstm (LSTM)                 (None, 100)               40800     \n",
            "                                                                 \n",
            " dense (Dense)               (None, 1)                 101       \n",
            "                                                                 \n",
            "=================================================================\n",
            "Total params: 40,901\n",
            "Trainable params: 40,901\n",
            "Non-trainable params: 0\n",
            "_________________________________________________________________\n"
          ]
        }
      ]
    },
    {
      "cell_type": "code",
      "source": [
        "#Fit model\n",
        "model.fit(generator,epochs=50)"
      ],
      "metadata": {
        "colab": {
          "base_uri": "https://localhost:8080/"
        },
        "id": "6kFa70yTi_rQ",
        "outputId": "0ed31241-5b9d-421c-c1c1-b7baef8bf9ff"
      },
      "execution_count": 29,
      "outputs": [
        {
          "output_type": "stream",
          "name": "stdout",
          "text": [
            "Epoch 1/50\n",
            "658/658 [==============================] - 6s 7ms/step - loss: 0.0125\n",
            "Epoch 2/50\n",
            "658/658 [==============================] - 5s 8ms/step - loss: 0.0035\n",
            "Epoch 3/50\n",
            "658/658 [==============================] - 5s 7ms/step - loss: 0.0025\n",
            "Epoch 4/50\n",
            "658/658 [==============================] - 5s 7ms/step - loss: 0.0018\n",
            "Epoch 5/50\n",
            "658/658 [==============================] - 4s 6ms/step - loss: 0.0014\n",
            "Epoch 6/50\n",
            "658/658 [==============================] - 5s 8ms/step - loss: 0.0011\n",
            "Epoch 7/50\n",
            "658/658 [==============================] - 4s 6ms/step - loss: 0.0011\n",
            "Epoch 8/50\n",
            "658/658 [==============================] - 5s 8ms/step - loss: 8.5453e-04\n",
            "Epoch 9/50\n",
            "658/658 [==============================] - 5s 7ms/step - loss: 8.4699e-04\n",
            "Epoch 10/50\n",
            "658/658 [==============================] - 4s 7ms/step - loss: 8.3104e-04\n",
            "Epoch 11/50\n",
            "658/658 [==============================] - 4s 6ms/step - loss: 7.0809e-04\n",
            "Epoch 12/50\n",
            "658/658 [==============================] - 5s 8ms/step - loss: 7.3448e-04\n",
            "Epoch 13/50\n",
            "658/658 [==============================] - 5s 7ms/step - loss: 7.0882e-04\n",
            "Epoch 14/50\n",
            "658/658 [==============================] - 4s 6ms/step - loss: 7.4140e-04\n",
            "Epoch 15/50\n",
            "658/658 [==============================] - 4s 6ms/step - loss: 7.2642e-04\n",
            "Epoch 16/50\n",
            "658/658 [==============================] - 6s 9ms/step - loss: 6.2742e-04\n",
            "Epoch 17/50\n",
            "658/658 [==============================] - 4s 7ms/step - loss: 6.4936e-04\n",
            "Epoch 18/50\n",
            "658/658 [==============================] - 5s 7ms/step - loss: 6.6391e-04\n",
            "Epoch 19/50\n",
            "658/658 [==============================] - 5s 8ms/step - loss: 6.3875e-04\n",
            "Epoch 20/50\n",
            "658/658 [==============================] - 4s 6ms/step - loss: 6.4087e-04\n",
            "Epoch 21/50\n",
            "658/658 [==============================] - 5s 8ms/step - loss: 6.5510e-04\n",
            "Epoch 22/50\n",
            "658/658 [==============================] - 4s 6ms/step - loss: 6.1825e-04\n",
            "Epoch 23/50\n",
            "658/658 [==============================] - 5s 8ms/step - loss: 6.0994e-04\n",
            "Epoch 24/50\n",
            "658/658 [==============================] - 4s 7ms/step - loss: 5.8679e-04\n",
            "Epoch 25/50\n",
            "658/658 [==============================] - 5s 7ms/step - loss: 6.1124e-04\n",
            "Epoch 26/50\n",
            "658/658 [==============================] - 4s 6ms/step - loss: 5.9707e-04\n",
            "Epoch 27/50\n",
            "658/658 [==============================] - 5s 8ms/step - loss: 6.3421e-04\n",
            "Epoch 28/50\n",
            "658/658 [==============================] - 4s 6ms/step - loss: 6.1731e-04\n",
            "Epoch 29/50\n",
            "658/658 [==============================] - 5s 8ms/step - loss: 5.9312e-04\n",
            "Epoch 30/50\n",
            "658/658 [==============================] - 5s 8ms/step - loss: 6.1365e-04\n",
            "Epoch 31/50\n",
            "658/658 [==============================] - 5s 7ms/step - loss: 5.9221e-04\n",
            "Epoch 32/50\n",
            "658/658 [==============================] - 4s 7ms/step - loss: 5.7057e-04\n",
            "Epoch 33/50\n",
            "658/658 [==============================] - 4s 6ms/step - loss: 5.9490e-04\n",
            "Epoch 34/50\n",
            "658/658 [==============================] - 5s 8ms/step - loss: 5.7607e-04\n",
            "Epoch 35/50\n",
            "658/658 [==============================] - 4s 6ms/step - loss: 5.8528e-04\n",
            "Epoch 36/50\n",
            "658/658 [==============================] - 5s 8ms/step - loss: 5.8411e-04\n",
            "Epoch 37/50\n",
            "658/658 [==============================] - 4s 6ms/step - loss: 5.8689e-04\n",
            "Epoch 38/50\n",
            "658/658 [==============================] - 5s 8ms/step - loss: 5.7870e-04\n",
            "Epoch 39/50\n",
            "658/658 [==============================] - 5s 7ms/step - loss: 5.6155e-04\n",
            "Epoch 40/50\n",
            "658/658 [==============================] - 4s 6ms/step - loss: 5.8196e-04\n",
            "Epoch 41/50\n",
            "658/658 [==============================] - 5s 8ms/step - loss: 5.6117e-04\n",
            "Epoch 42/50\n",
            "658/658 [==============================] - 4s 6ms/step - loss: 5.5683e-04\n",
            "Epoch 43/50\n",
            "658/658 [==============================] - 4s 6ms/step - loss: 5.8636e-04\n",
            "Epoch 44/50\n",
            "658/658 [==============================] - 5s 8ms/step - loss: 5.3164e-04\n",
            "Epoch 45/50\n",
            "658/658 [==============================] - 4s 6ms/step - loss: 5.4513e-04\n",
            "Epoch 46/50\n",
            "658/658 [==============================] - 5s 7ms/step - loss: 5.2682e-04\n",
            "Epoch 47/50\n",
            "658/658 [==============================] - 5s 7ms/step - loss: 5.7824e-04\n",
            "Epoch 48/50\n",
            "658/658 [==============================] - 4s 6ms/step - loss: 5.5131e-04\n",
            "Epoch 49/50\n",
            "658/658 [==============================] - 5s 8ms/step - loss: 5.1868e-04\n",
            "Epoch 50/50\n",
            "658/658 [==============================] - 4s 7ms/step - loss: 5.2527e-04\n"
          ]
        },
        {
          "output_type": "execute_result",
          "data": {
            "text/plain": [
              "<keras.callbacks.History at 0x7f9731b16170>"
            ]
          },
          "metadata": {},
          "execution_count": 29
        }
      ]
    },
    {
      "cell_type": "code",
      "source": [
        "loss_per_epoch=model.history.history['loss']\n",
        "plt.plot(range(len(loss_per_epoch)),loss_per_epoch)"
      ],
      "metadata": {
        "colab": {
          "base_uri": "https://localhost:8080/",
          "height": 448
        },
        "id": "Ax74BUTwkr8o",
        "outputId": "6960f220-c0f1-4780-8116-79b3d60ee789"
      },
      "execution_count": 30,
      "outputs": [
        {
          "output_type": "execute_result",
          "data": {
            "text/plain": [
              "[<matplotlib.lines.Line2D at 0x7f9723d82980>]"
            ]
          },
          "metadata": {},
          "execution_count": 30
        },
        {
          "output_type": "display_data",
          "data": {
            "text/plain": [
              "<Figure size 640x480 with 1 Axes>"
            ],
            "image/png": "[encoded data removed]"
          },
          "metadata": {}
        }
      ]
    },
    {
      "cell_type": "markdown",
      "source": [
        "FUTURE PREDICTION- FORECASTING VALUES"
      ],
      "metadata": {
        "id": "v_LA2N9gk962"
      }
    },
    {
      "cell_type": "code",
      "source": [
        "#Last 3 months data of training test to predict the first value of test set\n",
        "last_train_batch= scaled_train[-12:]"
      ],
      "metadata": {
        "id": "UkJASoUfk-kI"
      },
      "execution_count": 31,
      "outputs": []
    },
    {
      "cell_type": "code",
      "source": [
        "last_train_batch"
      ],
      "metadata": {
        "colab": {
          "base_uri": "https://localhost:8080/"
        },
        "id": "TrIo-V0QlJFd",
        "outputId": "a829e4a1-4eae-4afc-8346-d6cb31b27d9b"
      },
      "execution_count": 32,
      "outputs": [
        {
          "output_type": "execute_result",
          "data": {
            "text/plain": [
              "array([[0.61538462],\n",
              "       [0.60659341],\n",
              "       [0.61098901],\n",
              "       [0.60659341],\n",
              "       [0.60659341],\n",
              "       [0.61098901],\n",
              "       [0.6043956 ],\n",
              "       [0.61758242],\n",
              "       [0.62197802],\n",
              "       [0.63956044],\n",
              "       [0.65934066],\n",
              "       [0.65494505]])"
            ]
          },
          "metadata": {},
          "execution_count": 32
        }
      ]
    },
    {
      "cell_type": "code",
      "source": [
        "last_train_batch=last_train_batch.reshape((1,n_input,n_features))"
      ],
      "metadata": {
        "id": "9k18iGbklQ0t"
      },
      "execution_count": 33,
      "outputs": []
    },
    {
      "cell_type": "code",
      "source": [
        "model.predict(last_train_batch)"
      ],
      "metadata": {
        "colab": {
          "base_uri": "https://localhost:8080/"
        },
        "id": "Hz0HkhlYlTBN",
        "outputId": "ab839471-3128-4c5c-ae7f-c844bc1f95cb"
      },
      "execution_count": 34,
      "outputs": [
        {
          "output_type": "stream",
          "name": "stdout",
          "text": [
            "1/1 [==============================] - 0s 210ms/step\n"
          ]
        },
        {
          "output_type": "execute_result",
          "data": {
            "text/plain": [
              "array([[0.65542185]], dtype=float32)"
            ]
          },
          "metadata": {},
          "execution_count": 34
        }
      ]
    },
    {
      "cell_type": "code",
      "source": [
        "scaled_test[0]"
      ],
      "metadata": {
        "colab": {
          "base_uri": "https://localhost:8080/"
        },
        "id": "Vo-1_QUElVBe",
        "outputId": "2eeedaa5-3ea3-4c58-ae68-a04162640cfe"
      },
      "execution_count": 35,
      "outputs": [
        {
          "output_type": "execute_result",
          "data": {
            "text/plain": [
              "array([0.64395604])"
            ]
          },
          "metadata": {},
          "execution_count": 35
        }
      ]
    },
    {
      "cell_type": "markdown",
      "source": [
        "As we can see the predicted value (0.66) and actual scaled test value (0.64) are very close , so the model is predicting good."
      ],
      "metadata": {
        "id": "tV3gHmgwleAM"
      }
    },
    {
      "cell_type": "markdown",
      "source": [
        "MAKING THE ACTUAL FUTURE PREDICTIONS"
      ],
      "metadata": {
        "id": "mGfQ1Xq0luGd"
      }
    },
    {
      "cell_type": "code",
      "source": [
        "test_predictions=[]\n",
        "\n",
        "first_batch=scaled_train[-n_input:]\n",
        "curr_batch=first_batch.reshape((1,n_input,n_features))\n",
        "\n",
        "for i in range(len(test)):\n",
        "  #prediction value for first batch\n",
        "  curr_pred=model.predict(curr_batch)[0]\n",
        "  #append prediction into array\n",
        "  test_predictions.append(curr_pred)\n",
        "  curr_batch=np.append(curr_batch[:,1:,:],[[curr_pred]],axis=1)"
      ],
      "metadata": {
        "colab": {
          "base_uri": "https://localhost:8080/"
        },
        "id": "YxGFff-zlkIx",
        "outputId": "18c74534-69b0-44c4-eefc-c89f746e4b6f"
      },
      "execution_count": 36,
      "outputs": [
        {
          "output_type": "stream",
          "name": "stdout",
          "text": [
            "1/1 [==============================] - 0s 23ms/step\n",
            "1/1 [==============================] - 0s 20ms/step\n",
            "1/1 [==============================] - 0s 21ms/step\n",
            "1/1 [==============================] - 0s 22ms/step\n",
            "1/1 [==============================] - 0s 21ms/step\n",
            "1/1 [==============================] - 0s 21ms/step\n",
            "1/1 [==============================] - 0s 20ms/step\n",
            "1/1 [==============================] - 0s 22ms/step\n",
            "1/1 [==============================] - 0s 22ms/step\n",
            "1/1 [==============================] - 0s 20ms/step\n",
            "1/1 [==============================] - 0s 25ms/step\n",
            "1/1 [==============================] - 0s 21ms/step\n",
            "1/1 [==============================] - 0s 21ms/step\n",
            "1/1 [==============================] - 0s 22ms/step\n",
            "1/1 [==============================] - 0s 20ms/step\n",
            "1/1 [==============================] - 0s 29ms/step\n",
            "1/1 [==============================] - 0s 21ms/step\n",
            "1/1 [==============================] - 0s 22ms/step\n",
            "1/1 [==============================] - 0s 22ms/step\n",
            "1/1 [==============================] - 0s 21ms/step\n",
            "1/1 [==============================] - 0s 27ms/step\n",
            "1/1 [==============================] - 0s 25ms/step\n",
            "1/1 [==============================] - 0s 21ms/step\n",
            "1/1 [==============================] - 0s 20ms/step\n",
            "1/1 [==============================] - 0s 21ms/step\n",
            "1/1 [==============================] - 0s 33ms/step\n",
            "1/1 [==============================] - 0s 21ms/step\n",
            "1/1 [==============================] - 0s 21ms/step\n",
            "1/1 [==============================] - 0s 20ms/step\n",
            "1/1 [==============================] - 0s 28ms/step\n",
            "1/1 [==============================] - 0s 21ms/step\n",
            "1/1 [==============================] - 0s 28ms/step\n",
            "1/1 [==============================] - 0s 26ms/step\n",
            "1/1 [==============================] - 0s 28ms/step\n",
            "1/1 [==============================] - 0s 24ms/step\n",
            "1/1 [==============================] - 0s 22ms/step\n",
            "1/1 [==============================] - 0s 22ms/step\n",
            "1/1 [==============================] - 0s 35ms/step\n",
            "1/1 [==============================] - 0s 23ms/step\n",
            "1/1 [==============================] - 0s 30ms/step\n",
            "1/1 [==============================] - 0s 21ms/step\n",
            "1/1 [==============================] - 0s 21ms/step\n",
            "1/1 [==============================] - 0s 23ms/step\n",
            "1/1 [==============================] - 0s 23ms/step\n",
            "1/1 [==============================] - 0s 27ms/step\n",
            "1/1 [==============================] - 0s 23ms/step\n",
            "1/1 [==============================] - 0s 22ms/step\n",
            "1/1 [==============================] - 0s 22ms/step\n",
            "1/1 [==============================] - 0s 21ms/step\n",
            "1/1 [==============================] - 0s 22ms/step\n",
            "1/1 [==============================] - 0s 20ms/step\n",
            "1/1 [==============================] - 0s 21ms/step\n",
            "1/1 [==============================] - 0s 22ms/step\n",
            "1/1 [==============================] - 0s 21ms/step\n",
            "1/1 [==============================] - 0s 28ms/step\n",
            "1/1 [==============================] - 0s 23ms/step\n",
            "1/1 [==============================] - 0s 23ms/step\n",
            "1/1 [==============================] - 0s 21ms/step\n",
            "1/1 [==============================] - 0s 23ms/step\n",
            "1/1 [==============================] - 0s 23ms/step\n",
            "1/1 [==============================] - 0s 26ms/step\n",
            "1/1 [==============================] - 0s 24ms/step\n",
            "1/1 [==============================] - 0s 25ms/step\n",
            "1/1 [==============================] - 0s 24ms/step\n",
            "1/1 [==============================] - 0s 21ms/step\n",
            "1/1 [==============================] - 0s 25ms/step\n",
            "1/1 [==============================] - 0s 23ms/step\n",
            "1/1 [==============================] - 0s 21ms/step\n",
            "1/1 [==============================] - 0s 22ms/step\n",
            "1/1 [==============================] - 0s 21ms/step\n",
            "1/1 [==============================] - 0s 32ms/step\n",
            "1/1 [==============================] - 0s 33ms/step\n",
            "1/1 [==============================] - 0s 31ms/step\n",
            "1/1 [==============================] - 0s 37ms/step\n",
            "1/1 [==============================] - 0s 36ms/step\n",
            "1/1 [==============================] - 0s 31ms/step\n",
            "1/1 [==============================] - 0s 33ms/step\n",
            "1/1 [==============================] - 0s 34ms/step\n",
            "1/1 [==============================] - 0s 32ms/step\n",
            "1/1 [==============================] - 0s 37ms/step\n",
            "1/1 [==============================] - 0s 35ms/step\n",
            "1/1 [==============================] - 0s 42ms/step\n",
            "1/1 [==============================] - 0s 31ms/step\n",
            "1/1 [==============================] - 0s 31ms/step\n",
            "1/1 [==============================] - 0s 32ms/step\n",
            "1/1 [==============================] - 0s 46ms/step\n",
            "1/1 [==============================] - 0s 34ms/step\n",
            "1/1 [==============================] - 0s 36ms/step\n",
            "1/1 [==============================] - 0s 37ms/step\n",
            "1/1 [==============================] - 0s 55ms/step\n",
            "1/1 [==============================] - 0s 36ms/step\n",
            "1/1 [==============================] - 0s 45ms/step\n",
            "1/1 [==============================] - 0s 31ms/step\n",
            "1/1 [==============================] - 0s 30ms/step\n",
            "1/1 [==============================] - 0s 30ms/step\n",
            "1/1 [==============================] - 0s 33ms/step\n",
            "1/1 [==============================] - 0s 31ms/step\n",
            "1/1 [==============================] - 0s 24ms/step\n",
            "1/1 [==============================] - 0s 21ms/step\n",
            "1/1 [==============================] - 0s 21ms/step\n",
            "1/1 [==============================] - 0s 21ms/step\n",
            "1/1 [==============================] - 0s 24ms/step\n",
            "1/1 [==============================] - 0s 26ms/step\n",
            "1/1 [==============================] - 0s 22ms/step\n",
            "1/1 [==============================] - 0s 21ms/step\n",
            "1/1 [==============================] - 0s 22ms/step\n",
            "1/1 [==============================] - 0s 23ms/step\n",
            "1/1 [==============================] - 0s 25ms/step\n",
            "1/1 [==============================] - 0s 22ms/step\n",
            "1/1 [==============================] - 0s 24ms/step\n",
            "1/1 [==============================] - 0s 27ms/step\n",
            "1/1 [==============================] - 0s 22ms/step\n",
            "1/1 [==============================] - 0s 29ms/step\n",
            "1/1 [==============================] - 0s 28ms/step\n",
            "1/1 [==============================] - 0s 37ms/step\n",
            "1/1 [==============================] - 0s 37ms/step\n",
            "1/1 [==============================] - 0s 41ms/step\n",
            "1/1 [==============================] - 0s 49ms/step\n",
            "1/1 [==============================] - 0s 37ms/step\n",
            "1/1 [==============================] - 0s 37ms/step\n",
            "1/1 [==============================] - 0s 31ms/step\n",
            "1/1 [==============================] - 0s 39ms/step\n",
            "1/1 [==============================] - 0s 34ms/step\n",
            "1/1 [==============================] - 0s 38ms/step\n",
            "1/1 [==============================] - 0s 42ms/step\n",
            "1/1 [==============================] - 0s 40ms/step\n"
          ]
        }
      ]
    },
    {
      "cell_type": "code",
      "source": [
        "curr_pred"
      ],
      "metadata": {
        "colab": {
          "base_uri": "https://localhost:8080/"
        },
        "id": "K-G--QHZl7QH",
        "outputId": "a028fbf1-4806-4341-9a1b-436058bef44a"
      },
      "execution_count": 37,
      "outputs": [
        {
          "output_type": "execute_result",
          "data": {
            "text/plain": [
              "array([0.58254796], dtype=float32)"
            ]
          },
          "metadata": {},
          "execution_count": 37
        }
      ]
    },
    {
      "cell_type": "code",
      "source": [
        "curr_batch"
      ],
      "metadata": {
        "colab": {
          "base_uri": "https://localhost:8080/"
        },
        "id": "YjbH4Q80mAMN",
        "outputId": "f61c4d2f-de5d-46ac-9999-cb856cd90a1c"
      },
      "execution_count": 38,
      "outputs": [
        {
          "output_type": "execute_result",
          "data": {
            "text/plain": [
              "array([[[0.58252949],\n",
              "        [0.58253539],\n",
              "        [0.58254033],\n",
              "        [0.58254439],\n",
              "        [0.58254761],\n",
              "        [0.58254981],\n",
              "        [0.58255118],\n",
              "        [0.58255166],\n",
              "        [0.58255154],\n",
              "        [0.58255082],\n",
              "        [0.58254957],\n",
              "        [0.58254796]]])"
            ]
          },
          "metadata": {},
          "execution_count": 38
        }
      ]
    },
    {
      "cell_type": "code",
      "source": [
        "curr_batch.shape"
      ],
      "metadata": {
        "colab": {
          "base_uri": "https://localhost:8080/"
        },
        "id": "R8aGez6VmDyP",
        "outputId": "1f993b19-6a2b-4b4e-dceb-04b079cb5ff6"
      },
      "execution_count": 39,
      "outputs": [
        {
          "output_type": "execute_result",
          "data": {
            "text/plain": [
              "(1, 12, 1)"
            ]
          },
          "metadata": {},
          "execution_count": 39
        }
      ]
    },
    {
      "cell_type": "code",
      "source": [
        "curr_pred"
      ],
      "metadata": {
        "colab": {
          "base_uri": "https://localhost:8080/"
        },
        "id": "djoiiVBdmIyb",
        "outputId": "fcd57720-8f24-4633-84e8-f2dbb5125f2d"
      },
      "execution_count": 40,
      "outputs": [
        {
          "output_type": "execute_result",
          "data": {
            "text/plain": [
              "array([0.58254796], dtype=float32)"
            ]
          },
          "metadata": {},
          "execution_count": 40
        }
      ]
    },
    {
      "cell_type": "code",
      "source": [
        "test_predictions"
      ],
      "metadata": {
        "colab": {
          "base_uri": "https://localhost:8080/"
        },
        "id": "OaypS4eSmLt_",
        "outputId": "3fc5fe92-6b9b-4030-d222-ec60bc8ac07f"
      },
      "execution_count": 41,
      "outputs": [
        {
          "output_type": "execute_result",
          "data": {
            "text/plain": [
              "[array([0.65542185], dtype=float32),\n",
              " array([0.651835], dtype=float32),\n",
              " array([0.64546114], dtype=float32),\n",
              " array([0.63808477], dtype=float32),\n",
              " array([0.6302425], dtype=float32),\n",
              " array([0.62231743], dtype=float32),\n",
              " array([0.61476874], dtype=float32),\n",
              " array([0.6075258], dtype=float32),\n",
              " array([0.6007853], dtype=float32),\n",
              " array([0.59438753], dtype=float32),\n",
              " array([0.58826125], dtype=float32),\n",
              " array([0.5827215], dtype=float32),\n",
              " array([0.57774824], dtype=float32),\n",
              " array([0.5734442], dtype=float32),\n",
              " array([0.569882], dtype=float32),\n",
              " array([0.5670497], dtype=float32),\n",
              " array([0.5649394], dtype=float32),\n",
              " array([0.563531], dtype=float32),\n",
              " array([0.5627705], dtype=float32),\n",
              " array([0.56259745], dtype=float32),\n",
              " array([0.5629413], dtype=float32),\n",
              " array([0.56372714], dtype=float32),\n",
              " array([0.56488055], dtype=float32),\n",
              " array([0.5663262], dtype=float32),\n",
              " array([0.5679923], dtype=float32),\n",
              " array([0.5698109], dtype=float32),\n",
              " array([0.5717186], dtype=float32),\n",
              " array([0.5736575], dtype=float32),\n",
              " array([0.5755777], dtype=float32),\n",
              " array([0.5774367], dtype=float32),\n",
              " array([0.57920283], dtype=float32),\n",
              " array([0.58084255], dtype=float32),\n",
              " array([0.58232534], dtype=float32),\n",
              " array([0.5836321], dtype=float32),\n",
              " array([0.58474994], dtype=float32),\n",
              " array([0.5856722], dtype=float32),\n",
              " array([0.5863986], dtype=float32),\n",
              " array([0.586934], dtype=float32),\n",
              " array([0.5872879], dtype=float32),\n",
              " array([0.5874735], dtype=float32),\n",
              " array([0.5875068], dtype=float32),\n",
              " array([0.58740544], dtype=float32),\n",
              " array([0.5871888], dtype=float32),\n",
              " array([0.58687633], dtype=float32),\n",
              " array([0.58648807], dtype=float32),\n",
              " array([0.58604324], dtype=float32),\n",
              " array([0.5855605], dtype=float32),\n",
              " array([0.58505714], dtype=float32),\n",
              " array([0.5845488], dtype=float32),\n",
              " array([0.5840496], dtype=float32),\n",
              " array([0.58357155], dtype=float32),\n",
              " array([0.58312476], dtype=float32),\n",
              " array([0.582717], dtype=float32),\n",
              " array([0.5823544], dtype=float32),\n",
              " array([0.5820409], dtype=float32),\n",
              " array([0.58177876], dtype=float32),\n",
              " array([0.5815685], dtype=float32),\n",
              " array([0.5814093], dtype=float32),\n",
              " array([0.581299], dtype=float32),\n",
              " array([0.5812346], dtype=float32),\n",
              " array([0.5812119], dtype=float32),\n",
              " array([0.58122665], dtype=float32),\n",
              " array([0.5812737], dtype=float32),\n",
              " array([0.5813478], dtype=float32),\n",
              " array([0.5814437], dtype=float32),\n",
              " array([0.5815563], dtype=float32),\n",
              " array([0.5816805], dtype=float32),\n",
              " array([0.5818116], dtype=float32),\n",
              " array([0.58194536], dtype=float32),\n",
              " array([0.58207774], dtype=float32),\n",
              " array([0.5822057], dtype=float32),\n",
              " array([0.58232635], dtype=float32),\n",
              " array([0.58243734], dtype=float32),\n",
              " array([0.58253706], dtype=float32),\n",
              " array([0.58262426], dtype=float32),\n",
              " array([0.5826981], dtype=float32),\n",
              " array([0.58275855], dtype=float32),\n",
              " array([0.5828055], dtype=float32),\n",
              " array([0.5828393], dtype=float32),\n",
              " array([0.5828608], dtype=float32),\n",
              " array([0.58287084], dtype=float32),\n",
              " array([0.58287066], dtype=float32),\n",
              " array([0.58286154], dtype=float32),\n",
              " array([0.58284473], dtype=float32),\n",
              " array([0.58282167], dtype=float32),\n",
              " array([0.58279365], dtype=float32),\n",
              " array([0.5827622], dtype=float32),\n",
              " array([0.5827284], dtype=float32),\n",
              " array([0.58269346], dtype=float32),\n",
              " array([0.5826585], dtype=float32),\n",
              " array([0.58262444], dtype=float32),\n",
              " array([0.58259207], dtype=float32),\n",
              " array([0.58256197], dtype=float32),\n",
              " array([0.58253473], dtype=float32),\n",
              " array([0.5825106], dtype=float32),\n",
              " array([0.58248985], dtype=float32),\n",
              " array([0.5824727], dtype=float32),\n",
              " array([0.582459], dtype=float32),\n",
              " array([0.5824488], dtype=float32),\n",
              " array([0.582442], dtype=float32),\n",
              " array([0.5824382], dtype=float32),\n",
              " array([0.5824371], dtype=float32),\n",
              " array([0.5824386], dtype=float32),\n",
              " array([0.5824422], dtype=float32),\n",
              " array([0.5824475], dtype=float32),\n",
              " array([0.5824544], dtype=float32),\n",
              " array([0.5824623], dtype=float32),\n",
              " array([0.5824709], dtype=float32),\n",
              " array([0.58248], dtype=float32),\n",
              " array([0.58248925], dtype=float32),\n",
              " array([0.5824984], dtype=float32),\n",
              " array([0.5825071], dtype=float32),\n",
              " array([0.58251524], dtype=float32),\n",
              " array([0.58252275], dtype=float32),\n",
              " array([0.5825295], dtype=float32),\n",
              " array([0.5825354], dtype=float32),\n",
              " array([0.58254033], dtype=float32),\n",
              " array([0.5825444], dtype=float32),\n",
              " array([0.5825476], dtype=float32),\n",
              " array([0.5825498], dtype=float32),\n",
              " array([0.5825512], dtype=float32),\n",
              " array([0.58255166], dtype=float32),\n",
              " array([0.58255154], dtype=float32),\n",
              " array([0.5825508], dtype=float32),\n",
              " array([0.5825496], dtype=float32),\n",
              " array([0.58254796], dtype=float32)]"
            ]
          },
          "metadata": {},
          "execution_count": 41
        }
      ]
    },
    {
      "cell_type": "code",
      "source": [
        "test.head()"
      ],
      "metadata": {
        "colab": {
          "base_uri": "https://localhost:8080/",
          "height": 238
        },
        "id": "sWlwUs4rmPPA",
        "outputId": "5e7cfc5e-e4a1-428a-f893-07ffe0c95ac0"
      },
      "execution_count": 42,
      "outputs": [
        {
          "output_type": "execute_result",
          "data": {
            "text/plain": [
              "            Asia Price\n",
              "Date                  \n",
              "2018-11-02       448.0\n",
              "2018-11-09       430.0\n",
              "2018-11-16       425.0\n",
              "2018-11-23       371.0\n",
              "2018-11-30       360.0"
            ],
            "text/html": [
              "\n",
              "  <div id=\"df-a1cc8850-0df1-49c9-8148-1e73161af380\">\n",
              "    <div class=\"colab-df-container\">\n",
              "      <div>\n",
              "<style scoped>\n",
              "    .dataframe tbody tr th:only-of-type {\n",
              "        vertical-align: middle;\n",
              "    }\n",
              "\n",
              "    .dataframe tbody tr th {\n",
              "        vertical-align: top;\n",
              "    }\n",
              "\n",
              "    .dataframe thead th {\n",
              "        text-align: right;\n",
              "    }\n",
              "</style>\n",
              "<table border=\"1\" class=\"dataframe\">\n",
              "  <thead>\n",
              "    <tr style=\"text-align: right;\">\n",
              "      <th></th>\n",
              "      <th>Asia Price</th>\n",
              "    </tr>\n",
              "    <tr>\n",
              "      <th>Date</th>\n",
              "      <th></th>\n",
              "    </tr>\n",
              "  </thead>\n",
              "  <tbody>\n",
              "    <tr>\n",
              "      <th>2018-11-02</th>\n",
              "      <td>448.0</td>\n",
              "    </tr>\n",
              "    <tr>\n",
              "      <th>2018-11-09</th>\n",
              "      <td>430.0</td>\n",
              "    </tr>\n",
              "    <tr>\n",
              "      <th>2018-11-16</th>\n",
              "      <td>425.0</td>\n",
              "    </tr>\n",
              "    <tr>\n",
              "      <th>2018-11-23</th>\n",
              "      <td>371.0</td>\n",
              "    </tr>\n",
              "    <tr>\n",
              "      <th>2018-11-30</th>\n",
              "      <td>360.0</td>\n",
              "    </tr>\n",
              "  </tbody>\n",
              "</table>\n",
              "</div>\n",
              "      <button class=\"colab-df-convert\" onclick=\"convertToInteractive('df-a1cc8850-0df1-49c9-8148-1e73161af380')\"\n",
              "              title=\"Convert this dataframe to an interactive table.\"\n",
              "              style=\"display:none;\">\n",
              "        \n",
              "  <svg xmlns=\"http://www.w3.org/2000/svg\" height=\"24px\"viewBox=\"0 0 24 24\"\n",
              "       width=\"24px\">\n",
              "    <path d=\"M0 0h24v24H0V0z\" fill=\"none\"/>\n",
              "    <path d=\"M18.56 5.44l.94 2.06.94-2.06 2.06-.94-2.06-.94-.94-2.06-.94 2.06-2.06.94zm-11 1L8.5 8.5l.94-2.06 2.06-.94-2.06-.94L8.5 2.5l-.94 2.06-2.06.94zm10 10l.94 2.06.94-2.06 2.06-.94-2.06-.94-.94-2.06-.94 2.06-2.06.94z\"/><path d=\"M17.41 7.96l-1.37-1.37c-.4-.4-.92-.59-1.43-.59-.52 0-1.04.2-1.43.59L10.3 9.45l-7.72 7.72c-.78.78-.78 2.05 0 2.83L4 21.41c.39.39.9.59 1.41.59.51 0 1.02-.2 1.41-.59l7.78-7.78 2.81-2.81c.8-.78.8-2.07 0-2.86zM5.41 20L4 18.59l7.72-7.72 1.47 1.35L5.41 20z\"/>\n",
              "  </svg>\n",
              "      </button>\n",
              "      \n",
              "  <style>\n",
              "    .colab-df-container {\n",
              "      display:flex;\n",
              "      flex-wrap:wrap;\n",
              "      gap: 12px;\n",
              "    }\n",
              "\n",
              "    .colab-df-convert {\n",
              "      background-color: #E8F0FE;\n",
              "      border: none;\n",
              "      border-radius: 50%;\n",
              "      cursor: pointer;\n",
              "      display: none;\n",
              "      fill: #1967D2;\n",
              "      height: 32px;\n",
              "      padding: 0 0 0 0;\n",
              "      width: 32px;\n",
              "    }\n",
              "\n",
              "    .colab-df-convert:hover {\n",
              "      background-color: #E2EBFA;\n",
              "      box-shadow: 0px 1px 2px rgba(60, 64, 67, 0.3), 0px 1px 3px 1px rgba(60, 64, 67, 0.15);\n",
              "      fill: #174EA6;\n",
              "    }\n",
              "\n",
              "    [theme=dark] .colab-df-convert {\n",
              "      background-color: #3B4455;\n",
              "      fill: #D2E3FC;\n",
              "    }\n",
              "\n",
              "    [theme=dark] .colab-df-convert:hover {\n",
              "      background-color: #434B5C;\n",
              "      box-shadow: 0px 1px 3px 1px rgba(0, 0, 0, 0.15);\n",
              "      filter: drop-shadow(0px 1px 2px rgba(0, 0, 0, 0.3));\n",
              "      fill: #FFFFFF;\n",
              "    }\n",
              "  </style>\n",
              "\n",
              "      <script>\n",
              "        const buttonEl =\n",
              "          document.querySelector('#df-a1cc8850-0df1-49c9-8148-1e73161af380 button.colab-df-convert');\n",
              "        buttonEl.style.display =\n",
              "          google.colab.kernel.accessAllowed ? 'block' : 'none';\n",
              "\n",
              "        async function convertToInteractive(key) {\n",
              "          const element = document.querySelector('#df-a1cc8850-0df1-49c9-8148-1e73161af380');\n",
              "          const dataTable =\n",
              "            await google.colab.kernel.invokeFunction('convertToInteractive',\n",
              "                                                     [key], {});\n",
              "          if (!dataTable) return;\n",
              "\n",
              "          const docLinkHtml = 'Like what you see? Visit the ' +\n",
              "            '<a target=\"_blank\" href=https://colab.research.google.com/notebooks/data_table.ipynb>data table notebook</a>'\n",
              "            + ' to learn more about interactive tables.';\n",
              "          element.innerHTML = '';\n",
              "          dataTable['output_type'] = 'display_data';\n",
              "          await google.colab.output.renderOutput(dataTable, element);\n",
              "          const docLink = document.createElement('div');\n",
              "          docLink.innerHTML = docLinkHtml;\n",
              "          element.appendChild(docLink);\n",
              "        }\n",
              "      </script>\n",
              "    </div>\n",
              "  </div>\n",
              "  "
            ]
          },
          "metadata": {},
          "execution_count": 42
        }
      ]
    },
    {
      "cell_type": "markdown",
      "source": [
        "SCALING VALUES BACK TO ORIGINAL UNITS"
      ],
      "metadata": {
        "id": "3-VjN-vYmUa1"
      }
    },
    {
      "cell_type": "code",
      "source": [
        "true_predictions=scaler.inverse_transform(test_predictions)"
      ],
      "metadata": {
        "id": "ZWc8YB7kmU77"
      },
      "execution_count": 43,
      "outputs": []
    },
    {
      "cell_type": "code",
      "source": [
        "test['Predictions']=true_predictions"
      ],
      "metadata": {
        "colab": {
          "base_uri": "https://localhost:8080/"
        },
        "id": "n9jWcCCumanS",
        "outputId": "fa979fb2-c7d9-4fbe-b243-bd876d10b012"
      },
      "execution_count": 44,
      "outputs": [
        {
          "output_type": "stream",
          "name": "stderr",
          "text": [
            "<ipython-input-44-37e263692d24>:1: SettingWithCopyWarning: \n",
            "A value is trying to be set on a copy of a slice from a DataFrame.\n",
            "Try using .loc[row_indexer,col_indexer] = value instead\n",
            "\n",
            "See the caveats in the documentation: https://pandas.pydata.org/pandas-docs/stable/user_guide/indexing.html#returning-a-view-versus-a-copy\n",
            "  test['Predictions']=true_predictions\n"
          ]
        }
      ]
    },
    {
      "cell_type": "markdown",
      "source": [
        "ACTUAL VALUES VS PREDICTED VALUES OF ASIA PRICE"
      ],
      "metadata": {
        "id": "S-h9ujyQmimi"
      }
    },
    {
      "cell_type": "code",
      "source": [
        "test.head()"
      ],
      "metadata": {
        "colab": {
          "base_uri": "https://localhost:8080/",
          "height": 238
        },
        "id": "L9P4EmnLmkg4",
        "outputId": "bd163341-8311-4536-fde0-ea94a0826231"
      },
      "execution_count": 45,
      "outputs": [
        {
          "output_type": "execute_result",
          "data": {
            "text/plain": [
              "            Asia Price  Predictions\n",
              "Date                               \n",
              "2018-11-02       448.0   453.216943\n",
              "2018-11-09       430.0   451.584936\n",
              "2018-11-16       425.0   448.684820\n",
              "2018-11-23       371.0   445.328570\n",
              "2018-11-30       360.0   441.760350"
            ],
            "text/html": [
              "\n",
              "  <div id=\"df-b9519f83-2044-42f7-b2ee-18d49884655b\">\n",
              "    <div class=\"colab-df-container\">\n",
              "      <div>\n",
              "<style scoped>\n",
              "    .dataframe tbody tr th:only-of-type {\n",
              "        vertical-align: middle;\n",
              "    }\n",
              "\n",
              "    .dataframe tbody tr th {\n",
              "        vertical-align: top;\n",
              "    }\n",
              "\n",
              "    .dataframe thead th {\n",
              "        text-align: right;\n",
              "    }\n",
              "</style>\n",
              "<table border=\"1\" class=\"dataframe\">\n",
              "  <thead>\n",
              "    <tr style=\"text-align: right;\">\n",
              "      <th></th>\n",
              "      <th>Asia Price</th>\n",
              "      <th>Predictions</th>\n",
              "    </tr>\n",
              "    <tr>\n",
              "      <th>Date</th>\n",
              "      <th></th>\n",
              "      <th></th>\n",
              "    </tr>\n",
              "  </thead>\n",
              "  <tbody>\n",
              "    <tr>\n",
              "      <th>2018-11-02</th>\n",
              "      <td>448.0</td>\n",
              "      <td>453.216943</td>\n",
              "    </tr>\n",
              "    <tr>\n",
              "      <th>2018-11-09</th>\n",
              "      <td>430.0</td>\n",
              "      <td>451.584936</td>\n",
              "    </tr>\n",
              "    <tr>\n",
              "      <th>2018-11-16</th>\n",
              "      <td>425.0</td>\n",
              "      <td>448.684820</td>\n",
              "    </tr>\n",
              "    <tr>\n",
              "      <th>2018-11-23</th>\n",
              "      <td>371.0</td>\n",
              "      <td>445.328570</td>\n",
              "    </tr>\n",
              "    <tr>\n",
              "      <th>2018-11-30</th>\n",
              "      <td>360.0</td>\n",
              "      <td>441.760350</td>\n",
              "    </tr>\n",
              "  </tbody>\n",
              "</table>\n",
              "</div>\n",
              "      <button class=\"colab-df-convert\" onclick=\"convertToInteractive('df-b9519f83-2044-42f7-b2ee-18d49884655b')\"\n",
              "              title=\"Convert this dataframe to an interactive table.\"\n",
              "              style=\"display:none;\">\n",
              "        \n",
              "  <svg xmlns=\"http://www.w3.org/2000/svg\" height=\"24px\"viewBox=\"0 0 24 24\"\n",
              "       width=\"24px\">\n",
              "    <path d=\"M0 0h24v24H0V0z\" fill=\"none\"/>\n",
              "    <path d=\"M18.56 5.44l.94 2.06.94-2.06 2.06-.94-2.06-.94-.94-2.06-.94 2.06-2.06.94zm-11 1L8.5 8.5l.94-2.06 2.06-.94-2.06-.94L8.5 2.5l-.94 2.06-2.06.94zm10 10l.94 2.06.94-2.06 2.06-.94-2.06-.94-.94-2.06-.94 2.06-2.06.94z\"/><path d=\"M17.41 7.96l-1.37-1.37c-.4-.4-.92-.59-1.43-.59-.52 0-1.04.2-1.43.59L10.3 9.45l-7.72 7.72c-.78.78-.78 2.05 0 2.83L4 21.41c.39.39.9.59 1.41.59.51 0 1.02-.2 1.41-.59l7.78-7.78 2.81-2.81c.8-.78.8-2.07 0-2.86zM5.41 20L4 18.59l7.72-7.72 1.47 1.35L5.41 20z\"/>\n",
              "  </svg>\n",
              "      </button>\n",
              "      \n",
              "  <style>\n",
              "    .colab-df-container {\n",
              "      display:flex;\n",
              "      flex-wrap:wrap;\n",
              "      gap: 12px;\n",
              "    }\n",
              "\n",
              "    .colab-df-convert {\n",
              "      background-color: #E8F0FE;\n",
              "      border: none;\n",
              "      border-radius: 50%;\n",
              "      cursor: pointer;\n",
              "      display: none;\n",
              "      fill: #1967D2;\n",
              "      height: 32px;\n",
              "      padding: 0 0 0 0;\n",
              "      width: 32px;\n",
              "    }\n",
              "\n",
              "    .colab-df-convert:hover {\n",
              "      background-color: #E2EBFA;\n",
              "      box-shadow: 0px 1px 2px rgba(60, 64, 67, 0.3), 0px 1px 3px 1px rgba(60, 64, 67, 0.15);\n",
              "      fill: #174EA6;\n",
              "    }\n",
              "\n",
              "    [theme=dark] .colab-df-convert {\n",
              "      background-color: #3B4455;\n",
              "      fill: #D2E3FC;\n",
              "    }\n",
              "\n",
              "    [theme=dark] .colab-df-convert:hover {\n",
              "      background-color: #434B5C;\n",
              "      box-shadow: 0px 1px 3px 1px rgba(0, 0, 0, 0.15);\n",
              "      filter: drop-shadow(0px 1px 2px rgba(0, 0, 0, 0.3));\n",
              "      fill: #FFFFFF;\n",
              "    }\n",
              "  </style>\n",
              "\n",
              "      <script>\n",
              "        const buttonEl =\n",
              "          document.querySelector('#df-b9519f83-2044-42f7-b2ee-18d49884655b button.colab-df-convert');\n",
              "        buttonEl.style.display =\n",
              "          google.colab.kernel.accessAllowed ? 'block' : 'none';\n",
              "\n",
              "        async function convertToInteractive(key) {\n",
              "          const element = document.querySelector('#df-b9519f83-2044-42f7-b2ee-18d49884655b');\n",
              "          const dataTable =\n",
              "            await google.colab.kernel.invokeFunction('convertToInteractive',\n",
              "                                                     [key], {});\n",
              "          if (!dataTable) return;\n",
              "\n",
              "          const docLinkHtml = 'Like what you see? Visit the ' +\n",
              "            '<a target=\"_blank\" href=https://colab.research.google.com/notebooks/data_table.ipynb>data table notebook</a>'\n",
              "            + ' to learn more about interactive tables.';\n",
              "          element.innerHTML = '';\n",
              "          dataTable['output_type'] = 'display_data';\n",
              "          await google.colab.output.renderOutput(dataTable, element);\n",
              "          const docLink = document.createElement('div');\n",
              "          docLink.innerHTML = docLinkHtml;\n",
              "          element.appendChild(docLink);\n",
              "        }\n",
              "      </script>\n",
              "    </div>\n",
              "  </div>\n",
              "  "
            ]
          },
          "metadata": {},
          "execution_count": 45
        }
      ]
    },
    {
      "cell_type": "code",
      "source": [
        "test.plot()"
      ],
      "metadata": {
        "colab": {
          "base_uri": "https://localhost:8080/",
          "height": 451
        },
        "id": "TXUF3Atmmq8U",
        "outputId": "20540a40-f727-411b-f81c-d6d9adbf94fa"
      },
      "execution_count": 46,
      "outputs": [
        {
          "output_type": "execute_result",
          "data": {
            "text/plain": [
              "<Axes: xlabel='Date'>"
            ]
          },
          "metadata": {},
          "execution_count": 46
        },
        {
          "output_type": "display_data",
          "data": {
            "text/plain": [
              "<Figure size 640x480 with 1 Axes>"
            ],
            "image/png": "[encoded data removed]"
          },
          "metadata": {}
        }
      ]
    },
    {
      "cell_type": "markdown",
      "source": [
        "CALCULATING ROOT MEAN SQUARE ERROR"
      ],
      "metadata": {
        "id": "8hHQdCJamvUF"
      }
    },
    {
      "cell_type": "code",
      "source": [
        "from sklearn.metrics import mean_squared_error\n",
        "from math import sqrt\n",
        "\n",
        "error=sqrt(mean_squared_error(test['Asia Price'],test['Predictions']))\n",
        "\n",
        "print(error)"
      ],
      "metadata": {
        "colab": {
          "base_uri": "https://localhost:8080/"
        },
        "id": "JxLverS5mv8e",
        "outputId": "cfc4e6ce-90bd-45bc-edd3-28a96e34c3cc"
      },
      "execution_count": 49,
      "outputs": [
        {
          "output_type": "stream",
          "name": "stdout",
          "text": [
            "148.61285795136106\n"
          ]
        }
      ]
    },
    {
      "cell_type": "code",
      "source": [
        "# Calculate range of test set\n",
        "range_test = test.max() - test.min()\n",
        "\n",
        "# Calculate Normalized RMSE\n",
        "normalized_rmse = error / range_test\n",
        "\n",
        "print(normalized_rmse)"
      ],
      "metadata": {
        "colab": {
          "base_uri": "https://localhost:8080/"
        },
        "id": "XFPjHdcJnO1L",
        "outputId": "37dbe8bc-d6ee-477f-bbcd-e23dcf3280c1"
      },
      "execution_count": 53,
      "outputs": [
        {
          "output_type": "stream",
          "name": "stdout",
          "text": [
            "Asia Price     0.540410\n",
            "Predictions    3.518705\n",
            "dtype: float64\n"
          ]
        }
      ]
    }
  ]
}