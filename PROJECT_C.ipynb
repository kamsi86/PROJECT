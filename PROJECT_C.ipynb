{
  "nbformat": 4,
  "nbformat_minor": 0,
  "metadata": {
    "colab": {
      "provenance": []
    },
    "kernelspec": {
      "name": "python3",
      "display_name": "Python 3"
    },
    "language_info": {
      "name": "python"
    }
  },
  "cells": [
    {
      "cell_type": "markdown",
      "source": [
        "\n",
        "# **IN THIS NOTEBOOK I WILL PERFORM MULTIVARIATE TIME SERIES ANALYSIS USING THE LSTM (LONG-SHORT TERM MEMORY).**"
      ],
      "metadata": {
        "id": "VDmkCsPzqmGO"
      }
    },
    {
      "cell_type": "code",
      "execution_count": 1,
      "metadata": {
        "id": "dqZTErjCqhks"
      },
      "outputs": [],
      "source": [
        "#Importing libraries\n",
        "import pandas as pd # dataframes data processing\n",
        "import numpy as np #working with arrays\n",
        "import matplotlib as mpl # visualisation\n",
        "import matplotlib.pyplot as plt\n",
        "from sklearn.model_selection import train_test_split #splitting into training and testing data\n",
        "from keras.preprocessing.sequence import TimeseriesGenerator # creation of time series model and data preprocessing\n",
        "from sklearn.preprocessing import MinMaxScaler , StandardScaler # Scaling values within a range\n",
        "import tensorflow as tf #working with neural networks\n",
        "import numpy as np"
      ]
    },
    {
      "cell_type": "markdown",
      "source": [
        "IMPORTING DATASET"
      ],
      "metadata": {
        "id": "bL1CuzLJBHpA"
      }
    },
    {
      "cell_type": "code",
      "source": [
        "#Converting date column of object type to date column of date type\n",
        "dateparse= lambda dates: pd.datetime.strptime(dates,'%d-%m-%Y')\n",
        "data=pd.read_csv('MAster_methanol.csv',parse_dates=['Date'],date_parser=dateparse,usecols=['Date','India Price','Asia Price','Rotterdam Price','US Domestic Price'])"
      ],
      "metadata": {
        "colab": {
          "base_uri": "https://localhost:8080/"
        },
        "id": "Gt3pe_9GBIBz",
        "outputId": "f615c74f-c659-446a-ed3e-bc0048f8bcbc"
      },
      "execution_count": 2,
      "outputs": [
        {
          "output_type": "stream",
          "name": "stderr",
          "text": [
            "<ipython-input-2-ec016fa0679a>:2: FutureWarning: The pandas.datetime class is deprecated and will be removed from pandas in a future version. Import from datetime module instead.\n",
            "  dateparse= lambda dates: pd.datetime.strptime(dates,'%d-%m-%Y')\n"
          ]
        }
      ]
    },
    {
      "cell_type": "code",
      "source": [
        "#data.dtypes\n",
        "data.index=pd.to_datetime(data['Date'],format='%d-%m-%Y')"
      ],
      "metadata": {
        "id": "ZA2sLJjPBv_5"
      },
      "execution_count": 3,
      "outputs": []
    },
    {
      "cell_type": "code",
      "source": [
        "data.head()"
      ],
      "metadata": {
        "colab": {
          "base_uri": "https://localhost:8080/",
          "height": 238
        },
        "id": "8JZQHEGKBybx",
        "outputId": "9eaacc38-ad62-46eb-8720-6ebe4f6dffb5"
      },
      "execution_count": 4,
      "outputs": [
        {
          "output_type": "execute_result",
          "data": {
            "text/plain": [
              "                 Date  India Price  Asia Price  Rotterdam Price  \\\n",
              "Date                                                              \n",
              "2005-10-07 2005-10-07        240.0       232.5            210.4   \n",
              "2005-10-14 2005-10-14        240.0       232.5            213.5   \n",
              "2005-10-21 2005-10-21        242.5       235.0            214.0   \n",
              "2005-10-28 2005-10-28        242.5       232.5            213.0   \n",
              "2005-11-04 2005-11-04        250.0       242.5            215.5   \n",
              "\n",
              "            US Domestic Price  \n",
              "Date                           \n",
              "2005-10-07              84.63  \n",
              "2005-10-14              81.00  \n",
              "2005-10-21              81.00  \n",
              "2005-10-28              84.63  \n",
              "2005-11-04              86.45  "
            ],
            "text/html": [
              "\n",
              "  <div id=\"df-f66c4acf-d062-4e4c-bcc6-b2364ce1c900\">\n",
              "    <div class=\"colab-df-container\">\n",
              "      <div>\n",
              "<style scoped>\n",
              "    .dataframe tbody tr th:only-of-type {\n",
              "        vertical-align: middle;\n",
              "    }\n",
              "\n",
              "    .dataframe tbody tr th {\n",
              "        vertical-align: top;\n",
              "    }\n",
              "\n",
              "    .dataframe thead th {\n",
              "        text-align: right;\n",
              "    }\n",
              "</style>\n",
              "<table border=\"1\" class=\"dataframe\">\n",
              "  <thead>\n",
              "    <tr style=\"text-align: right;\">\n",
              "      <th></th>\n",
              "      <th>Date</th>\n",
              "      <th>India Price</th>\n",
              "      <th>Asia Price</th>\n",
              "      <th>Rotterdam Price</th>\n",
              "      <th>US Domestic Price</th>\n",
              "    </tr>\n",
              "    <tr>\n",
              "      <th>Date</th>\n",
              "      <th></th>\n",
              "      <th></th>\n",
              "      <th></th>\n",
              "      <th></th>\n",
              "      <th></th>\n",
              "    </tr>\n",
              "  </thead>\n",
              "  <tbody>\n",
              "    <tr>\n",
              "      <th>2005-10-07</th>\n",
              "      <td>2005-10-07</td>\n",
              "      <td>240.0</td>\n",
              "      <td>232.5</td>\n",
              "      <td>210.4</td>\n",
              "      <td>84.63</td>\n",
              "    </tr>\n",
              "    <tr>\n",
              "      <th>2005-10-14</th>\n",
              "      <td>2005-10-14</td>\n",
              "      <td>240.0</td>\n",
              "      <td>232.5</td>\n",
              "      <td>213.5</td>\n",
              "      <td>81.00</td>\n",
              "    </tr>\n",
              "    <tr>\n",
              "      <th>2005-10-21</th>\n",
              "      <td>2005-10-21</td>\n",
              "      <td>242.5</td>\n",
              "      <td>235.0</td>\n",
              "      <td>214.0</td>\n",
              "      <td>81.00</td>\n",
              "    </tr>\n",
              "    <tr>\n",
              "      <th>2005-10-28</th>\n",
              "      <td>2005-10-28</td>\n",
              "      <td>242.5</td>\n",
              "      <td>232.5</td>\n",
              "      <td>213.0</td>\n",
              "      <td>84.63</td>\n",
              "    </tr>\n",
              "    <tr>\n",
              "      <th>2005-11-04</th>\n",
              "      <td>2005-11-04</td>\n",
              "      <td>250.0</td>\n",
              "      <td>242.5</td>\n",
              "      <td>215.5</td>\n",
              "      <td>86.45</td>\n",
              "    </tr>\n",
              "  </tbody>\n",
              "</table>\n",
              "</div>\n",
              "      <button class=\"colab-df-convert\" onclick=\"convertToInteractive('df-f66c4acf-d062-4e4c-bcc6-b2364ce1c900')\"\n",
              "              title=\"Convert this dataframe to an interactive table.\"\n",
              "              style=\"display:none;\">\n",
              "        \n",
              "  <svg xmlns=\"http://www.w3.org/2000/svg\" height=\"24px\"viewBox=\"0 0 24 24\"\n",
              "       width=\"24px\">\n",
              "    <path d=\"M0 0h24v24H0V0z\" fill=\"none\"/>\n",
              "    <path d=\"M18.56 5.44l.94 2.06.94-2.06 2.06-.94-2.06-.94-.94-2.06-.94 2.06-2.06.94zm-11 1L8.5 8.5l.94-2.06 2.06-.94-2.06-.94L8.5 2.5l-.94 2.06-2.06.94zm10 10l.94 2.06.94-2.06 2.06-.94-2.06-.94-.94-2.06-.94 2.06-2.06.94z\"/><path d=\"M17.41 7.96l-1.37-1.37c-.4-.4-.92-.59-1.43-.59-.52 0-1.04.2-1.43.59L10.3 9.45l-7.72 7.72c-.78.78-.78 2.05 0 2.83L4 21.41c.39.39.9.59 1.41.59.51 0 1.02-.2 1.41-.59l7.78-7.78 2.81-2.81c.8-.78.8-2.07 0-2.86zM5.41 20L4 18.59l7.72-7.72 1.47 1.35L5.41 20z\"/>\n",
              "  </svg>\n",
              "      </button>\n",
              "      \n",
              "  <style>\n",
              "    .colab-df-container {\n",
              "      display:flex;\n",
              "      flex-wrap:wrap;\n",
              "      gap: 12px;\n",
              "    }\n",
              "\n",
              "    .colab-df-convert {\n",
              "      background-color: #E8F0FE;\n",
              "      border: none;\n",
              "      border-radius: 50%;\n",
              "      cursor: pointer;\n",
              "      display: none;\n",
              "      fill: #1967D2;\n",
              "      height: 32px;\n",
              "      padding: 0 0 0 0;\n",
              "      width: 32px;\n",
              "    }\n",
              "\n",
              "    .colab-df-convert:hover {\n",
              "      background-color: #E2EBFA;\n",
              "      box-shadow: 0px 1px 2px rgba(60, 64, 67, 0.3), 0px 1px 3px 1px rgba(60, 64, 67, 0.15);\n",
              "      fill: #174EA6;\n",
              "    }\n",
              "\n",
              "    [theme=dark] .colab-df-convert {\n",
              "      background-color: #3B4455;\n",
              "      fill: #D2E3FC;\n",
              "    }\n",
              "\n",
              "    [theme=dark] .colab-df-convert:hover {\n",
              "      background-color: #434B5C;\n",
              "      box-shadow: 0px 1px 3px 1px rgba(0, 0, 0, 0.15);\n",
              "      filter: drop-shadow(0px 1px 2px rgba(0, 0, 0, 0.3));\n",
              "      fill: #FFFFFF;\n",
              "    }\n",
              "  </style>\n",
              "\n",
              "      <script>\n",
              "        const buttonEl =\n",
              "          document.querySelector('#df-f66c4acf-d062-4e4c-bcc6-b2364ce1c900 button.colab-df-convert');\n",
              "        buttonEl.style.display =\n",
              "          google.colab.kernel.accessAllowed ? 'block' : 'none';\n",
              "\n",
              "        async function convertToInteractive(key) {\n",
              "          const element = document.querySelector('#df-f66c4acf-d062-4e4c-bcc6-b2364ce1c900');\n",
              "          const dataTable =\n",
              "            await google.colab.kernel.invokeFunction('convertToInteractive',\n",
              "                                                     [key], {});\n",
              "          if (!dataTable) return;\n",
              "\n",
              "          const docLinkHtml = 'Like what you see? Visit the ' +\n",
              "            '<a target=\"_blank\" href=https://colab.research.google.com/notebooks/data_table.ipynb>data table notebook</a>'\n",
              "            + ' to learn more about interactive tables.';\n",
              "          element.innerHTML = '';\n",
              "          dataTable['output_type'] = 'display_data';\n",
              "          await google.colab.output.renderOutput(dataTable, element);\n",
              "          const docLink = document.createElement('div');\n",
              "          docLink.innerHTML = docLinkHtml;\n",
              "          element.appendChild(docLink);\n",
              "        }\n",
              "      </script>\n",
              "    </div>\n",
              "  </div>\n",
              "  "
            ]
          },
          "metadata": {},
          "execution_count": 4
        }
      ]
    },
    {
      "cell_type": "code",
      "source": [
        "del data['Date']"
      ],
      "metadata": {
        "id": "Wot-yYocB1kQ"
      },
      "execution_count": 5,
      "outputs": []
    },
    {
      "cell_type": "code",
      "source": [
        "data.head()"
      ],
      "metadata": {
        "colab": {
          "base_uri": "https://localhost:8080/",
          "height": 238
        },
        "id": "0PDI4pU4B2Ad",
        "outputId": "828c9dbe-6c36-42de-97fb-63bf35121756"
      },
      "execution_count": 6,
      "outputs": [
        {
          "output_type": "execute_result",
          "data": {
            "text/plain": [
              "            India Price  Asia Price  Rotterdam Price  US Domestic Price\n",
              "Date                                                                   \n",
              "2005-10-07        240.0       232.5            210.4              84.63\n",
              "2005-10-14        240.0       232.5            213.5              81.00\n",
              "2005-10-21        242.5       235.0            214.0              81.00\n",
              "2005-10-28        242.5       232.5            213.0              84.63\n",
              "2005-11-04        250.0       242.5            215.5              86.45"
            ],
            "text/html": [
              "\n",
              "  <div id=\"df-dd9fa63c-0e47-4e48-bf4c-02b8445df00e\">\n",
              "    <div class=\"colab-df-container\">\n",
              "      <div>\n",
              "<style scoped>\n",
              "    .dataframe tbody tr th:only-of-type {\n",
              "        vertical-align: middle;\n",
              "    }\n",
              "\n",
              "    .dataframe tbody tr th {\n",
              "        vertical-align: top;\n",
              "    }\n",
              "\n",
              "    .dataframe thead th {\n",
              "        text-align: right;\n",
              "    }\n",
              "</style>\n",
              "<table border=\"1\" class=\"dataframe\">\n",
              "  <thead>\n",
              "    <tr style=\"text-align: right;\">\n",
              "      <th></th>\n",
              "      <th>India Price</th>\n",
              "      <th>Asia Price</th>\n",
              "      <th>Rotterdam Price</th>\n",
              "      <th>US Domestic Price</th>\n",
              "    </tr>\n",
              "    <tr>\n",
              "      <th>Date</th>\n",
              "      <th></th>\n",
              "      <th></th>\n",
              "      <th></th>\n",
              "      <th></th>\n",
              "    </tr>\n",
              "  </thead>\n",
              "  <tbody>\n",
              "    <tr>\n",
              "      <th>2005-10-07</th>\n",
              "      <td>240.0</td>\n",
              "      <td>232.5</td>\n",
              "      <td>210.4</td>\n",
              "      <td>84.63</td>\n",
              "    </tr>\n",
              "    <tr>\n",
              "      <th>2005-10-14</th>\n",
              "      <td>240.0</td>\n",
              "      <td>232.5</td>\n",
              "      <td>213.5</td>\n",
              "      <td>81.00</td>\n",
              "    </tr>\n",
              "    <tr>\n",
              "      <th>2005-10-21</th>\n",
              "      <td>242.5</td>\n",
              "      <td>235.0</td>\n",
              "      <td>214.0</td>\n",
              "      <td>81.00</td>\n",
              "    </tr>\n",
              "    <tr>\n",
              "      <th>2005-10-28</th>\n",
              "      <td>242.5</td>\n",
              "      <td>232.5</td>\n",
              "      <td>213.0</td>\n",
              "      <td>84.63</td>\n",
              "    </tr>\n",
              "    <tr>\n",
              "      <th>2005-11-04</th>\n",
              "      <td>250.0</td>\n",
              "      <td>242.5</td>\n",
              "      <td>215.5</td>\n",
              "      <td>86.45</td>\n",
              "    </tr>\n",
              "  </tbody>\n",
              "</table>\n",
              "</div>\n",
              "      <button class=\"colab-df-convert\" onclick=\"convertToInteractive('df-dd9fa63c-0e47-4e48-bf4c-02b8445df00e')\"\n",
              "              title=\"Convert this dataframe to an interactive table.\"\n",
              "              style=\"display:none;\">\n",
              "        \n",
              "  <svg xmlns=\"http://www.w3.org/2000/svg\" height=\"24px\"viewBox=\"0 0 24 24\"\n",
              "       width=\"24px\">\n",
              "    <path d=\"M0 0h24v24H0V0z\" fill=\"none\"/>\n",
              "    <path d=\"M18.56 5.44l.94 2.06.94-2.06 2.06-.94-2.06-.94-.94-2.06-.94 2.06-2.06.94zm-11 1L8.5 8.5l.94-2.06 2.06-.94-2.06-.94L8.5 2.5l-.94 2.06-2.06.94zm10 10l.94 2.06.94-2.06 2.06-.94-2.06-.94-.94-2.06-.94 2.06-2.06.94z\"/><path d=\"M17.41 7.96l-1.37-1.37c-.4-.4-.92-.59-1.43-.59-.52 0-1.04.2-1.43.59L10.3 9.45l-7.72 7.72c-.78.78-.78 2.05 0 2.83L4 21.41c.39.39.9.59 1.41.59.51 0 1.02-.2 1.41-.59l7.78-7.78 2.81-2.81c.8-.78.8-2.07 0-2.86zM5.41 20L4 18.59l7.72-7.72 1.47 1.35L5.41 20z\"/>\n",
              "  </svg>\n",
              "      </button>\n",
              "      \n",
              "  <style>\n",
              "    .colab-df-container {\n",
              "      display:flex;\n",
              "      flex-wrap:wrap;\n",
              "      gap: 12px;\n",
              "    }\n",
              "\n",
              "    .colab-df-convert {\n",
              "      background-color: #E8F0FE;\n",
              "      border: none;\n",
              "      border-radius: 50%;\n",
              "      cursor: pointer;\n",
              "      display: none;\n",
              "      fill: #1967D2;\n",
              "      height: 32px;\n",
              "      padding: 0 0 0 0;\n",
              "      width: 32px;\n",
              "    }\n",
              "\n",
              "    .colab-df-convert:hover {\n",
              "      background-color: #E2EBFA;\n",
              "      box-shadow: 0px 1px 2px rgba(60, 64, 67, 0.3), 0px 1px 3px 1px rgba(60, 64, 67, 0.15);\n",
              "      fill: #174EA6;\n",
              "    }\n",
              "\n",
              "    [theme=dark] .colab-df-convert {\n",
              "      background-color: #3B4455;\n",
              "      fill: #D2E3FC;\n",
              "    }\n",
              "\n",
              "    [theme=dark] .colab-df-convert:hover {\n",
              "      background-color: #434B5C;\n",
              "      box-shadow: 0px 1px 3px 1px rgba(0, 0, 0, 0.15);\n",
              "      filter: drop-shadow(0px 1px 2px rgba(0, 0, 0, 0.3));\n",
              "      fill: #FFFFFF;\n",
              "    }\n",
              "  </style>\n",
              "\n",
              "      <script>\n",
              "        const buttonEl =\n",
              "          document.querySelector('#df-dd9fa63c-0e47-4e48-bf4c-02b8445df00e button.colab-df-convert');\n",
              "        buttonEl.style.display =\n",
              "          google.colab.kernel.accessAllowed ? 'block' : 'none';\n",
              "\n",
              "        async function convertToInteractive(key) {\n",
              "          const element = document.querySelector('#df-dd9fa63c-0e47-4e48-bf4c-02b8445df00e');\n",
              "          const dataTable =\n",
              "            await google.colab.kernel.invokeFunction('convertToInteractive',\n",
              "                                                     [key], {});\n",
              "          if (!dataTable) return;\n",
              "\n",
              "          const docLinkHtml = 'Like what you see? Visit the ' +\n",
              "            '<a target=\"_blank\" href=https://colab.research.google.com/notebooks/data_table.ipynb>data table notebook</a>'\n",
              "            + ' to learn more about interactive tables.';\n",
              "          element.innerHTML = '';\n",
              "          dataTable['output_type'] = 'display_data';\n",
              "          await google.colab.output.renderOutput(dataTable, element);\n",
              "          const docLink = document.createElement('div');\n",
              "          docLink.innerHTML = docLinkHtml;\n",
              "          element.appendChild(docLink);\n",
              "        }\n",
              "      </script>\n",
              "    </div>\n",
              "  </div>\n",
              "  "
            ]
          },
          "metadata": {},
          "execution_count": 6
        }
      ]
    },
    {
      "cell_type": "markdown",
      "source": [
        "SPLITTING DATA INTO TRAIN AND TEST SETS"
      ],
      "metadata": {
        "id": "f6Ot-2aeB7G-"
      }
    },
    {
      "cell_type": "code",
      "source": [
        "X=data[['India Price','Asia Price','Rotterdam Price','US Domestic Price']]\n",
        "y=data[['India Price']]"
      ],
      "metadata": {
        "id": "zgRA6MyJB7gZ"
      },
      "execution_count": 65,
      "outputs": []
    },
    {
      "cell_type": "code",
      "source": [
        "train=X[0:636]\n",
        "test=X[636:]"
      ],
      "metadata": {
        "id": "Air1TPNjCBo8"
      },
      "execution_count": 66,
      "outputs": []
    },
    {
      "cell_type": "code",
      "source": [
        "train.tail()"
      ],
      "metadata": {
        "colab": {
          "base_uri": "https://localhost:8080/",
          "height": 238
        },
        "id": "f4ytNS7gCCDZ",
        "outputId": "bcea892f-4541-4f62-aaa5-0f9de4de4375"
      },
      "execution_count": 67,
      "outputs": [
        {
          "output_type": "execute_result",
          "data": {
            "text/plain": [
              "            India Price  Asia Price  Rotterdam Price  US Domestic Price\n",
              "Date                                                                   \n",
              "2018-02-02        367.0       408.0            354.5             127.93\n",
              "2018-02-09        359.0       387.0            343.1             127.93\n",
              "2018-02-16        347.0       387.0            333.4             127.93\n",
              "2018-02-23        342.0       381.0            320.5             127.93\n",
              "2018-03-02        336.0       380.0            316.2             119.20"
            ],
            "text/html": [
              "\n",
              "  <div id=\"df-8c7606d6-6009-465b-a584-3624c07c40e8\">\n",
              "    <div class=\"colab-df-container\">\n",
              "      <div>\n",
              "<style scoped>\n",
              "    .dataframe tbody tr th:only-of-type {\n",
              "        vertical-align: middle;\n",
              "    }\n",
              "\n",
              "    .dataframe tbody tr th {\n",
              "        vertical-align: top;\n",
              "    }\n",
              "\n",
              "    .dataframe thead th {\n",
              "        text-align: right;\n",
              "    }\n",
              "</style>\n",
              "<table border=\"1\" class=\"dataframe\">\n",
              "  <thead>\n",
              "    <tr style=\"text-align: right;\">\n",
              "      <th></th>\n",
              "      <th>India Price</th>\n",
              "      <th>Asia Price</th>\n",
              "      <th>Rotterdam Price</th>\n",
              "      <th>US Domestic Price</th>\n",
              "    </tr>\n",
              "    <tr>\n",
              "      <th>Date</th>\n",
              "      <th></th>\n",
              "      <th></th>\n",
              "      <th></th>\n",
              "      <th></th>\n",
              "    </tr>\n",
              "  </thead>\n",
              "  <tbody>\n",
              "    <tr>\n",
              "      <th>2018-02-02</th>\n",
              "      <td>367.0</td>\n",
              "      <td>408.0</td>\n",
              "      <td>354.5</td>\n",
              "      <td>127.93</td>\n",
              "    </tr>\n",
              "    <tr>\n",
              "      <th>2018-02-09</th>\n",
              "      <td>359.0</td>\n",
              "      <td>387.0</td>\n",
              "      <td>343.1</td>\n",
              "      <td>127.93</td>\n",
              "    </tr>\n",
              "    <tr>\n",
              "      <th>2018-02-16</th>\n",
              "      <td>347.0</td>\n",
              "      <td>387.0</td>\n",
              "      <td>333.4</td>\n",
              "      <td>127.93</td>\n",
              "    </tr>\n",
              "    <tr>\n",
              "      <th>2018-02-23</th>\n",
              "      <td>342.0</td>\n",
              "      <td>381.0</td>\n",
              "      <td>320.5</td>\n",
              "      <td>127.93</td>\n",
              "    </tr>\n",
              "    <tr>\n",
              "      <th>2018-03-02</th>\n",
              "      <td>336.0</td>\n",
              "      <td>380.0</td>\n",
              "      <td>316.2</td>\n",
              "      <td>119.20</td>\n",
              "    </tr>\n",
              "  </tbody>\n",
              "</table>\n",
              "</div>\n",
              "      <button class=\"colab-df-convert\" onclick=\"convertToInteractive('df-8c7606d6-6009-465b-a584-3624c07c40e8')\"\n",
              "              title=\"Convert this dataframe to an interactive table.\"\n",
              "              style=\"display:none;\">\n",
              "        \n",
              "  <svg xmlns=\"http://www.w3.org/2000/svg\" height=\"24px\"viewBox=\"0 0 24 24\"\n",
              "       width=\"24px\">\n",
              "    <path d=\"M0 0h24v24H0V0z\" fill=\"none\"/>\n",
              "    <path d=\"M18.56 5.44l.94 2.06.94-2.06 2.06-.94-2.06-.94-.94-2.06-.94 2.06-2.06.94zm-11 1L8.5 8.5l.94-2.06 2.06-.94-2.06-.94L8.5 2.5l-.94 2.06-2.06.94zm10 10l.94 2.06.94-2.06 2.06-.94-2.06-.94-.94-2.06-.94 2.06-2.06.94z\"/><path d=\"M17.41 7.96l-1.37-1.37c-.4-.4-.92-.59-1.43-.59-.52 0-1.04.2-1.43.59L10.3 9.45l-7.72 7.72c-.78.78-.78 2.05 0 2.83L4 21.41c.39.39.9.59 1.41.59.51 0 1.02-.2 1.41-.59l7.78-7.78 2.81-2.81c.8-.78.8-2.07 0-2.86zM5.41 20L4 18.59l7.72-7.72 1.47 1.35L5.41 20z\"/>\n",
              "  </svg>\n",
              "      </button>\n",
              "      \n",
              "  <style>\n",
              "    .colab-df-container {\n",
              "      display:flex;\n",
              "      flex-wrap:wrap;\n",
              "      gap: 12px;\n",
              "    }\n",
              "\n",
              "    .colab-df-convert {\n",
              "      background-color: #E8F0FE;\n",
              "      border: none;\n",
              "      border-radius: 50%;\n",
              "      cursor: pointer;\n",
              "      display: none;\n",
              "      fill: #1967D2;\n",
              "      height: 32px;\n",
              "      padding: 0 0 0 0;\n",
              "      width: 32px;\n",
              "    }\n",
              "\n",
              "    .colab-df-convert:hover {\n",
              "      background-color: #E2EBFA;\n",
              "      box-shadow: 0px 1px 2px rgba(60, 64, 67, 0.3), 0px 1px 3px 1px rgba(60, 64, 67, 0.15);\n",
              "      fill: #174EA6;\n",
              "    }\n",
              "\n",
              "    [theme=dark] .colab-df-convert {\n",
              "      background-color: #3B4455;\n",
              "      fill: #D2E3FC;\n",
              "    }\n",
              "\n",
              "    [theme=dark] .colab-df-convert:hover {\n",
              "      background-color: #434B5C;\n",
              "      box-shadow: 0px 1px 3px 1px rgba(0, 0, 0, 0.15);\n",
              "      filter: drop-shadow(0px 1px 2px rgba(0, 0, 0, 0.3));\n",
              "      fill: #FFFFFF;\n",
              "    }\n",
              "  </style>\n",
              "\n",
              "      <script>\n",
              "        const buttonEl =\n",
              "          document.querySelector('#df-8c7606d6-6009-465b-a584-3624c07c40e8 button.colab-df-convert');\n",
              "        buttonEl.style.display =\n",
              "          google.colab.kernel.accessAllowed ? 'block' : 'none';\n",
              "\n",
              "        async function convertToInteractive(key) {\n",
              "          const element = document.querySelector('#df-8c7606d6-6009-465b-a584-3624c07c40e8');\n",
              "          const dataTable =\n",
              "            await google.colab.kernel.invokeFunction('convertToInteractive',\n",
              "                                                     [key], {});\n",
              "          if (!dataTable) return;\n",
              "\n",
              "          const docLinkHtml = 'Like what you see? Visit the ' +\n",
              "            '<a target=\"_blank\" href=https://colab.research.google.com/notebooks/data_table.ipynb>data table notebook</a>'\n",
              "            + ' to learn more about interactive tables.';\n",
              "          element.innerHTML = '';\n",
              "          dataTable['output_type'] = 'display_data';\n",
              "          await google.colab.output.renderOutput(dataTable, element);\n",
              "          const docLink = document.createElement('div');\n",
              "          docLink.innerHTML = docLinkHtml;\n",
              "          element.appendChild(docLink);\n",
              "        }\n",
              "      </script>\n",
              "    </div>\n",
              "  </div>\n",
              "  "
            ]
          },
          "metadata": {},
          "execution_count": 67
        }
      ]
    },
    {
      "cell_type": "markdown",
      "source": [
        "FEATURE SCALING OF DATA"
      ],
      "metadata": {
        "id": "a7HKQNddCHQV"
      }
    },
    {
      "cell_type": "code",
      "source": [
        "scaler= MinMaxScaler()"
      ],
      "metadata": {
        "id": "99PPOwiYCHk-"
      },
      "execution_count": 68,
      "outputs": []
    },
    {
      "cell_type": "code",
      "source": [
        "scaled_train=scaler.fit_transform(train)"
      ],
      "metadata": {
        "id": "SRipvKwhCKtd"
      },
      "execution_count": 69,
      "outputs": []
    },
    {
      "cell_type": "code",
      "source": [
        "win_length=12 # 3 months data or 12 weeks\n",
        "batch_size=3 #training 3 weeks data together \n",
        "n_features=4 # there are 4 inputs\n",
        "train_generator=TimeseriesGenerator(scaled_train,scaled_train,length=win_length,sampling_rate=1,batch_size=batch_size)"
      ],
      "metadata": {
        "id": "lq1QhpsSCOk7"
      },
      "execution_count": 70,
      "outputs": []
    },
    {
      "cell_type": "markdown",
      "source": [
        "IMPORTING LIBRARIES TO IMPLEMENT LSTM"
      ],
      "metadata": {
        "id": "A2bQmY3cCTQN"
      }
    },
    {
      "cell_type": "code",
      "source": [
        "from keras.models import Sequential\n",
        "from keras.layers import Dense\n",
        "from keras.layers import LSTM"
      ],
      "metadata": {
        "id": "xvM5ZCoXCSiP"
      },
      "execution_count": 71,
      "outputs": []
    },
    {
      "cell_type": "code",
      "source": [
        "model=Sequential()"
      ],
      "metadata": {
        "id": "R4-NQuVBCb89"
      },
      "execution_count": 72,
      "outputs": []
    },
    {
      "cell_type": "markdown",
      "source": [
        "Return sequences -need hidden state for each of the input data.\n",
        "\n",
        "Hidden states are technically speaking inputs to whatever we do at a given step, and they can only be computed by looking at data at previous time steps.\n",
        "\n",
        "Leaky ReLU has a small slope for negative values, instead of altogether zero. Leaky relu as the name suggests adds a small leak for -ve values (alpha) rather than making them 0."
      ],
      "metadata": {
        "id": "iLudMBQrCfli"
      }
    },
    {
      "cell_type": "code",
      "source": [
        "model.add(tf.keras.layers.LSTM(128,input_shape=(win_length,n_features),return_sequences=True)) # creating an lstm layer with input shape containing window size and 4 iinputs\n",
        "model.add(tf.keras.layers.LeakyReLU(alpha=0.5))\n",
        "model.add(tf.keras.layers.LSTM(128,return_sequences=True))\n",
        "model.add(tf.keras.layers.LeakyReLU(alpha=0.5))\n",
        "model.add(tf.keras.layers.Dropout(0.3)) #Dropout is a technique used to prevent a model from overfitting\n",
        "model.add(tf.keras.layers.LSTM(64,return_sequences=False)) #false returns only 1 hidden state for all observations tgther\n",
        "model.add(tf.keras.layers.Dropout(0.3))\n",
        "model.add(tf.keras.layers.Dense(1)) #deeply connected with its preceding layer final layer"
      ],
      "metadata": {
        "id": "lkPKx37SCtnk"
      },
      "execution_count": 73,
      "outputs": []
    },
    {
      "cell_type": "code",
      "source": [
        "model.compile(optimizer='adam',loss='mse',metrics=[tf.metrics.MeanAbsoluteError()])"
      ],
      "metadata": {
        "id": "-AgJMIanCwWg"
      },
      "execution_count": 74,
      "outputs": []
    },
    {
      "cell_type": "code",
      "source": [
        "model.summary()"
      ],
      "metadata": {
        "colab": {
          "base_uri": "https://localhost:8080/"
        },
        "id": "Ha7_DNiGCygH",
        "outputId": "b296d583-d48d-4adb-9b2d-4aef5923818b"
      },
      "execution_count": 75,
      "outputs": [
        {
          "output_type": "stream",
          "name": "stdout",
          "text": [
            "Model: \"sequential_1\"\n",
            "_________________________________________________________________\n",
            " Layer (type)                Output Shape              Param #   \n",
            "=================================================================\n",
            " lstm_3 (LSTM)               (None, 12, 128)           68096     \n",
            "                                                                 \n",
            " leaky_re_lu_2 (LeakyReLU)   (None, 12, 128)           0         \n",
            "                                                                 \n",
            " lstm_4 (LSTM)               (None, 12, 128)           131584    \n",
            "                                                                 \n",
            " leaky_re_lu_3 (LeakyReLU)   (None, 12, 128)           0         \n",
            "                                                                 \n",
            " dropout_2 (Dropout)         (None, 12, 128)           0         \n",
            "                                                                 \n",
            " lstm_5 (LSTM)               (None, 64)                49408     \n",
            "                                                                 \n",
            " dropout_3 (Dropout)         (None, 64)                0         \n",
            "                                                                 \n",
            " dense_1 (Dense)             (None, 1)                 65        \n",
            "                                                                 \n",
            "=================================================================\n",
            "Total params: 249,153\n",
            "Trainable params: 249,153\n",
            "Non-trainable params: 0\n",
            "_________________________________________________________________\n"
          ]
        }
      ]
    },
    {
      "cell_type": "code",
      "source": [
        "history = model.fit_generator(train_generator,epochs=50,shuffle=False) "
      ],
      "metadata": {
        "colab": {
          "base_uri": "https://localhost:8080/"
        },
        "id": "JjwLdrzrDAW_",
        "outputId": "c955322b-038f-48ef-9586-050793bdebf3"
      },
      "execution_count": 76,
      "outputs": [
        {
          "output_type": "stream",
          "name": "stdout",
          "text": [
            "Epoch 1/50\n"
          ]
        },
        {
          "output_type": "stream",
          "name": "stderr",
          "text": [
            "<ipython-input-76-cb187e12653e>:1: UserWarning: `Model.fit_generator` is deprecated and will be removed in a future version. Please use `Model.fit`, which supports generators.\n",
            "  history = model.fit_generator(train_generator,epochs=50,shuffle=False)\n"
          ]
        },
        {
          "output_type": "stream",
          "name": "stdout",
          "text": [
            "208/208 [==============================] - 14s 36ms/step - loss: 0.0359 - mean_absolute_error: 0.1356\n",
            "Epoch 2/50\n",
            "208/208 [==============================] - 7s 31ms/step - loss: 0.0293 - mean_absolute_error: 0.1291\n",
            "Epoch 3/50\n",
            "208/208 [==============================] - 6s 31ms/step - loss: 0.0247 - mean_absolute_error: 0.1181\n",
            "Epoch 4/50\n",
            "208/208 [==============================] - 7s 36ms/step - loss: 0.0208 - mean_absolute_error: 0.1095\n",
            "Epoch 5/50\n",
            "208/208 [==============================] - 7s 36ms/step - loss: 0.0165 - mean_absolute_error: 0.0995\n",
            "Epoch 6/50\n",
            "208/208 [==============================] - 6s 31ms/step - loss: 0.0154 - mean_absolute_error: 0.0967\n",
            "Epoch 7/50\n",
            "208/208 [==============================] - 6s 31ms/step - loss: 0.0139 - mean_absolute_error: 0.0928\n",
            "Epoch 8/50\n",
            "208/208 [==============================] - 6s 31ms/step - loss: 0.0123 - mean_absolute_error: 0.0865\n",
            "Epoch 9/50\n",
            "208/208 [==============================] - 7s 36ms/step - loss: 0.0098 - mean_absolute_error: 0.0763\n",
            "Epoch 10/50\n",
            "208/208 [==============================] - 7s 31ms/step - loss: 0.0088 - mean_absolute_error: 0.0727\n",
            "Epoch 11/50\n",
            "208/208 [==============================] - 7s 36ms/step - loss: 0.0081 - mean_absolute_error: 0.0702\n",
            "Epoch 12/50\n",
            "208/208 [==============================] - 7s 36ms/step - loss: 0.0087 - mean_absolute_error: 0.0721\n",
            "Epoch 13/50\n",
            "208/208 [==============================] - 6s 31ms/step - loss: 0.0079 - mean_absolute_error: 0.0688\n",
            "Epoch 14/50\n",
            "208/208 [==============================] - 6s 31ms/step - loss: 0.0080 - mean_absolute_error: 0.0696\n",
            "Epoch 15/50\n",
            "208/208 [==============================] - 8s 39ms/step - loss: 0.0080 - mean_absolute_error: 0.0689\n",
            "Epoch 16/50\n",
            "208/208 [==============================] - 6s 31ms/step - loss: 0.0077 - mean_absolute_error: 0.0681\n",
            "Epoch 17/50\n",
            "208/208 [==============================] - 8s 36ms/step - loss: 0.0076 - mean_absolute_error: 0.0681\n",
            "Epoch 18/50\n",
            "208/208 [==============================] - 8s 36ms/step - loss: 0.0075 - mean_absolute_error: 0.0677\n",
            "Epoch 19/50\n",
            "208/208 [==============================] - 6s 31ms/step - loss: 0.0081 - mean_absolute_error: 0.0706\n",
            "Epoch 20/50\n",
            "208/208 [==============================] - 7s 36ms/step - loss: 0.0084 - mean_absolute_error: 0.0726\n",
            "Epoch 21/50\n",
            "208/208 [==============================] - 7s 32ms/step - loss: 0.0083 - mean_absolute_error: 0.0719\n",
            "Epoch 22/50\n",
            "208/208 [==============================] - 6s 31ms/step - loss: 0.0073 - mean_absolute_error: 0.0666\n",
            "Epoch 23/50\n",
            "208/208 [==============================] - 7s 36ms/step - loss: 0.0071 - mean_absolute_error: 0.0663\n",
            "Epoch 24/50\n",
            "208/208 [==============================] - 8s 36ms/step - loss: 0.0070 - mean_absolute_error: 0.0662\n",
            "Epoch 25/50\n",
            "208/208 [==============================] - 6s 31ms/step - loss: 0.0071 - mean_absolute_error: 0.0667\n",
            "Epoch 26/50\n",
            "208/208 [==============================] - 8s 36ms/step - loss: 0.0071 - mean_absolute_error: 0.0661\n",
            "Epoch 27/50\n",
            "208/208 [==============================] - 8s 36ms/step - loss: 0.0071 - mean_absolute_error: 0.0670\n",
            "Epoch 28/50\n",
            "208/208 [==============================] - 7s 31ms/step - loss: 0.0069 - mean_absolute_error: 0.0655\n",
            "Epoch 29/50\n",
            "208/208 [==============================] - 7s 35ms/step - loss: 0.0069 - mean_absolute_error: 0.0656\n",
            "Epoch 30/50\n",
            "208/208 [==============================] - 7s 36ms/step - loss: 0.0068 - mean_absolute_error: 0.0661\n",
            "Epoch 31/50\n",
            "208/208 [==============================] - 7s 33ms/step - loss: 0.0072 - mean_absolute_error: 0.0669\n",
            "Epoch 32/50\n",
            "208/208 [==============================] - 7s 34ms/step - loss: 0.0070 - mean_absolute_error: 0.0653\n",
            "Epoch 33/50\n",
            "208/208 [==============================] - 7s 36ms/step - loss: 0.0071 - mean_absolute_error: 0.0669\n",
            "Epoch 34/50\n",
            "208/208 [==============================] - 7s 36ms/step - loss: 0.0067 - mean_absolute_error: 0.0650\n",
            "Epoch 35/50\n",
            "208/208 [==============================] - 6s 31ms/step - loss: 0.0069 - mean_absolute_error: 0.0657\n",
            "Epoch 36/50\n",
            "208/208 [==============================] - 7s 32ms/step - loss: 0.0067 - mean_absolute_error: 0.0646\n",
            "Epoch 37/50\n",
            "208/208 [==============================] - 7s 36ms/step - loss: 0.0069 - mean_absolute_error: 0.0657\n",
            "Epoch 38/50\n",
            "208/208 [==============================] - 7s 36ms/step - loss: 0.0069 - mean_absolute_error: 0.0660\n",
            "Epoch 39/50\n",
            "208/208 [==============================] - 7s 31ms/step - loss: 0.0070 - mean_absolute_error: 0.0656\n",
            "Epoch 40/50\n",
            "208/208 [==============================] - 7s 31ms/step - loss: 0.0065 - mean_absolute_error: 0.0641\n",
            "Epoch 41/50\n",
            "208/208 [==============================] - 7s 31ms/step - loss: 0.0065 - mean_absolute_error: 0.0644\n",
            "Epoch 42/50\n",
            "208/208 [==============================] - 8s 36ms/step - loss: 0.0067 - mean_absolute_error: 0.0649\n",
            "Epoch 43/50\n",
            "208/208 [==============================] - 7s 33ms/step - loss: 0.0067 - mean_absolute_error: 0.0651\n",
            "Epoch 44/50\n",
            "208/208 [==============================] - 7s 31ms/step - loss: 0.0066 - mean_absolute_error: 0.0644\n",
            "Epoch 45/50\n",
            "208/208 [==============================] - 6s 31ms/step - loss: 0.0067 - mean_absolute_error: 0.0645\n",
            "Epoch 46/50\n",
            "208/208 [==============================] - 8s 36ms/step - loss: 0.0068 - mean_absolute_error: 0.0649\n",
            "Epoch 47/50\n",
            "208/208 [==============================] - 7s 31ms/step - loss: 0.0066 - mean_absolute_error: 0.0645\n",
            "Epoch 48/50\n",
            "208/208 [==============================] - 6s 31ms/step - loss: 0.0066 - mean_absolute_error: 0.0645\n",
            "Epoch 49/50\n",
            "208/208 [==============================] - 8s 36ms/step - loss: 0.0064 - mean_absolute_error: 0.0636\n",
            "Epoch 50/50\n",
            "208/208 [==============================] - 7s 33ms/step - loss: 0.0066 - mean_absolute_error: 0.0646\n"
          ]
        }
      ]
    },
    {
      "cell_type": "markdown",
      "source": [
        "FORECASTING FUTURE VALUES"
      ],
      "metadata": {
        "id": "rMhUermoDLCl"
      }
    },
    {
      "cell_type": "markdown",
      "source": [
        "Predicting 1st week of test set using last 12 weeks of Train set"
      ],
      "metadata": {
        "id": "CqqKm_WCDLhm"
      }
    },
    {
      "cell_type": "code",
      "source": [
        "train[-12:]"
      ],
      "metadata": {
        "colab": {
          "base_uri": "https://localhost:8080/",
          "height": 457
        },
        "id": "hhaOgC4gDN6Q",
        "outputId": "574f5104-6f17-47d7-db02-7eb8bd7778cb"
      },
      "execution_count": 77,
      "outputs": [
        {
          "output_type": "execute_result",
          "data": {
            "text/plain": [
              "            India Price  Asia Price  Rotterdam Price  US Domestic Price\n",
              "Date                                                                   \n",
              "2017-12-08        401.0       406.0           305.80             104.55\n",
              "2017-12-15        415.0       420.0           322.60             104.55\n",
              "2017-12-22        432.0       425.0           329.90             104.55\n",
              "2018-01-05        430.0       409.0           340.13             121.55\n",
              "2018-01-12        422.0       415.0           356.30             121.55\n",
              "2018-01-19        396.0       400.0           354.90             121.55\n",
              "2018-01-26        383.0       400.0           361.70             121.55\n",
              "2018-02-02        367.0       408.0           354.50             127.93\n",
              "2018-02-09        359.0       387.0           343.10             127.93\n",
              "2018-02-16        347.0       387.0           333.40             127.93\n",
              "2018-02-23        342.0       381.0           320.50             127.93\n",
              "2018-03-02        336.0       380.0           316.20             119.20"
            ],
            "text/html": [
              "\n",
              "  <div id=\"df-98c533e9-9ef8-4c40-8df8-b71d7aa98323\">\n",
              "    <div class=\"colab-df-container\">\n",
              "      <div>\n",
              "<style scoped>\n",
              "    .dataframe tbody tr th:only-of-type {\n",
              "        vertical-align: middle;\n",
              "    }\n",
              "\n",
              "    .dataframe tbody tr th {\n",
              "        vertical-align: top;\n",
              "    }\n",
              "\n",
              "    .dataframe thead th {\n",
              "        text-align: right;\n",
              "    }\n",
              "</style>\n",
              "<table border=\"1\" class=\"dataframe\">\n",
              "  <thead>\n",
              "    <tr style=\"text-align: right;\">\n",
              "      <th></th>\n",
              "      <th>India Price</th>\n",
              "      <th>Asia Price</th>\n",
              "      <th>Rotterdam Price</th>\n",
              "      <th>US Domestic Price</th>\n",
              "    </tr>\n",
              "    <tr>\n",
              "      <th>Date</th>\n",
              "      <th></th>\n",
              "      <th></th>\n",
              "      <th></th>\n",
              "      <th></th>\n",
              "    </tr>\n",
              "  </thead>\n",
              "  <tbody>\n",
              "    <tr>\n",
              "      <th>2017-12-08</th>\n",
              "      <td>401.0</td>\n",
              "      <td>406.0</td>\n",
              "      <td>305.80</td>\n",
              "      <td>104.55</td>\n",
              "    </tr>\n",
              "    <tr>\n",
              "      <th>2017-12-15</th>\n",
              "      <td>415.0</td>\n",
              "      <td>420.0</td>\n",
              "      <td>322.60</td>\n",
              "      <td>104.55</td>\n",
              "    </tr>\n",
              "    <tr>\n",
              "      <th>2017-12-22</th>\n",
              "      <td>432.0</td>\n",
              "      <td>425.0</td>\n",
              "      <td>329.90</td>\n",
              "      <td>104.55</td>\n",
              "    </tr>\n",
              "    <tr>\n",
              "      <th>2018-01-05</th>\n",
              "      <td>430.0</td>\n",
              "      <td>409.0</td>\n",
              "      <td>340.13</td>\n",
              "      <td>121.55</td>\n",
              "    </tr>\n",
              "    <tr>\n",
              "      <th>2018-01-12</th>\n",
              "      <td>422.0</td>\n",
              "      <td>415.0</td>\n",
              "      <td>356.30</td>\n",
              "      <td>121.55</td>\n",
              "    </tr>\n",
              "    <tr>\n",
              "      <th>2018-01-19</th>\n",
              "      <td>396.0</td>\n",
              "      <td>400.0</td>\n",
              "      <td>354.90</td>\n",
              "      <td>121.55</td>\n",
              "    </tr>\n",
              "    <tr>\n",
              "      <th>2018-01-26</th>\n",
              "      <td>383.0</td>\n",
              "      <td>400.0</td>\n",
              "      <td>361.70</td>\n",
              "      <td>121.55</td>\n",
              "    </tr>\n",
              "    <tr>\n",
              "      <th>2018-02-02</th>\n",
              "      <td>367.0</td>\n",
              "      <td>408.0</td>\n",
              "      <td>354.50</td>\n",
              "      <td>127.93</td>\n",
              "    </tr>\n",
              "    <tr>\n",
              "      <th>2018-02-09</th>\n",
              "      <td>359.0</td>\n",
              "      <td>387.0</td>\n",
              "      <td>343.10</td>\n",
              "      <td>127.93</td>\n",
              "    </tr>\n",
              "    <tr>\n",
              "      <th>2018-02-16</th>\n",
              "      <td>347.0</td>\n",
              "      <td>387.0</td>\n",
              "      <td>333.40</td>\n",
              "      <td>127.93</td>\n",
              "    </tr>\n",
              "    <tr>\n",
              "      <th>2018-02-23</th>\n",
              "      <td>342.0</td>\n",
              "      <td>381.0</td>\n",
              "      <td>320.50</td>\n",
              "      <td>127.93</td>\n",
              "    </tr>\n",
              "    <tr>\n",
              "      <th>2018-03-02</th>\n",
              "      <td>336.0</td>\n",
              "      <td>380.0</td>\n",
              "      <td>316.20</td>\n",
              "      <td>119.20</td>\n",
              "    </tr>\n",
              "  </tbody>\n",
              "</table>\n",
              "</div>\n",
              "      <button class=\"colab-df-convert\" onclick=\"convertToInteractive('df-98c533e9-9ef8-4c40-8df8-b71d7aa98323')\"\n",
              "              title=\"Convert this dataframe to an interactive table.\"\n",
              "              style=\"display:none;\">\n",
              "        \n",
              "  <svg xmlns=\"http://www.w3.org/2000/svg\" height=\"24px\"viewBox=\"0 0 24 24\"\n",
              "       width=\"24px\">\n",
              "    <path d=\"M0 0h24v24H0V0z\" fill=\"none\"/>\n",
              "    <path d=\"M18.56 5.44l.94 2.06.94-2.06 2.06-.94-2.06-.94-.94-2.06-.94 2.06-2.06.94zm-11 1L8.5 8.5l.94-2.06 2.06-.94-2.06-.94L8.5 2.5l-.94 2.06-2.06.94zm10 10l.94 2.06.94-2.06 2.06-.94-2.06-.94-.94-2.06-.94 2.06-2.06.94z\"/><path d=\"M17.41 7.96l-1.37-1.37c-.4-.4-.92-.59-1.43-.59-.52 0-1.04.2-1.43.59L10.3 9.45l-7.72 7.72c-.78.78-.78 2.05 0 2.83L4 21.41c.39.39.9.59 1.41.59.51 0 1.02-.2 1.41-.59l7.78-7.78 2.81-2.81c.8-.78.8-2.07 0-2.86zM5.41 20L4 18.59l7.72-7.72 1.47 1.35L5.41 20z\"/>\n",
              "  </svg>\n",
              "      </button>\n",
              "      \n",
              "  <style>\n",
              "    .colab-df-container {\n",
              "      display:flex;\n",
              "      flex-wrap:wrap;\n",
              "      gap: 12px;\n",
              "    }\n",
              "\n",
              "    .colab-df-convert {\n",
              "      background-color: #E8F0FE;\n",
              "      border: none;\n",
              "      border-radius: 50%;\n",
              "      cursor: pointer;\n",
              "      display: none;\n",
              "      fill: #1967D2;\n",
              "      height: 32px;\n",
              "      padding: 0 0 0 0;\n",
              "      width: 32px;\n",
              "    }\n",
              "\n",
              "    .colab-df-convert:hover {\n",
              "      background-color: #E2EBFA;\n",
              "      box-shadow: 0px 1px 2px rgba(60, 64, 67, 0.3), 0px 1px 3px 1px rgba(60, 64, 67, 0.15);\n",
              "      fill: #174EA6;\n",
              "    }\n",
              "\n",
              "    [theme=dark] .colab-df-convert {\n",
              "      background-color: #3B4455;\n",
              "      fill: #D2E3FC;\n",
              "    }\n",
              "\n",
              "    [theme=dark] .colab-df-convert:hover {\n",
              "      background-color: #434B5C;\n",
              "      box-shadow: 0px 1px 3px 1px rgba(0, 0, 0, 0.15);\n",
              "      filter: drop-shadow(0px 1px 2px rgba(0, 0, 0, 0.3));\n",
              "      fill: #FFFFFF;\n",
              "    }\n",
              "  </style>\n",
              "\n",
              "      <script>\n",
              "        const buttonEl =\n",
              "          document.querySelector('#df-98c533e9-9ef8-4c40-8df8-b71d7aa98323 button.colab-df-convert');\n",
              "        buttonEl.style.display =\n",
              "          google.colab.kernel.accessAllowed ? 'block' : 'none';\n",
              "\n",
              "        async function convertToInteractive(key) {\n",
              "          const element = document.querySelector('#df-98c533e9-9ef8-4c40-8df8-b71d7aa98323');\n",
              "          const dataTable =\n",
              "            await google.colab.kernel.invokeFunction('convertToInteractive',\n",
              "                                                     [key], {});\n",
              "          if (!dataTable) return;\n",
              "\n",
              "          const docLinkHtml = 'Like what you see? Visit the ' +\n",
              "            '<a target=\"_blank\" href=https://colab.research.google.com/notebooks/data_table.ipynb>data table notebook</a>'\n",
              "            + ' to learn more about interactive tables.';\n",
              "          element.innerHTML = '';\n",
              "          dataTable['output_type'] = 'display_data';\n",
              "          await google.colab.output.renderOutput(dataTable, element);\n",
              "          const docLink = document.createElement('div');\n",
              "          docLink.innerHTML = docLinkHtml;\n",
              "          element.appendChild(docLink);\n",
              "        }\n",
              "      </script>\n",
              "    </div>\n",
              "  </div>\n",
              "  "
            ]
          },
          "metadata": {},
          "execution_count": 77
        }
      ]
    },
    {
      "cell_type": "code",
      "source": [
        "last_scaled_train=train[-12:]\n",
        "last_train=scaler.fit_transform(last_scaled_train)\n",
        "last_train"
      ],
      "metadata": {
        "colab": {
          "base_uri": "https://localhost:8080/"
        },
        "id": "ozVup84SDY11",
        "outputId": "c0d3189c-1804-4faf-e07a-67c641b05c4a"
      },
      "execution_count": 78,
      "outputs": [
        {
          "output_type": "execute_result",
          "data": {
            "text/plain": [
              "array([[0.67708333, 0.57777778, 0.        , 0.        ],\n",
              "       [0.82291667, 0.88888889, 0.30053667, 0.        ],\n",
              "       [1.        , 1.        , 0.43112701, 0.        ],\n",
              "       [0.97916667, 0.64444444, 0.61413238, 0.72711719],\n",
              "       [0.89583333, 0.77777778, 0.90339893, 0.72711719],\n",
              "       [0.625     , 0.44444444, 0.8783542 , 0.72711719],\n",
              "       [0.48958333, 0.44444444, 1.        , 0.72711719],\n",
              "       [0.32291667, 0.62222222, 0.87119857, 1.        ],\n",
              "       [0.23958333, 0.15555556, 0.66726297, 1.        ],\n",
              "       [0.11458333, 0.15555556, 0.49373882, 1.        ],\n",
              "       [0.0625    , 0.02222222, 0.26296959, 1.        ],\n",
              "       [0.        , 0.        , 0.18604651, 0.62660393]])"
            ]
          },
          "metadata": {},
          "execution_count": 78
        }
      ]
    },
    {
      "cell_type": "code",
      "source": [
        "n_input=12 \n",
        "n_features=4\n",
        "last_train_batch=last_train.reshape((1,n_input,n_features))"
      ],
      "metadata": {
        "id": "lKk2CTmFDb8k"
      },
      "execution_count": 79,
      "outputs": []
    },
    {
      "cell_type": "code",
      "source": [
        "train.head()"
      ],
      "metadata": {
        "colab": {
          "base_uri": "https://localhost:8080/",
          "height": 238
        },
        "id": "YdP-V_WUDcdT",
        "outputId": "f9a922fd-ac39-4210-ea82-96089c8d6593"
      },
      "execution_count": 80,
      "outputs": [
        {
          "output_type": "execute_result",
          "data": {
            "text/plain": [
              "            India Price  Asia Price  Rotterdam Price  US Domestic Price\n",
              "Date                                                                   \n",
              "2005-10-07        240.0       232.5            210.4              84.63\n",
              "2005-10-14        240.0       232.5            213.5              81.00\n",
              "2005-10-21        242.5       235.0            214.0              81.00\n",
              "2005-10-28        242.5       232.5            213.0              84.63\n",
              "2005-11-04        250.0       242.5            215.5              86.45"
            ],
            "text/html": [
              "\n",
              "  <div id=\"df-a77a4dbc-5ff5-44c1-b893-e76766106bf6\">\n",
              "    <div class=\"colab-df-container\">\n",
              "      <div>\n",
              "<style scoped>\n",
              "    .dataframe tbody tr th:only-of-type {\n",
              "        vertical-align: middle;\n",
              "    }\n",
              "\n",
              "    .dataframe tbody tr th {\n",
              "        vertical-align: top;\n",
              "    }\n",
              "\n",
              "    .dataframe thead th {\n",
              "        text-align: right;\n",
              "    }\n",
              "</style>\n",
              "<table border=\"1\" class=\"dataframe\">\n",
              "  <thead>\n",
              "    <tr style=\"text-align: right;\">\n",
              "      <th></th>\n",
              "      <th>India Price</th>\n",
              "      <th>Asia Price</th>\n",
              "      <th>Rotterdam Price</th>\n",
              "      <th>US Domestic Price</th>\n",
              "    </tr>\n",
              "    <tr>\n",
              "      <th>Date</th>\n",
              "      <th></th>\n",
              "      <th></th>\n",
              "      <th></th>\n",
              "      <th></th>\n",
              "    </tr>\n",
              "  </thead>\n",
              "  <tbody>\n",
              "    <tr>\n",
              "      <th>2005-10-07</th>\n",
              "      <td>240.0</td>\n",
              "      <td>232.5</td>\n",
              "      <td>210.4</td>\n",
              "      <td>84.63</td>\n",
              "    </tr>\n",
              "    <tr>\n",
              "      <th>2005-10-14</th>\n",
              "      <td>240.0</td>\n",
              "      <td>232.5</td>\n",
              "      <td>213.5</td>\n",
              "      <td>81.00</td>\n",
              "    </tr>\n",
              "    <tr>\n",
              "      <th>2005-10-21</th>\n",
              "      <td>242.5</td>\n",
              "      <td>235.0</td>\n",
              "      <td>214.0</td>\n",
              "      <td>81.00</td>\n",
              "    </tr>\n",
              "    <tr>\n",
              "      <th>2005-10-28</th>\n",
              "      <td>242.5</td>\n",
              "      <td>232.5</td>\n",
              "      <td>213.0</td>\n",
              "      <td>84.63</td>\n",
              "    </tr>\n",
              "    <tr>\n",
              "      <th>2005-11-04</th>\n",
              "      <td>250.0</td>\n",
              "      <td>242.5</td>\n",
              "      <td>215.5</td>\n",
              "      <td>86.45</td>\n",
              "    </tr>\n",
              "  </tbody>\n",
              "</table>\n",
              "</div>\n",
              "      <button class=\"colab-df-convert\" onclick=\"convertToInteractive('df-a77a4dbc-5ff5-44c1-b893-e76766106bf6')\"\n",
              "              title=\"Convert this dataframe to an interactive table.\"\n",
              "              style=\"display:none;\">\n",
              "        \n",
              "  <svg xmlns=\"http://www.w3.org/2000/svg\" height=\"24px\"viewBox=\"0 0 24 24\"\n",
              "       width=\"24px\">\n",
              "    <path d=\"M0 0h24v24H0V0z\" fill=\"none\"/>\n",
              "    <path d=\"M18.56 5.44l.94 2.06.94-2.06 2.06-.94-2.06-.94-.94-2.06-.94 2.06-2.06.94zm-11 1L8.5 8.5l.94-2.06 2.06-.94-2.06-.94L8.5 2.5l-.94 2.06-2.06.94zm10 10l.94 2.06.94-2.06 2.06-.94-2.06-.94-.94-2.06-.94 2.06-2.06.94z\"/><path d=\"M17.41 7.96l-1.37-1.37c-.4-.4-.92-.59-1.43-.59-.52 0-1.04.2-1.43.59L10.3 9.45l-7.72 7.72c-.78.78-.78 2.05 0 2.83L4 21.41c.39.39.9.59 1.41.59.51 0 1.02-.2 1.41-.59l7.78-7.78 2.81-2.81c.8-.78.8-2.07 0-2.86zM5.41 20L4 18.59l7.72-7.72 1.47 1.35L5.41 20z\"/>\n",
              "  </svg>\n",
              "      </button>\n",
              "      \n",
              "  <style>\n",
              "    .colab-df-container {\n",
              "      display:flex;\n",
              "      flex-wrap:wrap;\n",
              "      gap: 12px;\n",
              "    }\n",
              "\n",
              "    .colab-df-convert {\n",
              "      background-color: #E8F0FE;\n",
              "      border: none;\n",
              "      border-radius: 50%;\n",
              "      cursor: pointer;\n",
              "      display: none;\n",
              "      fill: #1967D2;\n",
              "      height: 32px;\n",
              "      padding: 0 0 0 0;\n",
              "      width: 32px;\n",
              "    }\n",
              "\n",
              "    .colab-df-convert:hover {\n",
              "      background-color: #E2EBFA;\n",
              "      box-shadow: 0px 1px 2px rgba(60, 64, 67, 0.3), 0px 1px 3px 1px rgba(60, 64, 67, 0.15);\n",
              "      fill: #174EA6;\n",
              "    }\n",
              "\n",
              "    [theme=dark] .colab-df-convert {\n",
              "      background-color: #3B4455;\n",
              "      fill: #D2E3FC;\n",
              "    }\n",
              "\n",
              "    [theme=dark] .colab-df-convert:hover {\n",
              "      background-color: #434B5C;\n",
              "      box-shadow: 0px 1px 3px 1px rgba(0, 0, 0, 0.15);\n",
              "      filter: drop-shadow(0px 1px 2px rgba(0, 0, 0, 0.3));\n",
              "      fill: #FFFFFF;\n",
              "    }\n",
              "  </style>\n",
              "\n",
              "      <script>\n",
              "        const buttonEl =\n",
              "          document.querySelector('#df-a77a4dbc-5ff5-44c1-b893-e76766106bf6 button.colab-df-convert');\n",
              "        buttonEl.style.display =\n",
              "          google.colab.kernel.accessAllowed ? 'block' : 'none';\n",
              "\n",
              "        async function convertToInteractive(key) {\n",
              "          const element = document.querySelector('#df-a77a4dbc-5ff5-44c1-b893-e76766106bf6');\n",
              "          const dataTable =\n",
              "            await google.colab.kernel.invokeFunction('convertToInteractive',\n",
              "                                                     [key], {});\n",
              "          if (!dataTable) return;\n",
              "\n",
              "          const docLinkHtml = 'Like what you see? Visit the ' +\n",
              "            '<a target=\"_blank\" href=https://colab.research.google.com/notebooks/data_table.ipynb>data table notebook</a>'\n",
              "            + ' to learn more about interactive tables.';\n",
              "          element.innerHTML = '';\n",
              "          dataTable['output_type'] = 'display_data';\n",
              "          await google.colab.output.renderOutput(dataTable, element);\n",
              "          const docLink = document.createElement('div');\n",
              "          docLink.innerHTML = docLinkHtml;\n",
              "          element.appendChild(docLink);\n",
              "        }\n",
              "      </script>\n",
              "    </div>\n",
              "  </div>\n",
              "  "
            ]
          },
          "metadata": {},
          "execution_count": 80
        }
      ]
    },
    {
      "cell_type": "code",
      "source": [
        "data[624:648].count()"
      ],
      "metadata": {
        "colab": {
          "base_uri": "https://localhost:8080/"
        },
        "id": "J9JSpJh0DfJt",
        "outputId": "18d028c9-e0c4-4942-fa24-40eb88ab200d"
      },
      "execution_count": 81,
      "outputs": [
        {
          "output_type": "execute_result",
          "data": {
            "text/plain": [
              "India Price          24\n",
              "Asia Price           24\n",
              "Rotterdam Price      24\n",
              "US Domestic Price    24\n",
              "dtype: int64"
            ]
          },
          "metadata": {},
          "execution_count": 81
        }
      ]
    },
    {
      "cell_type": "code",
      "source": [
        "scaled_train"
      ],
      "metadata": {
        "colab": {
          "base_uri": "https://localhost:8080/"
        },
        "id": "31q28erfDhmC",
        "outputId": "f43a4132-c583-4af8-f5c7-4085faedee00"
      },
      "execution_count": 89,
      "outputs": [
        {
          "output_type": "execute_result",
          "data": {
            "text/plain": [
              "array([[0.19170984, 0.17032967, 0.26264013, 0.16366551],\n",
              "       [0.19170984, 0.17032967, 0.26973233, 0.1442693 ],\n",
              "       [0.19689119, 0.17582418, 0.27087623, 0.1442693 ],\n",
              "       ...,\n",
              "       [0.4134715 , 0.50989011, 0.54404027, 0.39503072],\n",
              "       [0.40310881, 0.4967033 , 0.51452757, 0.39503072],\n",
              "       [0.39067358, 0.49450549, 0.50469   , 0.34838365]])"
            ]
          },
          "metadata": {},
          "execution_count": 89
        }
      ]
    },
    {
      "cell_type": "code",
      "source": [
        "curr_batch.shape"
      ],
      "metadata": {
        "colab": {
          "base_uri": "https://localhost:8080/"
        },
        "id": "W0BfalnyDjac",
        "outputId": "76dab21d-9c2a-4191-aa71-0ee459df8253"
      },
      "execution_count": 90,
      "outputs": [
        {
          "output_type": "execute_result",
          "data": {
            "text/plain": [
              "(1, 12, 4)"
            ]
          },
          "metadata": {},
          "execution_count": 90
        }
      ]
    },
    {
      "cell_type": "code",
      "source": [
        "test_pred=test[0:12]\n",
        "test_pred"
      ],
      "metadata": {
        "colab": {
          "base_uri": "https://localhost:8080/",
          "height": 457
        },
        "id": "Pb32lF3nDliX",
        "outputId": "3b458f59-c36f-43ee-f23e-30288482ef86"
      },
      "execution_count": 91,
      "outputs": [
        {
          "output_type": "execute_result",
          "data": {
            "text/plain": [
              "            India Price  Asia Price  Rotterdam Price  US Domestic Price\n",
              "Date                                                                   \n",
              "2018-03-09        341.0       395.0           323.00              119.2\n",
              "2018-03-16        374.0       401.0           315.60              119.2\n",
              "2018-03-23        390.0       400.0           314.20              119.2\n",
              "2018-03-30        384.0       409.0           310.13              119.2\n",
              "2018-04-06        422.0       410.0           317.88              119.2\n",
              "2018-04-13        416.0       415.0           323.30              119.2\n",
              "2018-04-20        394.0       421.0           318.00              119.2\n",
              "2018-04-27        404.0       423.0           310.30              119.2\n",
              "2018-05-04        399.0       420.0           314.20              119.2\n",
              "2018-05-11        389.0       421.0           330.88              119.2\n",
              "2018-05-18        385.0       424.0           332.80              119.2\n",
              "2018-05-25        390.0       426.0           330.90              119.2"
            ],
            "text/html": [
              "\n",
              "  <div id=\"df-dde11b55-e154-412a-aacf-ad8bdc3b334b\">\n",
              "    <div class=\"colab-df-container\">\n",
              "      <div>\n",
              "<style scoped>\n",
              "    .dataframe tbody tr th:only-of-type {\n",
              "        vertical-align: middle;\n",
              "    }\n",
              "\n",
              "    .dataframe tbody tr th {\n",
              "        vertical-align: top;\n",
              "    }\n",
              "\n",
              "    .dataframe thead th {\n",
              "        text-align: right;\n",
              "    }\n",
              "</style>\n",
              "<table border=\"1\" class=\"dataframe\">\n",
              "  <thead>\n",
              "    <tr style=\"text-align: right;\">\n",
              "      <th></th>\n",
              "      <th>India Price</th>\n",
              "      <th>Asia Price</th>\n",
              "      <th>Rotterdam Price</th>\n",
              "      <th>US Domestic Price</th>\n",
              "    </tr>\n",
              "    <tr>\n",
              "      <th>Date</th>\n",
              "      <th></th>\n",
              "      <th></th>\n",
              "      <th></th>\n",
              "      <th></th>\n",
              "    </tr>\n",
              "  </thead>\n",
              "  <tbody>\n",
              "    <tr>\n",
              "      <th>2018-03-09</th>\n",
              "      <td>341.0</td>\n",
              "      <td>395.0</td>\n",
              "      <td>323.00</td>\n",
              "      <td>119.2</td>\n",
              "    </tr>\n",
              "    <tr>\n",
              "      <th>2018-03-16</th>\n",
              "      <td>374.0</td>\n",
              "      <td>401.0</td>\n",
              "      <td>315.60</td>\n",
              "      <td>119.2</td>\n",
              "    </tr>\n",
              "    <tr>\n",
              "      <th>2018-03-23</th>\n",
              "      <td>390.0</td>\n",
              "      <td>400.0</td>\n",
              "      <td>314.20</td>\n",
              "      <td>119.2</td>\n",
              "    </tr>\n",
              "    <tr>\n",
              "      <th>2018-03-30</th>\n",
              "      <td>384.0</td>\n",
              "      <td>409.0</td>\n",
              "      <td>310.13</td>\n",
              "      <td>119.2</td>\n",
              "    </tr>\n",
              "    <tr>\n",
              "      <th>2018-04-06</th>\n",
              "      <td>422.0</td>\n",
              "      <td>410.0</td>\n",
              "      <td>317.88</td>\n",
              "      <td>119.2</td>\n",
              "    </tr>\n",
              "    <tr>\n",
              "      <th>2018-04-13</th>\n",
              "      <td>416.0</td>\n",
              "      <td>415.0</td>\n",
              "      <td>323.30</td>\n",
              "      <td>119.2</td>\n",
              "    </tr>\n",
              "    <tr>\n",
              "      <th>2018-04-20</th>\n",
              "      <td>394.0</td>\n",
              "      <td>421.0</td>\n",
              "      <td>318.00</td>\n",
              "      <td>119.2</td>\n",
              "    </tr>\n",
              "    <tr>\n",
              "      <th>2018-04-27</th>\n",
              "      <td>404.0</td>\n",
              "      <td>423.0</td>\n",
              "      <td>310.30</td>\n",
              "      <td>119.2</td>\n",
              "    </tr>\n",
              "    <tr>\n",
              "      <th>2018-05-04</th>\n",
              "      <td>399.0</td>\n",
              "      <td>420.0</td>\n",
              "      <td>314.20</td>\n",
              "      <td>119.2</td>\n",
              "    </tr>\n",
              "    <tr>\n",
              "      <th>2018-05-11</th>\n",
              "      <td>389.0</td>\n",
              "      <td>421.0</td>\n",
              "      <td>330.88</td>\n",
              "      <td>119.2</td>\n",
              "    </tr>\n",
              "    <tr>\n",
              "      <th>2018-05-18</th>\n",
              "      <td>385.0</td>\n",
              "      <td>424.0</td>\n",
              "      <td>332.80</td>\n",
              "      <td>119.2</td>\n",
              "    </tr>\n",
              "    <tr>\n",
              "      <th>2018-05-25</th>\n",
              "      <td>390.0</td>\n",
              "      <td>426.0</td>\n",
              "      <td>330.90</td>\n",
              "      <td>119.2</td>\n",
              "    </tr>\n",
              "  </tbody>\n",
              "</table>\n",
              "</div>\n",
              "      <button class=\"colab-df-convert\" onclick=\"convertToInteractive('df-dde11b55-e154-412a-aacf-ad8bdc3b334b')\"\n",
              "              title=\"Convert this dataframe to an interactive table.\"\n",
              "              style=\"display:none;\">\n",
              "        \n",
              "  <svg xmlns=\"http://www.w3.org/2000/svg\" height=\"24px\"viewBox=\"0 0 24 24\"\n",
              "       width=\"24px\">\n",
              "    <path d=\"M0 0h24v24H0V0z\" fill=\"none\"/>\n",
              "    <path d=\"M18.56 5.44l.94 2.06.94-2.06 2.06-.94-2.06-.94-.94-2.06-.94 2.06-2.06.94zm-11 1L8.5 8.5l.94-2.06 2.06-.94-2.06-.94L8.5 2.5l-.94 2.06-2.06.94zm10 10l.94 2.06.94-2.06 2.06-.94-2.06-.94-.94-2.06-.94 2.06-2.06.94z\"/><path d=\"M17.41 7.96l-1.37-1.37c-.4-.4-.92-.59-1.43-.59-.52 0-1.04.2-1.43.59L10.3 9.45l-7.72 7.72c-.78.78-.78 2.05 0 2.83L4 21.41c.39.39.9.59 1.41.59.51 0 1.02-.2 1.41-.59l7.78-7.78 2.81-2.81c.8-.78.8-2.07 0-2.86zM5.41 20L4 18.59l7.72-7.72 1.47 1.35L5.41 20z\"/>\n",
              "  </svg>\n",
              "      </button>\n",
              "      \n",
              "  <style>\n",
              "    .colab-df-container {\n",
              "      display:flex;\n",
              "      flex-wrap:wrap;\n",
              "      gap: 12px;\n",
              "    }\n",
              "\n",
              "    .colab-df-convert {\n",
              "      background-color: #E8F0FE;\n",
              "      border: none;\n",
              "      border-radius: 50%;\n",
              "      cursor: pointer;\n",
              "      display: none;\n",
              "      fill: #1967D2;\n",
              "      height: 32px;\n",
              "      padding: 0 0 0 0;\n",
              "      width: 32px;\n",
              "    }\n",
              "\n",
              "    .colab-df-convert:hover {\n",
              "      background-color: #E2EBFA;\n",
              "      box-shadow: 0px 1px 2px rgba(60, 64, 67, 0.3), 0px 1px 3px 1px rgba(60, 64, 67, 0.15);\n",
              "      fill: #174EA6;\n",
              "    }\n",
              "\n",
              "    [theme=dark] .colab-df-convert {\n",
              "      background-color: #3B4455;\n",
              "      fill: #D2E3FC;\n",
              "    }\n",
              "\n",
              "    [theme=dark] .colab-df-convert:hover {\n",
              "      background-color: #434B5C;\n",
              "      box-shadow: 0px 1px 3px 1px rgba(0, 0, 0, 0.15);\n",
              "      filter: drop-shadow(0px 1px 2px rgba(0, 0, 0, 0.3));\n",
              "      fill: #FFFFFF;\n",
              "    }\n",
              "  </style>\n",
              "\n",
              "      <script>\n",
              "        const buttonEl =\n",
              "          document.querySelector('#df-dde11b55-e154-412a-aacf-ad8bdc3b334b button.colab-df-convert');\n",
              "        buttonEl.style.display =\n",
              "          google.colab.kernel.accessAllowed ? 'block' : 'none';\n",
              "\n",
              "        async function convertToInteractive(key) {\n",
              "          const element = document.querySelector('#df-dde11b55-e154-412a-aacf-ad8bdc3b334b');\n",
              "          const dataTable =\n",
              "            await google.colab.kernel.invokeFunction('convertToInteractive',\n",
              "                                                     [key], {});\n",
              "          if (!dataTable) return;\n",
              "\n",
              "          const docLinkHtml = 'Like what you see? Visit the ' +\n",
              "            '<a target=\"_blank\" href=https://colab.research.google.com/notebooks/data_table.ipynb>data table notebook</a>'\n",
              "            + ' to learn more about interactive tables.';\n",
              "          element.innerHTML = '';\n",
              "          dataTable['output_type'] = 'display_data';\n",
              "          await google.colab.output.renderOutput(dataTable, element);\n",
              "          const docLink = document.createElement('div');\n",
              "          docLink.innerHTML = docLinkHtml;\n",
              "          element.appendChild(docLink);\n",
              "        }\n",
              "      </script>\n",
              "    </div>\n",
              "  </div>\n",
              "  "
            ]
          },
          "metadata": {},
          "execution_count": 91
        }
      ]
    },
    {
      "cell_type": "markdown",
      "source": [
        "FORECASTING VALUES\n"
      ],
      "metadata": {
        "id": "iHWeVMGXDv2S"
      }
    },
    {
      "cell_type": "code",
      "source": [
        "sl = curr_batch[0,:1,1:]\n",
        "sl=sl.ravel()\n",
        "# np.append(curr_pred,sl,axis=1)\n",
        "sl"
      ],
      "metadata": {
        "colab": {
          "base_uri": "https://localhost:8080/"
        },
        "id": "99eycOQ8Dnat",
        "outputId": "d4fa9011-ec14-49e1-a22c-32382f3df292"
      },
      "execution_count": 92,
      "outputs": [
        {
          "output_type": "execute_result",
          "data": {
            "text/plain": [
              "array([0.55164835, 0.48089682, 0.27010419])"
            ]
          },
          "metadata": {},
          "execution_count": 92
        }
      ]
    },
    {
      "cell_type": "markdown",
      "source": [
        "ROLLING PREDICTIONS OF FUTURE VALUES"
      ],
      "metadata": {
        "id": "-l3S4yJMD0xK"
      }
    },
    {
      "cell_type": "markdown",
      "source": [
        "FUNCTION THAT DOES ROLLING PREDICTIONS"
      ],
      "metadata": {
        "id": "PYOWruFSD1GQ"
      }
    },
    {
      "cell_type": "code",
      "source": [
        "def pred(i,curr_pred,curr_batch):\n",
        "  sl=curr_batch[0,i:(i+1),1:]\n",
        "  sl=sl.ravel()\n",
        "  curr_pred=np.append(curr_pred,sl)\n",
        "  return curr_pred"
      ],
      "metadata": {
        "id": "DHs-sC2_D3jb"
      },
      "execution_count": 84,
      "outputs": []
    },
    {
      "cell_type": "code",
      "source": [
        "type(sl),type(curr_pred)"
      ],
      "metadata": {
        "colab": {
          "base_uri": "https://localhost:8080/"
        },
        "id": "8-4hX76aD7Wb",
        "outputId": "6dcc8aff-0100-4f00-bf0d-d7e5a6137323"
      },
      "execution_count": 85,
      "outputs": [
        {
          "output_type": "execute_result",
          "data": {
            "text/plain": [
              "(numpy.ndarray, numpy.ndarray)"
            ]
          },
          "metadata": {},
          "execution_count": 85
        }
      ]
    },
    {
      "cell_type": "code",
      "source": [
        "curr_pred"
      ],
      "metadata": {
        "colab": {
          "base_uri": "https://localhost:8080/"
        },
        "id": "WkGxEog-D7rZ",
        "outputId": "57081d0f-d4b5-40f4-fe29-a56ab6cc977c"
      },
      "execution_count": 86,
      "outputs": [
        {
          "output_type": "execute_result",
          "data": {
            "text/plain": [
              "array([0.45274866], dtype=float32)"
            ]
          },
          "metadata": {},
          "execution_count": 86
        }
      ]
    },
    {
      "cell_type": "markdown",
      "source": [
        "HERE I HAVE DONE ROLLING PREDICTIONS ,TAKING LAST 12 VALUES OF TRAIN SET AS INPUT AND APPENDING THE NEWLY PREDICTED VALUES"
      ],
      "metadata": {
        "id": "_Pnv0PA9D9V8"
      }
    },
    {
      "cell_type": "markdown",
      "source": [
        "MY TEST SET HAS VALUES OF LAST 4 YEARS OF DATASET ,I HAVE CREATED 3 TEST DATA SUBSETS AND TAKEN LAST TWELVE WEEKS OF DATA FROM THEM TO DO ROLLING PREDICTIONS FOR THE NEXT TWELVE WEEKS OF DATA"
      ],
      "metadata": {
        "id": "T_xOnsf-EAQk"
      }
    },
    {
      "cell_type": "code",
      "source": [
        "test_predictions=[]\n",
        "n_input=12\n",
        "n_features=4\n",
        "\n",
        "first_batch=scaled_train[-n_input:]\n",
        "curr_batch=first_batch.reshape((1,n_input,n_features))\n",
        "for i in range(0,len(test_pred)):#len(test_pred)\n",
        "  curr_pred=model.predict(curr_batch)[0]\n",
        "  test_predictions.append(curr_pred)\n",
        "  slc=pred(i,curr_pred,curr_batch)\n",
        "  curr_batch=np.append(curr_batch[:,1:,:],[[slc]],axis=1)"
      ],
      "metadata": {
        "colab": {
          "base_uri": "https://localhost:8080/"
        },
        "id": "HQjsvJzAD_5_",
        "outputId": "95ea8a67-0e74-4b2c-9d72-bc4cdb906a87"
      },
      "execution_count": 87,
      "outputs": [
        {
          "output_type": "stream",
          "name": "stdout",
          "text": [
            "1/1 [==============================] - 1s 1s/step\n",
            "1/1 [==============================] - 0s 27ms/step\n",
            "1/1 [==============================] - 0s 32ms/step\n",
            "1/1 [==============================] - 0s 35ms/step\n",
            "1/1 [==============================] - 0s 26ms/step\n",
            "1/1 [==============================] - 0s 30ms/step\n",
            "1/1 [==============================] - 0s 26ms/step\n",
            "1/1 [==============================] - 0s 26ms/step\n",
            "1/1 [==============================] - 0s 26ms/step\n",
            "1/1 [==============================] - 0s 26ms/step\n",
            "1/1 [==============================] - 0s 29ms/step\n",
            "1/1 [==============================] - 0s 26ms/step\n"
          ]
        }
      ]
    },
    {
      "cell_type": "code",
      "source": [
        "first_batch.shape"
      ],
      "metadata": {
        "colab": {
          "base_uri": "https://localhost:8080/"
        },
        "id": "IWSU0QzJEHsr",
        "outputId": "ed98b044-6894-493c-ba90-2ca06d483fd5"
      },
      "execution_count": 88,
      "outputs": [
        {
          "output_type": "execute_result",
          "data": {
            "text/plain": [
              "(12, 4)"
            ]
          },
          "metadata": {},
          "execution_count": 88
        }
      ]
    },
    {
      "cell_type": "markdown",
      "source": [
        "FIRST TWELVE WEEKS OF TEST_SET PREDICTIONS"
      ],
      "metadata": {
        "id": "pwAogTJjEKIl"
      }
    },
    {
      "cell_type": "code",
      "source": [
        "test_predictions"
      ],
      "metadata": {
        "colab": {
          "base_uri": "https://localhost:8080/"
        },
        "id": "hIM49fmqEILZ",
        "outputId": "7e88325e-492f-4d8a-c73f-59109e0081b1"
      },
      "execution_count": 93,
      "outputs": [
        {
          "output_type": "execute_result",
          "data": {
            "text/plain": [
              "[array([0.43045327], dtype=float32),\n",
              " array([0.4517791], dtype=float32),\n",
              " array([0.4838407], dtype=float32),\n",
              " array([0.5005835], dtype=float32),\n",
              " array([0.4989325], dtype=float32),\n",
              " array([0.47206438], dtype=float32),\n",
              " array([0.4412351], dtype=float32),\n",
              " array([0.43936235], dtype=float32),\n",
              " array([0.4787646], dtype=float32),\n",
              " array([0.4681193], dtype=float32),\n",
              " array([0.45377624], dtype=float32),\n",
              " array([0.46023184], dtype=float32)]"
            ]
          },
          "metadata": {},
          "execution_count": 93
        }
      ]
    },
    {
      "cell_type": "code",
      "source": [
        "curr_batch"
      ],
      "metadata": {
        "colab": {
          "base_uri": "https://localhost:8080/"
        },
        "id": "O5rdRDCAEMiv",
        "outputId": "bb0653ac-f69b-4a90-d7a3-42d520133caa"
      },
      "execution_count": 94,
      "outputs": [
        {
          "output_type": "execute_result",
          "data": {
            "text/plain": [
              "array([[[0.43045327, 0.55164835, 0.48089682, 0.27010419],\n",
              "        [0.4517791 , 0.59340659, 0.53603294, 0.27010419],\n",
              "        [0.4838407 , 0.57142857, 0.59643102, 0.36094042],\n",
              "        [0.50058353, 0.53846154, 0.60878518, 0.36094042],\n",
              "        [0.49893251, 0.50989011, 0.56623198, 0.39503072],\n",
              "        [0.47206438, 0.4967033 , 0.51452757, 0.39503072],\n",
              "        [0.4412351 , 0.55164835, 0.48089682, 0.27010419],\n",
              "        [0.43936235, 0.57142857, 0.59643102, 0.36094042],\n",
              "        [0.47876459, 0.50989011, 0.56623198, 0.39503072],\n",
              "        [0.46811929, 0.55164835, 0.48089682, 0.27010419],\n",
              "        [0.45377624, 0.50989011, 0.56623198, 0.39503072],\n",
              "        [0.46023184, 0.50989011, 0.56623198, 0.39503072]]])"
            ]
          },
          "metadata": {},
          "execution_count": 94
        }
      ]
    },
    {
      "cell_type": "code",
      "source": [
        "# test_predictions.size\n",
        "type(test_predictions)"
      ],
      "metadata": {
        "colab": {
          "base_uri": "https://localhost:8080/"
        },
        "id": "6oo5tTYfESHg",
        "outputId": "9e97fd8b-1f3c-45a9-af9a-ccc13d1c35c4"
      },
      "execution_count": 95,
      "outputs": [
        {
          "output_type": "execute_result",
          "data": {
            "text/plain": [
              "list"
            ]
          },
          "metadata": {},
          "execution_count": 95
        }
      ]
    },
    {
      "cell_type": "code",
      "source": [
        "test_predictions=np.array(test_predictions)\n",
        "type(test_predictions)"
      ],
      "metadata": {
        "colab": {
          "base_uri": "https://localhost:8080/"
        },
        "id": "GfWRZ0FeEUNh",
        "outputId": "c80525e2-be0c-4ecb-826e-ba8265e3fd0b"
      },
      "execution_count": 96,
      "outputs": [
        {
          "output_type": "execute_result",
          "data": {
            "text/plain": [
              "numpy.ndarray"
            ]
          },
          "metadata": {},
          "execution_count": 96
        }
      ]
    },
    {
      "cell_type": "code",
      "source": [
        "scaled_train.shape"
      ],
      "metadata": {
        "colab": {
          "base_uri": "https://localhost:8080/"
        },
        "id": "uYOKPCD8EWFb",
        "outputId": "d6bacbf2-dc1a-40c7-bdb9-ac7e5baaf01a"
      },
      "execution_count": 97,
      "outputs": [
        {
          "output_type": "execute_result",
          "data": {
            "text/plain": [
              "(636, 4)"
            ]
          },
          "metadata": {},
          "execution_count": 97
        }
      ]
    },
    {
      "cell_type": "code",
      "source": [
        "test.head(12)"
      ],
      "metadata": {
        "colab": {
          "base_uri": "https://localhost:8080/",
          "height": 457
        },
        "id": "eCw2usO2EWXD",
        "outputId": "5bf19260-0f2a-496a-9ff3-250201574739"
      },
      "execution_count": 98,
      "outputs": [
        {
          "output_type": "execute_result",
          "data": {
            "text/plain": [
              "            India Price  Asia Price  Rotterdam Price  US Domestic Price\n",
              "Date                                                                   \n",
              "2018-03-09        341.0       395.0           323.00              119.2\n",
              "2018-03-16        374.0       401.0           315.60              119.2\n",
              "2018-03-23        390.0       400.0           314.20              119.2\n",
              "2018-03-30        384.0       409.0           310.13              119.2\n",
              "2018-04-06        422.0       410.0           317.88              119.2\n",
              "2018-04-13        416.0       415.0           323.30              119.2\n",
              "2018-04-20        394.0       421.0           318.00              119.2\n",
              "2018-04-27        404.0       423.0           310.30              119.2\n",
              "2018-05-04        399.0       420.0           314.20              119.2\n",
              "2018-05-11        389.0       421.0           330.88              119.2\n",
              "2018-05-18        385.0       424.0           332.80              119.2\n",
              "2018-05-25        390.0       426.0           330.90              119.2"
            ],
            "text/html": [
              "\n",
              "  <div id=\"df-340b5029-5f95-408c-8622-ff3229794c43\">\n",
              "    <div class=\"colab-df-container\">\n",
              "      <div>\n",
              "<style scoped>\n",
              "    .dataframe tbody tr th:only-of-type {\n",
              "        vertical-align: middle;\n",
              "    }\n",
              "\n",
              "    .dataframe tbody tr th {\n",
              "        vertical-align: top;\n",
              "    }\n",
              "\n",
              "    .dataframe thead th {\n",
              "        text-align: right;\n",
              "    }\n",
              "</style>\n",
              "<table border=\"1\" class=\"dataframe\">\n",
              "  <thead>\n",
              "    <tr style=\"text-align: right;\">\n",
              "      <th></th>\n",
              "      <th>India Price</th>\n",
              "      <th>Asia Price</th>\n",
              "      <th>Rotterdam Price</th>\n",
              "      <th>US Domestic Price</th>\n",
              "    </tr>\n",
              "    <tr>\n",
              "      <th>Date</th>\n",
              "      <th></th>\n",
              "      <th></th>\n",
              "      <th></th>\n",
              "      <th></th>\n",
              "    </tr>\n",
              "  </thead>\n",
              "  <tbody>\n",
              "    <tr>\n",
              "      <th>2018-03-09</th>\n",
              "      <td>341.0</td>\n",
              "      <td>395.0</td>\n",
              "      <td>323.00</td>\n",
              "      <td>119.2</td>\n",
              "    </tr>\n",
              "    <tr>\n",
              "      <th>2018-03-16</th>\n",
              "      <td>374.0</td>\n",
              "      <td>401.0</td>\n",
              "      <td>315.60</td>\n",
              "      <td>119.2</td>\n",
              "    </tr>\n",
              "    <tr>\n",
              "      <th>2018-03-23</th>\n",
              "      <td>390.0</td>\n",
              "      <td>400.0</td>\n",
              "      <td>314.20</td>\n",
              "      <td>119.2</td>\n",
              "    </tr>\n",
              "    <tr>\n",
              "      <th>2018-03-30</th>\n",
              "      <td>384.0</td>\n",
              "      <td>409.0</td>\n",
              "      <td>310.13</td>\n",
              "      <td>119.2</td>\n",
              "    </tr>\n",
              "    <tr>\n",
              "      <th>2018-04-06</th>\n",
              "      <td>422.0</td>\n",
              "      <td>410.0</td>\n",
              "      <td>317.88</td>\n",
              "      <td>119.2</td>\n",
              "    </tr>\n",
              "    <tr>\n",
              "      <th>2018-04-13</th>\n",
              "      <td>416.0</td>\n",
              "      <td>415.0</td>\n",
              "      <td>323.30</td>\n",
              "      <td>119.2</td>\n",
              "    </tr>\n",
              "    <tr>\n",
              "      <th>2018-04-20</th>\n",
              "      <td>394.0</td>\n",
              "      <td>421.0</td>\n",
              "      <td>318.00</td>\n",
              "      <td>119.2</td>\n",
              "    </tr>\n",
              "    <tr>\n",
              "      <th>2018-04-27</th>\n",
              "      <td>404.0</td>\n",
              "      <td>423.0</td>\n",
              "      <td>310.30</td>\n",
              "      <td>119.2</td>\n",
              "    </tr>\n",
              "    <tr>\n",
              "      <th>2018-05-04</th>\n",
              "      <td>399.0</td>\n",
              "      <td>420.0</td>\n",
              "      <td>314.20</td>\n",
              "      <td>119.2</td>\n",
              "    </tr>\n",
              "    <tr>\n",
              "      <th>2018-05-11</th>\n",
              "      <td>389.0</td>\n",
              "      <td>421.0</td>\n",
              "      <td>330.88</td>\n",
              "      <td>119.2</td>\n",
              "    </tr>\n",
              "    <tr>\n",
              "      <th>2018-05-18</th>\n",
              "      <td>385.0</td>\n",
              "      <td>424.0</td>\n",
              "      <td>332.80</td>\n",
              "      <td>119.2</td>\n",
              "    </tr>\n",
              "    <tr>\n",
              "      <th>2018-05-25</th>\n",
              "      <td>390.0</td>\n",
              "      <td>426.0</td>\n",
              "      <td>330.90</td>\n",
              "      <td>119.2</td>\n",
              "    </tr>\n",
              "  </tbody>\n",
              "</table>\n",
              "</div>\n",
              "      <button class=\"colab-df-convert\" onclick=\"convertToInteractive('df-340b5029-5f95-408c-8622-ff3229794c43')\"\n",
              "              title=\"Convert this dataframe to an interactive table.\"\n",
              "              style=\"display:none;\">\n",
              "        \n",
              "  <svg xmlns=\"http://www.w3.org/2000/svg\" height=\"24px\"viewBox=\"0 0 24 24\"\n",
              "       width=\"24px\">\n",
              "    <path d=\"M0 0h24v24H0V0z\" fill=\"none\"/>\n",
              "    <path d=\"M18.56 5.44l.94 2.06.94-2.06 2.06-.94-2.06-.94-.94-2.06-.94 2.06-2.06.94zm-11 1L8.5 8.5l.94-2.06 2.06-.94-2.06-.94L8.5 2.5l-.94 2.06-2.06.94zm10 10l.94 2.06.94-2.06 2.06-.94-2.06-.94-.94-2.06-.94 2.06-2.06.94z\"/><path d=\"M17.41 7.96l-1.37-1.37c-.4-.4-.92-.59-1.43-.59-.52 0-1.04.2-1.43.59L10.3 9.45l-7.72 7.72c-.78.78-.78 2.05 0 2.83L4 21.41c.39.39.9.59 1.41.59.51 0 1.02-.2 1.41-.59l7.78-7.78 2.81-2.81c.8-.78.8-2.07 0-2.86zM5.41 20L4 18.59l7.72-7.72 1.47 1.35L5.41 20z\"/>\n",
              "  </svg>\n",
              "      </button>\n",
              "      \n",
              "  <style>\n",
              "    .colab-df-container {\n",
              "      display:flex;\n",
              "      flex-wrap:wrap;\n",
              "      gap: 12px;\n",
              "    }\n",
              "\n",
              "    .colab-df-convert {\n",
              "      background-color: #E8F0FE;\n",
              "      border: none;\n",
              "      border-radius: 50%;\n",
              "      cursor: pointer;\n",
              "      display: none;\n",
              "      fill: #1967D2;\n",
              "      height: 32px;\n",
              "      padding: 0 0 0 0;\n",
              "      width: 32px;\n",
              "    }\n",
              "\n",
              "    .colab-df-convert:hover {\n",
              "      background-color: #E2EBFA;\n",
              "      box-shadow: 0px 1px 2px rgba(60, 64, 67, 0.3), 0px 1px 3px 1px rgba(60, 64, 67, 0.15);\n",
              "      fill: #174EA6;\n",
              "    }\n",
              "\n",
              "    [theme=dark] .colab-df-convert {\n",
              "      background-color: #3B4455;\n",
              "      fill: #D2E3FC;\n",
              "    }\n",
              "\n",
              "    [theme=dark] .colab-df-convert:hover {\n",
              "      background-color: #434B5C;\n",
              "      box-shadow: 0px 1px 3px 1px rgba(0, 0, 0, 0.15);\n",
              "      filter: drop-shadow(0px 1px 2px rgba(0, 0, 0, 0.3));\n",
              "      fill: #FFFFFF;\n",
              "    }\n",
              "  </style>\n",
              "\n",
              "      <script>\n",
              "        const buttonEl =\n",
              "          document.querySelector('#df-340b5029-5f95-408c-8622-ff3229794c43 button.colab-df-convert');\n",
              "        buttonEl.style.display =\n",
              "          google.colab.kernel.accessAllowed ? 'block' : 'none';\n",
              "\n",
              "        async function convertToInteractive(key) {\n",
              "          const element = document.querySelector('#df-340b5029-5f95-408c-8622-ff3229794c43');\n",
              "          const dataTable =\n",
              "            await google.colab.kernel.invokeFunction('convertToInteractive',\n",
              "                                                     [key], {});\n",
              "          if (!dataTable) return;\n",
              "\n",
              "          const docLinkHtml = 'Like what you see? Visit the ' +\n",
              "            '<a target=\"_blank\" href=https://colab.research.google.com/notebooks/data_table.ipynb>data table notebook</a>'\n",
              "            + ' to learn more about interactive tables.';\n",
              "          element.innerHTML = '';\n",
              "          dataTable['output_type'] = 'display_data';\n",
              "          await google.colab.output.renderOutput(dataTable, element);\n",
              "          const docLink = document.createElement('div');\n",
              "          docLink.innerHTML = docLinkHtml;\n",
              "          element.appendChild(docLink);\n",
              "        }\n",
              "      </script>\n",
              "    </div>\n",
              "  </div>\n",
              "  "
            ]
          },
          "metadata": {},
          "execution_count": 98
        }
      ]
    },
    {
      "cell_type": "markdown",
      "source": [
        "FEATURE SCALING VALUES"
      ],
      "metadata": {
        "id": "FbQ4YJkUEbDY"
      }
    },
    {
      "cell_type": "code",
      "source": [
        "testing=X[636:648]\n",
        "testing_scaled=scaler.fit_transform(testing)"
      ],
      "metadata": {
        "id": "s6k7_FcXEbXN"
      },
      "execution_count": 99,
      "outputs": []
    },
    {
      "cell_type": "code",
      "source": [
        "curr_batch=curr_batch.reshape(n_input,n_features)\n",
        "curr_batch.shape"
      ],
      "metadata": {
        "colab": {
          "base_uri": "https://localhost:8080/"
        },
        "id": "GyfjaiIPEdPv",
        "outputId": "e8ac1ce5-a998-42c3-8f0f-b48eb17bc19f"
      },
      "execution_count": 100,
      "outputs": [
        {
          "output_type": "execute_result",
          "data": {
            "text/plain": [
              "(12, 4)"
            ]
          },
          "metadata": {},
          "execution_count": 100
        }
      ]
    },
    {
      "cell_type": "code",
      "source": [
        "true_predictions=scaler.inverse_transform(curr_batch)\n",
        "true_predictions"
      ],
      "metadata": {
        "colab": {
          "base_uri": "https://localhost:8080/"
        },
        "id": "zoEGU05uEfA7",
        "outputId": "24fd985d-8f40-41c6-bd73-2da8d0d200b5"
      },
      "execution_count": 101,
      "outputs": [
        {
          "output_type": "execute_result",
          "data": {
            "text/plain": [
              "array([[375.86671492, 412.1010989 , 321.03193091, 119.47010419],\n",
              "       [377.59410688, 413.3956044 , 322.28186685, 119.47010419],\n",
              "       [380.19109702, 412.71428571, 323.65109128, 119.56094042],\n",
              "       [381.54726589, 411.69230769, 323.93115992, 119.56094042],\n",
              "       [381.41353336, 410.80659341, 322.96647907, 119.59503072],\n",
              "       [379.23721445, 410.3978022 , 321.79433997, 119.59503072],\n",
              "       [376.74004272, 412.1010989 , 321.03193091, 119.47010419],\n",
              "       [376.58835012, 412.71428571, 323.65109128, 119.56094042],\n",
              "       [379.77993208, 410.80659341, 322.96647907, 119.59503072],\n",
              "       [378.91766277, 412.1010989 , 321.03193091, 119.47010419],\n",
              "       [377.75587547, 410.80659341, 322.96647907, 119.59503072],\n",
              "       [378.27877909, 410.80659341, 322.96647907, 119.59503072]])"
            ]
          },
          "metadata": {},
          "execution_count": 101
        }
      ]
    },
    {
      "cell_type": "code",
      "source": [
        "df_predictions=testing\n",
        "df_predictions\n",
        "df_predictions['IndiaPrice_pred']=true_predictions[:,0]\n",
        "df_predictions"
      ],
      "metadata": {
        "colab": {
          "base_uri": "https://localhost:8080/",
          "height": 564
        },
        "id": "kYy3gn7kEgtO",
        "outputId": "33f34b9f-ce86-4aa3-d3b1-c96201d850ab"
      },
      "execution_count": 102,
      "outputs": [
        {
          "output_type": "stream",
          "name": "stderr",
          "text": [
            "<ipython-input-102-fb40b649910a>:3: SettingWithCopyWarning: \n",
            "A value is trying to be set on a copy of a slice from a DataFrame.\n",
            "Try using .loc[row_indexer,col_indexer] = value instead\n",
            "\n",
            "See the caveats in the documentation: https://pandas.pydata.org/pandas-docs/stable/user_guide/indexing.html#returning-a-view-versus-a-copy\n",
            "  df_predictions['IndiaPrice_pred']=true_predictions[:,0]\n"
          ]
        },
        {
          "output_type": "execute_result",
          "data": {
            "text/plain": [
              "            India Price  Asia Price  Rotterdam Price  US Domestic Price  \\\n",
              "Date                                                                      \n",
              "2018-03-09        341.0       395.0           323.00              119.2   \n",
              "2018-03-16        374.0       401.0           315.60              119.2   \n",
              "2018-03-23        390.0       400.0           314.20              119.2   \n",
              "2018-03-30        384.0       409.0           310.13              119.2   \n",
              "2018-04-06        422.0       410.0           317.88              119.2   \n",
              "2018-04-13        416.0       415.0           323.30              119.2   \n",
              "2018-04-20        394.0       421.0           318.00              119.2   \n",
              "2018-04-27        404.0       423.0           310.30              119.2   \n",
              "2018-05-04        399.0       420.0           314.20              119.2   \n",
              "2018-05-11        389.0       421.0           330.88              119.2   \n",
              "2018-05-18        385.0       424.0           332.80              119.2   \n",
              "2018-05-25        390.0       426.0           330.90              119.2   \n",
              "\n",
              "            IndiaPrice_pred  \n",
              "Date                         \n",
              "2018-03-09       375.866715  \n",
              "2018-03-16       377.594107  \n",
              "2018-03-23       380.191097  \n",
              "2018-03-30       381.547266  \n",
              "2018-04-06       381.413533  \n",
              "2018-04-13       379.237214  \n",
              "2018-04-20       376.740043  \n",
              "2018-04-27       376.588350  \n",
              "2018-05-04       379.779932  \n",
              "2018-05-11       378.917663  \n",
              "2018-05-18       377.755875  \n",
              "2018-05-25       378.278779  "
            ],
            "text/html": [
              "\n",
              "  <div id=\"df-6cf03546-93d4-45fc-83a2-eb71c925cddb\">\n",
              "    <div class=\"colab-df-container\">\n",
              "      <div>\n",
              "<style scoped>\n",
              "    .dataframe tbody tr th:only-of-type {\n",
              "        vertical-align: middle;\n",
              "    }\n",
              "\n",
              "    .dataframe tbody tr th {\n",
              "        vertical-align: top;\n",
              "    }\n",
              "\n",
              "    .dataframe thead th {\n",
              "        text-align: right;\n",
              "    }\n",
              "</style>\n",
              "<table border=\"1\" class=\"dataframe\">\n",
              "  <thead>\n",
              "    <tr style=\"text-align: right;\">\n",
              "      <th></th>\n",
              "      <th>India Price</th>\n",
              "      <th>Asia Price</th>\n",
              "      <th>Rotterdam Price</th>\n",
              "      <th>US Domestic Price</th>\n",
              "      <th>IndiaPrice_pred</th>\n",
              "    </tr>\n",
              "    <tr>\n",
              "      <th>Date</th>\n",
              "      <th></th>\n",
              "      <th></th>\n",
              "      <th></th>\n",
              "      <th></th>\n",
              "      <th></th>\n",
              "    </tr>\n",
              "  </thead>\n",
              "  <tbody>\n",
              "    <tr>\n",
              "      <th>2018-03-09</th>\n",
              "      <td>341.0</td>\n",
              "      <td>395.0</td>\n",
              "      <td>323.00</td>\n",
              "      <td>119.2</td>\n",
              "      <td>375.866715</td>\n",
              "    </tr>\n",
              "    <tr>\n",
              "      <th>2018-03-16</th>\n",
              "      <td>374.0</td>\n",
              "      <td>401.0</td>\n",
              "      <td>315.60</td>\n",
              "      <td>119.2</td>\n",
              "      <td>377.594107</td>\n",
              "    </tr>\n",
              "    <tr>\n",
              "      <th>2018-03-23</th>\n",
              "      <td>390.0</td>\n",
              "      <td>400.0</td>\n",
              "      <td>314.20</td>\n",
              "      <td>119.2</td>\n",
              "      <td>380.191097</td>\n",
              "    </tr>\n",
              "    <tr>\n",
              "      <th>2018-03-30</th>\n",
              "      <td>384.0</td>\n",
              "      <td>409.0</td>\n",
              "      <td>310.13</td>\n",
              "      <td>119.2</td>\n",
              "      <td>381.547266</td>\n",
              "    </tr>\n",
              "    <tr>\n",
              "      <th>2018-04-06</th>\n",
              "      <td>422.0</td>\n",
              "      <td>410.0</td>\n",
              "      <td>317.88</td>\n",
              "      <td>119.2</td>\n",
              "      <td>381.413533</td>\n",
              "    </tr>\n",
              "    <tr>\n",
              "      <th>2018-04-13</th>\n",
              "      <td>416.0</td>\n",
              "      <td>415.0</td>\n",
              "      <td>323.30</td>\n",
              "      <td>119.2</td>\n",
              "      <td>379.237214</td>\n",
              "    </tr>\n",
              "    <tr>\n",
              "      <th>2018-04-20</th>\n",
              "      <td>394.0</td>\n",
              "      <td>421.0</td>\n",
              "      <td>318.00</td>\n",
              "      <td>119.2</td>\n",
              "      <td>376.740043</td>\n",
              "    </tr>\n",
              "    <tr>\n",
              "      <th>2018-04-27</th>\n",
              "      <td>404.0</td>\n",
              "      <td>423.0</td>\n",
              "      <td>310.30</td>\n",
              "      <td>119.2</td>\n",
              "      <td>376.588350</td>\n",
              "    </tr>\n",
              "    <tr>\n",
              "      <th>2018-05-04</th>\n",
              "      <td>399.0</td>\n",
              "      <td>420.0</td>\n",
              "      <td>314.20</td>\n",
              "      <td>119.2</td>\n",
              "      <td>379.779932</td>\n",
              "    </tr>\n",
              "    <tr>\n",
              "      <th>2018-05-11</th>\n",
              "      <td>389.0</td>\n",
              "      <td>421.0</td>\n",
              "      <td>330.88</td>\n",
              "      <td>119.2</td>\n",
              "      <td>378.917663</td>\n",
              "    </tr>\n",
              "    <tr>\n",
              "      <th>2018-05-18</th>\n",
              "      <td>385.0</td>\n",
              "      <td>424.0</td>\n",
              "      <td>332.80</td>\n",
              "      <td>119.2</td>\n",
              "      <td>377.755875</td>\n",
              "    </tr>\n",
              "    <tr>\n",
              "      <th>2018-05-25</th>\n",
              "      <td>390.0</td>\n",
              "      <td>426.0</td>\n",
              "      <td>330.90</td>\n",
              "      <td>119.2</td>\n",
              "      <td>378.278779</td>\n",
              "    </tr>\n",
              "  </tbody>\n",
              "</table>\n",
              "</div>\n",
              "      <button class=\"colab-df-convert\" onclick=\"convertToInteractive('df-6cf03546-93d4-45fc-83a2-eb71c925cddb')\"\n",
              "              title=\"Convert this dataframe to an interactive table.\"\n",
              "              style=\"display:none;\">\n",
              "        \n",
              "  <svg xmlns=\"http://www.w3.org/2000/svg\" height=\"24px\"viewBox=\"0 0 24 24\"\n",
              "       width=\"24px\">\n",
              "    <path d=\"M0 0h24v24H0V0z\" fill=\"none\"/>\n",
              "    <path d=\"M18.56 5.44l.94 2.06.94-2.06 2.06-.94-2.06-.94-.94-2.06-.94 2.06-2.06.94zm-11 1L8.5 8.5l.94-2.06 2.06-.94-2.06-.94L8.5 2.5l-.94 2.06-2.06.94zm10 10l.94 2.06.94-2.06 2.06-.94-2.06-.94-.94-2.06-.94 2.06-2.06.94z\"/><path d=\"M17.41 7.96l-1.37-1.37c-.4-.4-.92-.59-1.43-.59-.52 0-1.04.2-1.43.59L10.3 9.45l-7.72 7.72c-.78.78-.78 2.05 0 2.83L4 21.41c.39.39.9.59 1.41.59.51 0 1.02-.2 1.41-.59l7.78-7.78 2.81-2.81c.8-.78.8-2.07 0-2.86zM5.41 20L4 18.59l7.72-7.72 1.47 1.35L5.41 20z\"/>\n",
              "  </svg>\n",
              "      </button>\n",
              "      \n",
              "  <style>\n",
              "    .colab-df-container {\n",
              "      display:flex;\n",
              "      flex-wrap:wrap;\n",
              "      gap: 12px;\n",
              "    }\n",
              "\n",
              "    .colab-df-convert {\n",
              "      background-color: #E8F0FE;\n",
              "      border: none;\n",
              "      border-radius: 50%;\n",
              "      cursor: pointer;\n",
              "      display: none;\n",
              "      fill: #1967D2;\n",
              "      height: 32px;\n",
              "      padding: 0 0 0 0;\n",
              "      width: 32px;\n",
              "    }\n",
              "\n",
              "    .colab-df-convert:hover {\n",
              "      background-color: #E2EBFA;\n",
              "      box-shadow: 0px 1px 2px rgba(60, 64, 67, 0.3), 0px 1px 3px 1px rgba(60, 64, 67, 0.15);\n",
              "      fill: #174EA6;\n",
              "    }\n",
              "\n",
              "    [theme=dark] .colab-df-convert {\n",
              "      background-color: #3B4455;\n",
              "      fill: #D2E3FC;\n",
              "    }\n",
              "\n",
              "    [theme=dark] .colab-df-convert:hover {\n",
              "      background-color: #434B5C;\n",
              "      box-shadow: 0px 1px 3px 1px rgba(0, 0, 0, 0.15);\n",
              "      filter: drop-shadow(0px 1px 2px rgba(0, 0, 0, 0.3));\n",
              "      fill: #FFFFFF;\n",
              "    }\n",
              "  </style>\n",
              "\n",
              "      <script>\n",
              "        const buttonEl =\n",
              "          document.querySelector('#df-6cf03546-93d4-45fc-83a2-eb71c925cddb button.colab-df-convert');\n",
              "        buttonEl.style.display =\n",
              "          google.colab.kernel.accessAllowed ? 'block' : 'none';\n",
              "\n",
              "        async function convertToInteractive(key) {\n",
              "          const element = document.querySelector('#df-6cf03546-93d4-45fc-83a2-eb71c925cddb');\n",
              "          const dataTable =\n",
              "            await google.colab.kernel.invokeFunction('convertToInteractive',\n",
              "                                                     [key], {});\n",
              "          if (!dataTable) return;\n",
              "\n",
              "          const docLinkHtml = 'Like what you see? Visit the ' +\n",
              "            '<a target=\"_blank\" href=https://colab.research.google.com/notebooks/data_table.ipynb>data table notebook</a>'\n",
              "            + ' to learn more about interactive tables.';\n",
              "          element.innerHTML = '';\n",
              "          dataTable['output_type'] = 'display_data';\n",
              "          await google.colab.output.renderOutput(dataTable, element);\n",
              "          const docLink = document.createElement('div');\n",
              "          docLink.innerHTML = docLinkHtml;\n",
              "          element.appendChild(docLink);\n",
              "        }\n",
              "      </script>\n",
              "    </div>\n",
              "  </div>\n",
              "  "
            ]
          },
          "metadata": {},
          "execution_count": 102
        }
      ]
    },
    {
      "cell_type": "markdown",
      "source": [
        "ACTUAL VALUES VS PREDICTED ASIA VALUE PRICES"
      ],
      "metadata": {
        "id": "o8WE62r-EpX3"
      }
    },
    {
      "cell_type": "code",
      "source": [
        "df_predictions[['India Price','IndiaPrice_pred']]"
      ],
      "metadata": {
        "colab": {
          "base_uri": "https://localhost:8080/",
          "height": 457
        },
        "id": "QHOcjIG2Epuu",
        "outputId": "163282ae-160e-4302-ca24-93870b6ea26d"
      },
      "execution_count": 103,
      "outputs": [
        {
          "output_type": "execute_result",
          "data": {
            "text/plain": [
              "            India Price  IndiaPrice_pred\n",
              "Date                                    \n",
              "2018-03-09        341.0       375.866715\n",
              "2018-03-16        374.0       377.594107\n",
              "2018-03-23        390.0       380.191097\n",
              "2018-03-30        384.0       381.547266\n",
              "2018-04-06        422.0       381.413533\n",
              "2018-04-13        416.0       379.237214\n",
              "2018-04-20        394.0       376.740043\n",
              "2018-04-27        404.0       376.588350\n",
              "2018-05-04        399.0       379.779932\n",
              "2018-05-11        389.0       378.917663\n",
              "2018-05-18        385.0       377.755875\n",
              "2018-05-25        390.0       378.278779"
            ],
            "text/html": [
              "\n",
              "  <div id=\"df-b33c4123-e5ab-4caa-b8b8-ead1c83952a2\">\n",
              "    <div class=\"colab-df-container\">\n",
              "      <div>\n",
              "<style scoped>\n",
              "    .dataframe tbody tr th:only-of-type {\n",
              "        vertical-align: middle;\n",
              "    }\n",
              "\n",
              "    .dataframe tbody tr th {\n",
              "        vertical-align: top;\n",
              "    }\n",
              "\n",
              "    .dataframe thead th {\n",
              "        text-align: right;\n",
              "    }\n",
              "</style>\n",
              "<table border=\"1\" class=\"dataframe\">\n",
              "  <thead>\n",
              "    <tr style=\"text-align: right;\">\n",
              "      <th></th>\n",
              "      <th>India Price</th>\n",
              "      <th>IndiaPrice_pred</th>\n",
              "    </tr>\n",
              "    <tr>\n",
              "      <th>Date</th>\n",
              "      <th></th>\n",
              "      <th></th>\n",
              "    </tr>\n",
              "  </thead>\n",
              "  <tbody>\n",
              "    <tr>\n",
              "      <th>2018-03-09</th>\n",
              "      <td>341.0</td>\n",
              "      <td>375.866715</td>\n",
              "    </tr>\n",
              "    <tr>\n",
              "      <th>2018-03-16</th>\n",
              "      <td>374.0</td>\n",
              "      <td>377.594107</td>\n",
              "    </tr>\n",
              "    <tr>\n",
              "      <th>2018-03-23</th>\n",
              "      <td>390.0</td>\n",
              "      <td>380.191097</td>\n",
              "    </tr>\n",
              "    <tr>\n",
              "      <th>2018-03-30</th>\n",
              "      <td>384.0</td>\n",
              "      <td>381.547266</td>\n",
              "    </tr>\n",
              "    <tr>\n",
              "      <th>2018-04-06</th>\n",
              "      <td>422.0</td>\n",
              "      <td>381.413533</td>\n",
              "    </tr>\n",
              "    <tr>\n",
              "      <th>2018-04-13</th>\n",
              "      <td>416.0</td>\n",
              "      <td>379.237214</td>\n",
              "    </tr>\n",
              "    <tr>\n",
              "      <th>2018-04-20</th>\n",
              "      <td>394.0</td>\n",
              "      <td>376.740043</td>\n",
              "    </tr>\n",
              "    <tr>\n",
              "      <th>2018-04-27</th>\n",
              "      <td>404.0</td>\n",
              "      <td>376.588350</td>\n",
              "    </tr>\n",
              "    <tr>\n",
              "      <th>2018-05-04</th>\n",
              "      <td>399.0</td>\n",
              "      <td>379.779932</td>\n",
              "    </tr>\n",
              "    <tr>\n",
              "      <th>2018-05-11</th>\n",
              "      <td>389.0</td>\n",
              "      <td>378.917663</td>\n",
              "    </tr>\n",
              "    <tr>\n",
              "      <th>2018-05-18</th>\n",
              "      <td>385.0</td>\n",
              "      <td>377.755875</td>\n",
              "    </tr>\n",
              "    <tr>\n",
              "      <th>2018-05-25</th>\n",
              "      <td>390.0</td>\n",
              "      <td>378.278779</td>\n",
              "    </tr>\n",
              "  </tbody>\n",
              "</table>\n",
              "</div>\n",
              "      <button class=\"colab-df-convert\" onclick=\"convertToInteractive('df-b33c4123-e5ab-4caa-b8b8-ead1c83952a2')\"\n",
              "              title=\"Convert this dataframe to an interactive table.\"\n",
              "              style=\"display:none;\">\n",
              "        \n",
              "  <svg xmlns=\"http://www.w3.org/2000/svg\" height=\"24px\"viewBox=\"0 0 24 24\"\n",
              "       width=\"24px\">\n",
              "    <path d=\"M0 0h24v24H0V0z\" fill=\"none\"/>\n",
              "    <path d=\"M18.56 5.44l.94 2.06.94-2.06 2.06-.94-2.06-.94-.94-2.06-.94 2.06-2.06.94zm-11 1L8.5 8.5l.94-2.06 2.06-.94-2.06-.94L8.5 2.5l-.94 2.06-2.06.94zm10 10l.94 2.06.94-2.06 2.06-.94-2.06-.94-.94-2.06-.94 2.06-2.06.94z\"/><path d=\"M17.41 7.96l-1.37-1.37c-.4-.4-.92-.59-1.43-.59-.52 0-1.04.2-1.43.59L10.3 9.45l-7.72 7.72c-.78.78-.78 2.05 0 2.83L4 21.41c.39.39.9.59 1.41.59.51 0 1.02-.2 1.41-.59l7.78-7.78 2.81-2.81c.8-.78.8-2.07 0-2.86zM5.41 20L4 18.59l7.72-7.72 1.47 1.35L5.41 20z\"/>\n",
              "  </svg>\n",
              "      </button>\n",
              "      \n",
              "  <style>\n",
              "    .colab-df-container {\n",
              "      display:flex;\n",
              "      flex-wrap:wrap;\n",
              "      gap: 12px;\n",
              "    }\n",
              "\n",
              "    .colab-df-convert {\n",
              "      background-color: #E8F0FE;\n",
              "      border: none;\n",
              "      border-radius: 50%;\n",
              "      cursor: pointer;\n",
              "      display: none;\n",
              "      fill: #1967D2;\n",
              "      height: 32px;\n",
              "      padding: 0 0 0 0;\n",
              "      width: 32px;\n",
              "    }\n",
              "\n",
              "    .colab-df-convert:hover {\n",
              "      background-color: #E2EBFA;\n",
              "      box-shadow: 0px 1px 2px rgba(60, 64, 67, 0.3), 0px 1px 3px 1px rgba(60, 64, 67, 0.15);\n",
              "      fill: #174EA6;\n",
              "    }\n",
              "\n",
              "    [theme=dark] .colab-df-convert {\n",
              "      background-color: #3B4455;\n",
              "      fill: #D2E3FC;\n",
              "    }\n",
              "\n",
              "    [theme=dark] .colab-df-convert:hover {\n",
              "      background-color: #434B5C;\n",
              "      box-shadow: 0px 1px 3px 1px rgba(0, 0, 0, 0.15);\n",
              "      filter: drop-shadow(0px 1px 2px rgba(0, 0, 0, 0.3));\n",
              "      fill: #FFFFFF;\n",
              "    }\n",
              "  </style>\n",
              "\n",
              "      <script>\n",
              "        const buttonEl =\n",
              "          document.querySelector('#df-b33c4123-e5ab-4caa-b8b8-ead1c83952a2 button.colab-df-convert');\n",
              "        buttonEl.style.display =\n",
              "          google.colab.kernel.accessAllowed ? 'block' : 'none';\n",
              "\n",
              "        async function convertToInteractive(key) {\n",
              "          const element = document.querySelector('#df-b33c4123-e5ab-4caa-b8b8-ead1c83952a2');\n",
              "          const dataTable =\n",
              "            await google.colab.kernel.invokeFunction('convertToInteractive',\n",
              "                                                     [key], {});\n",
              "          if (!dataTable) return;\n",
              "\n",
              "          const docLinkHtml = 'Like what you see? Visit the ' +\n",
              "            '<a target=\"_blank\" href=https://colab.research.google.com/notebooks/data_table.ipynb>data table notebook</a>'\n",
              "            + ' to learn more about interactive tables.';\n",
              "          element.innerHTML = '';\n",
              "          dataTable['output_type'] = 'display_data';\n",
              "          await google.colab.output.renderOutput(dataTable, element);\n",
              "          const docLink = document.createElement('div');\n",
              "          docLink.innerHTML = docLinkHtml;\n",
              "          element.appendChild(docLink);\n",
              "        }\n",
              "      </script>\n",
              "    </div>\n",
              "  </div>\n",
              "  "
            ]
          },
          "metadata": {},
          "execution_count": 103
        }
      ]
    },
    {
      "cell_type": "code",
      "source": [
        "df_predictions['India Price'].plot(figsize=(10,6))\n",
        "df_predictions['IndiaPrice_pred'].plot()"
      ],
      "metadata": {
        "colab": {
          "base_uri": "https://localhost:8080/",
          "height": 608
        },
        "id": "xrotOTdmEsBf",
        "outputId": "2c383c63-b03b-4bb2-d9b2-b6b6a6104118"
      },
      "execution_count": 104,
      "outputs": [
        {
          "output_type": "execute_result",
          "data": {
            "text/plain": [
              "<Axes: xlabel='Date'>"
            ]
          },
          "metadata": {},
          "execution_count": 104
        },
        {
          "output_type": "display_data",
          "data": {
            "text/plain": [
              "<Figure size 1000x600 with 1 Axes>"
            ],
            "image/png": "[encoded data removed]"
          },
          "metadata": {}
        }
      ]
    },
    {
      "cell_type": "code",
      "source": [
        "from sklearn.metrics import mean_squared_error\n",
        "from math import sqrt\n",
        "error=sqrt(mean_squared_error(df_predictions['India Price'],df_predictions['IndiaPrice_pred']))\n",
        "print(error)"
      ],
      "metadata": {
        "colab": {
          "base_uri": "https://localhost:8080/"
        },
        "id": "1wZoBiabEwKH",
        "outputId": "55e9c6e5-d389-410d-9226-b606a87ebd0a"
      },
      "execution_count": 105,
      "outputs": [
        {
          "output_type": "stream",
          "name": "stdout",
          "text": [
            "22.434781667513604\n"
          ]
        }
      ]
    },
    {
      "cell_type": "code",
      "source": [
        "# Calculate range of test set\n",
        "range_test = test.max() - test.min()\n",
        "\n",
        "# Calculate Normalized RMSE\n",
        "normalized_rmse = error / range_test\n",
        "\n",
        "print(normalized_rmse)"
      ],
      "metadata": {
        "colab": {
          "base_uri": "https://localhost:8080/"
        },
        "id": "6FC725ouOg2A",
        "outputId": "c54f2dfa-f9a1-46f7-cb85-828682e1ab13"
      },
      "execution_count": 146,
      "outputs": [
        {
          "output_type": "stream",
          "name": "stdout",
          "text": [
            "India Price          0.070218\n",
            "Asia Price           0.079556\n",
            "Rotterdam Price      0.089811\n",
            "US Domestic Price    0.316206\n",
            "dtype: float64\n"
          ]
        }
      ]
    },
    {
      "cell_type": "code",
      "source": [
        "curr_batch.shape"
      ],
      "metadata": {
        "colab": {
          "base_uri": "https://localhost:8080/"
        },
        "id": "c7xPTSQgEyAL",
        "outputId": "487433bc-d209-4db0-e7a8-c0f03498e61e"
      },
      "execution_count": 106,
      "outputs": [
        {
          "output_type": "execute_result",
          "data": {
            "text/plain": [
              "(12, 4)"
            ]
          },
          "metadata": {},
          "execution_count": 106
        }
      ]
    },
    {
      "cell_type": "markdown",
      "source": [
        "TAKING LAST TWELVE VALUES OF TEST SUBSET 1 TO PREDICT VALUES OF NEXT 12 WEEKS OF 2ND TEST SUBSET"
      ],
      "metadata": {
        "id": "ztdx5e7OE0cz"
      }
    },
    {
      "cell_type": "code",
      "source": [
        "test['2019-03-01':'2019-06-01']\n",
        "test2_input=data[675:687]\n",
        "test2_input_scaled=scaler.fit_transform(test2_input)"
      ],
      "metadata": {
        "id": "vbi2lVM7E26p"
      },
      "execution_count": 107,
      "outputs": []
    },
    {
      "cell_type": "code",
      "source": [
        "test2_input"
      ],
      "metadata": {
        "colab": {
          "base_uri": "https://localhost:8080/",
          "height": 457
        },
        "id": "G_Ig45mME7X0",
        "outputId": "b4ec67c6-07d2-4f97-dd4a-7254baea7bc6"
      },
      "execution_count": 108,
      "outputs": [
        {
          "output_type": "execute_result",
          "data": {
            "text/plain": [
              "            India Price  Asia Price  Rotterdam Price  US Domestic Price\n",
              "Date                                                                   \n",
              "2018-12-07        250.0       330.0           289.90             120.28\n",
              "2018-12-14        238.0       320.0           293.20             120.28\n",
              "2018-12-21        230.5       300.0           287.30             120.28\n",
              "2019-01-04        232.5       299.0           288.67             112.63\n",
              "2019-01-11        233.0       299.0           277.20             112.63\n",
              "2019-01-18        240.0       300.0           277.90             112.63\n",
              "2019-01-25        285.5       304.0           269.70             112.63\n",
              "2019-02-01        290.5       320.5           271.20             110.08\n",
              "2019-02-08        305.5       330.5           280.40             110.08\n",
              "2019-02-15        315.0       332.0           277.70             110.08\n",
              "2019-02-22        300.0       336.0           275.40             110.08\n",
              "2019-03-01        295.0       325.0           280.30             103.60"
            ],
            "text/html": [
              "\n",
              "  <div id=\"df-268c4eab-283f-402e-a0fb-e6581a7863bd\">\n",
              "    <div class=\"colab-df-container\">\n",
              "      <div>\n",
              "<style scoped>\n",
              "    .dataframe tbody tr th:only-of-type {\n",
              "        vertical-align: middle;\n",
              "    }\n",
              "\n",
              "    .dataframe tbody tr th {\n",
              "        vertical-align: top;\n",
              "    }\n",
              "\n",
              "    .dataframe thead th {\n",
              "        text-align: right;\n",
              "    }\n",
              "</style>\n",
              "<table border=\"1\" class=\"dataframe\">\n",
              "  <thead>\n",
              "    <tr style=\"text-align: right;\">\n",
              "      <th></th>\n",
              "      <th>India Price</th>\n",
              "      <th>Asia Price</th>\n",
              "      <th>Rotterdam Price</th>\n",
              "      <th>US Domestic Price</th>\n",
              "    </tr>\n",
              "    <tr>\n",
              "      <th>Date</th>\n",
              "      <th></th>\n",
              "      <th></th>\n",
              "      <th></th>\n",
              "      <th></th>\n",
              "    </tr>\n",
              "  </thead>\n",
              "  <tbody>\n",
              "    <tr>\n",
              "      <th>2018-12-07</th>\n",
              "      <td>250.0</td>\n",
              "      <td>330.0</td>\n",
              "      <td>289.90</td>\n",
              "      <td>120.28</td>\n",
              "    </tr>\n",
              "    <tr>\n",
              "      <th>2018-12-14</th>\n",
              "      <td>238.0</td>\n",
              "      <td>320.0</td>\n",
              "      <td>293.20</td>\n",
              "      <td>120.28</td>\n",
              "    </tr>\n",
              "    <tr>\n",
              "      <th>2018-12-21</th>\n",
              "      <td>230.5</td>\n",
              "      <td>300.0</td>\n",
              "      <td>287.30</td>\n",
              "      <td>120.28</td>\n",
              "    </tr>\n",
              "    <tr>\n",
              "      <th>2019-01-04</th>\n",
              "      <td>232.5</td>\n",
              "      <td>299.0</td>\n",
              "      <td>288.67</td>\n",
              "      <td>112.63</td>\n",
              "    </tr>\n",
              "    <tr>\n",
              "      <th>2019-01-11</th>\n",
              "      <td>233.0</td>\n",
              "      <td>299.0</td>\n",
              "      <td>277.20</td>\n",
              "      <td>112.63</td>\n",
              "    </tr>\n",
              "    <tr>\n",
              "      <th>2019-01-18</th>\n",
              "      <td>240.0</td>\n",
              "      <td>300.0</td>\n",
              "      <td>277.90</td>\n",
              "      <td>112.63</td>\n",
              "    </tr>\n",
              "    <tr>\n",
              "      <th>2019-01-25</th>\n",
              "      <td>285.5</td>\n",
              "      <td>304.0</td>\n",
              "      <td>269.70</td>\n",
              "      <td>112.63</td>\n",
              "    </tr>\n",
              "    <tr>\n",
              "      <th>2019-02-01</th>\n",
              "      <td>290.5</td>\n",
              "      <td>320.5</td>\n",
              "      <td>271.20</td>\n",
              "      <td>110.08</td>\n",
              "    </tr>\n",
              "    <tr>\n",
              "      <th>2019-02-08</th>\n",
              "      <td>305.5</td>\n",
              "      <td>330.5</td>\n",
              "      <td>280.40</td>\n",
              "      <td>110.08</td>\n",
              "    </tr>\n",
              "    <tr>\n",
              "      <th>2019-02-15</th>\n",
              "      <td>315.0</td>\n",
              "      <td>332.0</td>\n",
              "      <td>277.70</td>\n",
              "      <td>110.08</td>\n",
              "    </tr>\n",
              "    <tr>\n",
              "      <th>2019-02-22</th>\n",
              "      <td>300.0</td>\n",
              "      <td>336.0</td>\n",
              "      <td>275.40</td>\n",
              "      <td>110.08</td>\n",
              "    </tr>\n",
              "    <tr>\n",
              "      <th>2019-03-01</th>\n",
              "      <td>295.0</td>\n",
              "      <td>325.0</td>\n",
              "      <td>280.30</td>\n",
              "      <td>103.60</td>\n",
              "    </tr>\n",
              "  </tbody>\n",
              "</table>\n",
              "</div>\n",
              "      <button class=\"colab-df-convert\" onclick=\"convertToInteractive('df-268c4eab-283f-402e-a0fb-e6581a7863bd')\"\n",
              "              title=\"Convert this dataframe to an interactive table.\"\n",
              "              style=\"display:none;\">\n",
              "        \n",
              "  <svg xmlns=\"http://www.w3.org/2000/svg\" height=\"24px\"viewBox=\"0 0 24 24\"\n",
              "       width=\"24px\">\n",
              "    <path d=\"M0 0h24v24H0V0z\" fill=\"none\"/>\n",
              "    <path d=\"M18.56 5.44l.94 2.06.94-2.06 2.06-.94-2.06-.94-.94-2.06-.94 2.06-2.06.94zm-11 1L8.5 8.5l.94-2.06 2.06-.94-2.06-.94L8.5 2.5l-.94 2.06-2.06.94zm10 10l.94 2.06.94-2.06 2.06-.94-2.06-.94-.94-2.06-.94 2.06-2.06.94z\"/><path d=\"M17.41 7.96l-1.37-1.37c-.4-.4-.92-.59-1.43-.59-.52 0-1.04.2-1.43.59L10.3 9.45l-7.72 7.72c-.78.78-.78 2.05 0 2.83L4 21.41c.39.39.9.59 1.41.59.51 0 1.02-.2 1.41-.59l7.78-7.78 2.81-2.81c.8-.78.8-2.07 0-2.86zM5.41 20L4 18.59l7.72-7.72 1.47 1.35L5.41 20z\"/>\n",
              "  </svg>\n",
              "      </button>\n",
              "      \n",
              "  <style>\n",
              "    .colab-df-container {\n",
              "      display:flex;\n",
              "      flex-wrap:wrap;\n",
              "      gap: 12px;\n",
              "    }\n",
              "\n",
              "    .colab-df-convert {\n",
              "      background-color: #E8F0FE;\n",
              "      border: none;\n",
              "      border-radius: 50%;\n",
              "      cursor: pointer;\n",
              "      display: none;\n",
              "      fill: #1967D2;\n",
              "      height: 32px;\n",
              "      padding: 0 0 0 0;\n",
              "      width: 32px;\n",
              "    }\n",
              "\n",
              "    .colab-df-convert:hover {\n",
              "      background-color: #E2EBFA;\n",
              "      box-shadow: 0px 1px 2px rgba(60, 64, 67, 0.3), 0px 1px 3px 1px rgba(60, 64, 67, 0.15);\n",
              "      fill: #174EA6;\n",
              "    }\n",
              "\n",
              "    [theme=dark] .colab-df-convert {\n",
              "      background-color: #3B4455;\n",
              "      fill: #D2E3FC;\n",
              "    }\n",
              "\n",
              "    [theme=dark] .colab-df-convert:hover {\n",
              "      background-color: #434B5C;\n",
              "      box-shadow: 0px 1px 3px 1px rgba(0, 0, 0, 0.15);\n",
              "      filter: drop-shadow(0px 1px 2px rgba(0, 0, 0, 0.3));\n",
              "      fill: #FFFFFF;\n",
              "    }\n",
              "  </style>\n",
              "\n",
              "      <script>\n",
              "        const buttonEl =\n",
              "          document.querySelector('#df-268c4eab-283f-402e-a0fb-e6581a7863bd button.colab-df-convert');\n",
              "        buttonEl.style.display =\n",
              "          google.colab.kernel.accessAllowed ? 'block' : 'none';\n",
              "\n",
              "        async function convertToInteractive(key) {\n",
              "          const element = document.querySelector('#df-268c4eab-283f-402e-a0fb-e6581a7863bd');\n",
              "          const dataTable =\n",
              "            await google.colab.kernel.invokeFunction('convertToInteractive',\n",
              "                                                     [key], {});\n",
              "          if (!dataTable) return;\n",
              "\n",
              "          const docLinkHtml = 'Like what you see? Visit the ' +\n",
              "            '<a target=\"_blank\" href=https://colab.research.google.com/notebooks/data_table.ipynb>data table notebook</a>'\n",
              "            + ' to learn more about interactive tables.';\n",
              "          element.innerHTML = '';\n",
              "          dataTable['output_type'] = 'display_data';\n",
              "          await google.colab.output.renderOutput(dataTable, element);\n",
              "          const docLink = document.createElement('div');\n",
              "          docLink.innerHTML = docLinkHtml;\n",
              "          element.appendChild(docLink);\n",
              "        }\n",
              "      </script>\n",
              "    </div>\n",
              "  </div>\n",
              "  "
            ]
          },
          "metadata": {},
          "execution_count": 108
        }
      ]
    },
    {
      "cell_type": "code",
      "source": [
        "test_pred1=data[687:699]"
      ],
      "metadata": {
        "id": "AfHVL4i8E_6g"
      },
      "execution_count": 109,
      "outputs": []
    },
    {
      "cell_type": "code",
      "source": [
        "test_pred1"
      ],
      "metadata": {
        "colab": {
          "base_uri": "https://localhost:8080/",
          "height": 457
        },
        "id": "MOc2BoP0FAcO",
        "outputId": "059ceb16-26e1-4feb-8a5d-e3b53253b1d7"
      },
      "execution_count": 110,
      "outputs": [
        {
          "output_type": "execute_result",
          "data": {
            "text/plain": [
              "            India Price  Asia Price  Rotterdam Price  US Domestic Price\n",
              "Date                                                                   \n",
              "2019-03-08        290.0       326.0           282.10             103.60\n",
              "2019-03-15        292.0       320.0           288.20             103.60\n",
              "2019-03-22        292.0       321.0           283.50             103.60\n",
              "2019-03-29        290.0       320.0           276.40             103.60\n",
              "2019-04-05        290.0       331.0           269.20             103.60\n",
              "2019-04-12        291.0       335.0           267.70             103.60\n",
              "2019-04-19        307.0       333.0           272.50             103.60\n",
              "2019-04-26        307.0       333.0           276.50             103.60\n",
              "2019-05-03        310.0       332.0           274.40             101.12\n",
              "2019-05-10        300.0       324.0           271.13             101.12\n",
              "2019-05-17        286.0       325.0           264.60             101.12\n",
              "2019-05-24        265.0       323.0           259.40             101.12"
            ],
            "text/html": [
              "\n",
              "  <div id=\"df-ef98d316-1fb7-4cd5-9ef6-46791c825fba\">\n",
              "    <div class=\"colab-df-container\">\n",
              "      <div>\n",
              "<style scoped>\n",
              "    .dataframe tbody tr th:only-of-type {\n",
              "        vertical-align: middle;\n",
              "    }\n",
              "\n",
              "    .dataframe tbody tr th {\n",
              "        vertical-align: top;\n",
              "    }\n",
              "\n",
              "    .dataframe thead th {\n",
              "        text-align: right;\n",
              "    }\n",
              "</style>\n",
              "<table border=\"1\" class=\"dataframe\">\n",
              "  <thead>\n",
              "    <tr style=\"text-align: right;\">\n",
              "      <th></th>\n",
              "      <th>India Price</th>\n",
              "      <th>Asia Price</th>\n",
              "      <th>Rotterdam Price</th>\n",
              "      <th>US Domestic Price</th>\n",
              "    </tr>\n",
              "    <tr>\n",
              "      <th>Date</th>\n",
              "      <th></th>\n",
              "      <th></th>\n",
              "      <th></th>\n",
              "      <th></th>\n",
              "    </tr>\n",
              "  </thead>\n",
              "  <tbody>\n",
              "    <tr>\n",
              "      <th>2019-03-08</th>\n",
              "      <td>290.0</td>\n",
              "      <td>326.0</td>\n",
              "      <td>282.10</td>\n",
              "      <td>103.60</td>\n",
              "    </tr>\n",
              "    <tr>\n",
              "      <th>2019-03-15</th>\n",
              "      <td>292.0</td>\n",
              "      <td>320.0</td>\n",
              "      <td>288.20</td>\n",
              "      <td>103.60</td>\n",
              "    </tr>\n",
              "    <tr>\n",
              "      <th>2019-03-22</th>\n",
              "      <td>292.0</td>\n",
              "      <td>321.0</td>\n",
              "      <td>283.50</td>\n",
              "      <td>103.60</td>\n",
              "    </tr>\n",
              "    <tr>\n",
              "      <th>2019-03-29</th>\n",
              "      <td>290.0</td>\n",
              "      <td>320.0</td>\n",
              "      <td>276.40</td>\n",
              "      <td>103.60</td>\n",
              "    </tr>\n",
              "    <tr>\n",
              "      <th>2019-04-05</th>\n",
              "      <td>290.0</td>\n",
              "      <td>331.0</td>\n",
              "      <td>269.20</td>\n",
              "      <td>103.60</td>\n",
              "    </tr>\n",
              "    <tr>\n",
              "      <th>2019-04-12</th>\n",
              "      <td>291.0</td>\n",
              "      <td>335.0</td>\n",
              "      <td>267.70</td>\n",
              "      <td>103.60</td>\n",
              "    </tr>\n",
              "    <tr>\n",
              "      <th>2019-04-19</th>\n",
              "      <td>307.0</td>\n",
              "      <td>333.0</td>\n",
              "      <td>272.50</td>\n",
              "      <td>103.60</td>\n",
              "    </tr>\n",
              "    <tr>\n",
              "      <th>2019-04-26</th>\n",
              "      <td>307.0</td>\n",
              "      <td>333.0</td>\n",
              "      <td>276.50</td>\n",
              "      <td>103.60</td>\n",
              "    </tr>\n",
              "    <tr>\n",
              "      <th>2019-05-03</th>\n",
              "      <td>310.0</td>\n",
              "      <td>332.0</td>\n",
              "      <td>274.40</td>\n",
              "      <td>101.12</td>\n",
              "    </tr>\n",
              "    <tr>\n",
              "      <th>2019-05-10</th>\n",
              "      <td>300.0</td>\n",
              "      <td>324.0</td>\n",
              "      <td>271.13</td>\n",
              "      <td>101.12</td>\n",
              "    </tr>\n",
              "    <tr>\n",
              "      <th>2019-05-17</th>\n",
              "      <td>286.0</td>\n",
              "      <td>325.0</td>\n",
              "      <td>264.60</td>\n",
              "      <td>101.12</td>\n",
              "    </tr>\n",
              "    <tr>\n",
              "      <th>2019-05-24</th>\n",
              "      <td>265.0</td>\n",
              "      <td>323.0</td>\n",
              "      <td>259.40</td>\n",
              "      <td>101.12</td>\n",
              "    </tr>\n",
              "  </tbody>\n",
              "</table>\n",
              "</div>\n",
              "      <button class=\"colab-df-convert\" onclick=\"convertToInteractive('df-ef98d316-1fb7-4cd5-9ef6-46791c825fba')\"\n",
              "              title=\"Convert this dataframe to an interactive table.\"\n",
              "              style=\"display:none;\">\n",
              "        \n",
              "  <svg xmlns=\"http://www.w3.org/2000/svg\" height=\"24px\"viewBox=\"0 0 24 24\"\n",
              "       width=\"24px\">\n",
              "    <path d=\"M0 0h24v24H0V0z\" fill=\"none\"/>\n",
              "    <path d=\"M18.56 5.44l.94 2.06.94-2.06 2.06-.94-2.06-.94-.94-2.06-.94 2.06-2.06.94zm-11 1L8.5 8.5l.94-2.06 2.06-.94-2.06-.94L8.5 2.5l-.94 2.06-2.06.94zm10 10l.94 2.06.94-2.06 2.06-.94-2.06-.94-.94-2.06-.94 2.06-2.06.94z\"/><path d=\"M17.41 7.96l-1.37-1.37c-.4-.4-.92-.59-1.43-.59-.52 0-1.04.2-1.43.59L10.3 9.45l-7.72 7.72c-.78.78-.78 2.05 0 2.83L4 21.41c.39.39.9.59 1.41.59.51 0 1.02-.2 1.41-.59l7.78-7.78 2.81-2.81c.8-.78.8-2.07 0-2.86zM5.41 20L4 18.59l7.72-7.72 1.47 1.35L5.41 20z\"/>\n",
              "  </svg>\n",
              "      </button>\n",
              "      \n",
              "  <style>\n",
              "    .colab-df-container {\n",
              "      display:flex;\n",
              "      flex-wrap:wrap;\n",
              "      gap: 12px;\n",
              "    }\n",
              "\n",
              "    .colab-df-convert {\n",
              "      background-color: #E8F0FE;\n",
              "      border: none;\n",
              "      border-radius: 50%;\n",
              "      cursor: pointer;\n",
              "      display: none;\n",
              "      fill: #1967D2;\n",
              "      height: 32px;\n",
              "      padding: 0 0 0 0;\n",
              "      width: 32px;\n",
              "    }\n",
              "\n",
              "    .colab-df-convert:hover {\n",
              "      background-color: #E2EBFA;\n",
              "      box-shadow: 0px 1px 2px rgba(60, 64, 67, 0.3), 0px 1px 3px 1px rgba(60, 64, 67, 0.15);\n",
              "      fill: #174EA6;\n",
              "    }\n",
              "\n",
              "    [theme=dark] .colab-df-convert {\n",
              "      background-color: #3B4455;\n",
              "      fill: #D2E3FC;\n",
              "    }\n",
              "\n",
              "    [theme=dark] .colab-df-convert:hover {\n",
              "      background-color: #434B5C;\n",
              "      box-shadow: 0px 1px 3px 1px rgba(0, 0, 0, 0.15);\n",
              "      filter: drop-shadow(0px 1px 2px rgba(0, 0, 0, 0.3));\n",
              "      fill: #FFFFFF;\n",
              "    }\n",
              "  </style>\n",
              "\n",
              "      <script>\n",
              "        const buttonEl =\n",
              "          document.querySelector('#df-ef98d316-1fb7-4cd5-9ef6-46791c825fba button.colab-df-convert');\n",
              "        buttonEl.style.display =\n",
              "          google.colab.kernel.accessAllowed ? 'block' : 'none';\n",
              "\n",
              "        async function convertToInteractive(key) {\n",
              "          const element = document.querySelector('#df-ef98d316-1fb7-4cd5-9ef6-46791c825fba');\n",
              "          const dataTable =\n",
              "            await google.colab.kernel.invokeFunction('convertToInteractive',\n",
              "                                                     [key], {});\n",
              "          if (!dataTable) return;\n",
              "\n",
              "          const docLinkHtml = 'Like what you see? Visit the ' +\n",
              "            '<a target=\"_blank\" href=https://colab.research.google.com/notebooks/data_table.ipynb>data table notebook</a>'\n",
              "            + ' to learn more about interactive tables.';\n",
              "          element.innerHTML = '';\n",
              "          dataTable['output_type'] = 'display_data';\n",
              "          await google.colab.output.renderOutput(dataTable, element);\n",
              "          const docLink = document.createElement('div');\n",
              "          docLink.innerHTML = docLinkHtml;\n",
              "          element.appendChild(docLink);\n",
              "        }\n",
              "      </script>\n",
              "    </div>\n",
              "  </div>\n",
              "  "
            ]
          },
          "metadata": {},
          "execution_count": 110
        }
      ]
    },
    {
      "cell_type": "code",
      "source": [
        "test2_input_scaled"
      ],
      "metadata": {
        "colab": {
          "base_uri": "https://localhost:8080/"
        },
        "id": "ta8eghIyFEv5",
        "outputId": "4711633d-b58f-4fda-b98d-4976806c53b6"
      },
      "execution_count": 111,
      "outputs": [
        {
          "output_type": "execute_result",
          "data": {
            "text/plain": [
              "array([[0.23076923, 0.83783784, 0.85957447, 1.        ],\n",
              "       [0.0887574 , 0.56756757, 1.        , 1.        ],\n",
              "       [0.        , 0.02702703, 0.74893617, 1.        ],\n",
              "       [0.02366864, 0.        , 0.80723404, 0.54136691],\n",
              "       [0.0295858 , 0.        , 0.31914894, 0.54136691],\n",
              "       [0.11242604, 0.02702703, 0.34893617, 0.54136691],\n",
              "       [0.65088757, 0.13513514, 0.        , 0.54136691],\n",
              "       [0.71005917, 0.58108108, 0.06382979, 0.38848921],\n",
              "       [0.88757396, 0.85135135, 0.45531915, 0.38848921],\n",
              "       [1.        , 0.89189189, 0.34042553, 0.38848921],\n",
              "       [0.82248521, 1.        , 0.24255319, 0.38848921],\n",
              "       [0.76331361, 0.7027027 , 0.45106383, 0.        ]])"
            ]
          },
          "metadata": {},
          "execution_count": 111
        }
      ]
    },
    {
      "cell_type": "markdown",
      "source": [
        "ROLLING PREDICTIONS FOR 12 WEEKS OF 2ND TEST DATA SUBSET"
      ],
      "metadata": {
        "id": "2kEqfGvbFHKL"
      }
    },
    {
      "cell_type": "code",
      "source": [
        "test_predictions1=[]\n",
        "n_input=12\n",
        "n_features=4\n",
        "\n",
        "first_batch1=test2_input_scaled\n",
        "curr_batch1=first_batch1.reshape((1,n_input,n_features))\n",
        "for i in range(0,len(test_pred1)):#len(test_pred)\n",
        "  curr_pred1=model.predict(curr_batch1)[0]\n",
        "  test_predictions1.append(curr_pred1)\n",
        "  slc=pred(i,curr_pred1,curr_batch1)\n",
        "  curr_batch1=np.append(curr_batch1[:,1:,:],[[slc]],axis=1)"
      ],
      "metadata": {
        "colab": {
          "base_uri": "https://localhost:8080/"
        },
        "id": "3HW3Q9bSNNO_",
        "outputId": "cc088111-a7cc-413f-ed51-2133a53a5b1f"
      },
      "execution_count": 112,
      "outputs": [
        {
          "output_type": "stream",
          "name": "stdout",
          "text": [
            "1/1 [==============================] - 0s 32ms/step\n",
            "1/1 [==============================] - 0s 30ms/step\n",
            "1/1 [==============================] - 0s 26ms/step\n",
            "1/1 [==============================] - 0s 29ms/step\n",
            "1/1 [==============================] - 0s 26ms/step\n",
            "1/1 [==============================] - 0s 40ms/step\n",
            "1/1 [==============================] - 0s 34ms/step\n",
            "1/1 [==============================] - 0s 31ms/step\n",
            "1/1 [==============================] - 0s 37ms/step\n",
            "1/1 [==============================] - 0s 30ms/step\n",
            "1/1 [==============================] - 0s 30ms/step\n",
            "1/1 [==============================] - 0s 35ms/step\n"
          ]
        }
      ]
    },
    {
      "cell_type": "code",
      "source": [
        "curr_batch1"
      ],
      "metadata": {
        "colab": {
          "base_uri": "https://localhost:8080/"
        },
        "id": "e1J8NlWsFK7Q",
        "outputId": "1e59d2e9-12dc-4ffc-87f6-d3f2082620d4"
      },
      "execution_count": 113,
      "outputs": [
        {
          "output_type": "execute_result",
          "data": {
            "text/plain": [
              "array([[[0.50887448, 0.83783784, 0.85957447, 1.        ],\n",
              "        [0.57607502, 0.02702703, 0.74893617, 1.        ],\n",
              "        [0.28565362, 0.        , 0.31914894, 0.54136691],\n",
              "        [0.08024862, 0.13513514, 0.        , 0.54136691],\n",
              "        [0.00758934, 0.85135135, 0.45531915, 0.38848921],\n",
              "        [0.37825215, 1.        , 0.24255319, 0.38848921],\n",
              "        [0.5057348 , 0.83783784, 0.85957447, 1.        ],\n",
              "        [0.64138341, 0.        , 0.31914894, 0.54136691],\n",
              "        [0.34622914, 0.85135135, 0.45531915, 0.38848921],\n",
              "        [0.52262121, 0.83783784, 0.85957447, 1.        ],\n",
              "        [0.64559174, 0.85135135, 0.45531915, 0.38848921],\n",
              "        [0.57164788, 0.85135135, 0.45531915, 0.38848921]]])"
            ]
          },
          "metadata": {},
          "execution_count": 113
        }
      ]
    },
    {
      "cell_type": "code",
      "source": [
        "curr_pred1"
      ],
      "metadata": {
        "colab": {
          "base_uri": "https://localhost:8080/"
        },
        "id": "nI1Qia0GFNMK",
        "outputId": "fa0a2993-87f6-48cb-b87a-c22b163e065b"
      },
      "execution_count": 114,
      "outputs": [
        {
          "output_type": "execute_result",
          "data": {
            "text/plain": [
              "array([0.5716479], dtype=float32)"
            ]
          },
          "metadata": {},
          "execution_count": 114
        }
      ]
    },
    {
      "cell_type": "code",
      "source": [
        "test_predictions1=np.array(test_predictions1)\n",
        "type(test_predictions1)"
      ],
      "metadata": {
        "colab": {
          "base_uri": "https://localhost:8080/"
        },
        "id": "QzBfCEJYFPAz",
        "outputId": "87bcccfc-6755-452a-d37e-e6b195e029f7"
      },
      "execution_count": 115,
      "outputs": [
        {
          "output_type": "execute_result",
          "data": {
            "text/plain": [
              "numpy.ndarray"
            ]
          },
          "metadata": {},
          "execution_count": 115
        }
      ]
    },
    {
      "cell_type": "code",
      "source": [
        "curr_batch1=curr_batch1.reshape(n_input,n_features)\n",
        "curr_batch1.shape"
      ],
      "metadata": {
        "colab": {
          "base_uri": "https://localhost:8080/"
        },
        "id": "vv9Vopz4FRyE",
        "outputId": "474b787d-1fe6-4d32-ea2f-65459ccc0ecd"
      },
      "execution_count": 116,
      "outputs": [
        {
          "output_type": "execute_result",
          "data": {
            "text/plain": [
              "(12, 4)"
            ]
          },
          "metadata": {},
          "execution_count": 116
        }
      ]
    },
    {
      "cell_type": "code",
      "source": [
        "true_predictions1=scaler.inverse_transform(curr_batch1)\n",
        "true_predictions1"
      ],
      "metadata": {
        "colab": {
          "base_uri": "https://localhost:8080/"
        },
        "id": "bUah68Y1FUt1",
        "outputId": "1f543fce-e7e2-4925-c2bf-71f5b0d35c6d"
      },
      "execution_count": 117,
      "outputs": [
        {
          "output_type": "execute_result",
          "data": {
            "text/plain": [
              "array([[273.49989322, 330.        , 289.9       , 120.28      ],\n",
              "       [279.17833897, 300.        , 287.3       , 120.28      ],\n",
              "       [254.63773097, 299.        , 277.2       , 112.63      ],\n",
              "       [237.28100874, 304.        , 269.7       , 112.63      ],\n",
              "       [231.14129925, 330.5       , 280.4       , 110.08      ],\n",
              "       [262.46230656, 336.        , 275.4       , 110.08      ],\n",
              "       [273.23459071, 330.        , 289.9       , 120.28      ],\n",
              "       [284.6968981 , 299.        , 277.2       , 112.63      ],\n",
              "       [259.75636199, 330.5       , 280.4       , 110.08      ],\n",
              "       [274.66149262, 330.        , 289.9       , 120.28      ],\n",
              "       [285.05250168, 330.5       , 280.4       , 110.08      ],\n",
              "       [278.80424607, 330.5       , 280.4       , 110.08      ]])"
            ]
          },
          "metadata": {},
          "execution_count": 117
        }
      ]
    },
    {
      "cell_type": "code",
      "source": [
        "df_predictions1=test_pred1\n",
        "df_predictions1\n",
        "df_predictions1['IndiaPrice_pred']=true_predictions1[:,0]"
      ],
      "metadata": {
        "colab": {
          "base_uri": "https://localhost:8080/"
        },
        "id": "6-iq6NcXFZMi",
        "outputId": "5dfa51a3-407c-4fa0-c9b5-ff3c30c60096"
      },
      "execution_count": 118,
      "outputs": [
        {
          "output_type": "stream",
          "name": "stderr",
          "text": [
            "<ipython-input-118-d1ae1d21b2bc>:3: SettingWithCopyWarning: \n",
            "A value is trying to be set on a copy of a slice from a DataFrame.\n",
            "Try using .loc[row_indexer,col_indexer] = value instead\n",
            "\n",
            "See the caveats in the documentation: https://pandas.pydata.org/pandas-docs/stable/user_guide/indexing.html#returning-a-view-versus-a-copy\n",
            "  df_predictions1['IndiaPrice_pred']=true_predictions1[:,0]\n"
          ]
        }
      ]
    },
    {
      "cell_type": "code",
      "source": [
        "df_predictions1"
      ],
      "metadata": {
        "colab": {
          "base_uri": "https://localhost:8080/",
          "height": 457
        },
        "id": "0_wXwms4FZnC",
        "outputId": "b6083330-982c-4d0c-c935-bfb271033cdb"
      },
      "execution_count": 119,
      "outputs": [
        {
          "output_type": "execute_result",
          "data": {
            "text/plain": [
              "            India Price  Asia Price  Rotterdam Price  US Domestic Price  \\\n",
              "Date                                                                      \n",
              "2019-03-08        290.0       326.0           282.10             103.60   \n",
              "2019-03-15        292.0       320.0           288.20             103.60   \n",
              "2019-03-22        292.0       321.0           283.50             103.60   \n",
              "2019-03-29        290.0       320.0           276.40             103.60   \n",
              "2019-04-05        290.0       331.0           269.20             103.60   \n",
              "2019-04-12        291.0       335.0           267.70             103.60   \n",
              "2019-04-19        307.0       333.0           272.50             103.60   \n",
              "2019-04-26        307.0       333.0           276.50             103.60   \n",
              "2019-05-03        310.0       332.0           274.40             101.12   \n",
              "2019-05-10        300.0       324.0           271.13             101.12   \n",
              "2019-05-17        286.0       325.0           264.60             101.12   \n",
              "2019-05-24        265.0       323.0           259.40             101.12   \n",
              "\n",
              "            IndiaPrice_pred  \n",
              "Date                         \n",
              "2019-03-08       273.499893  \n",
              "2019-03-15       279.178339  \n",
              "2019-03-22       254.637731  \n",
              "2019-03-29       237.281009  \n",
              "2019-04-05       231.141299  \n",
              "2019-04-12       262.462307  \n",
              "2019-04-19       273.234591  \n",
              "2019-04-26       284.696898  \n",
              "2019-05-03       259.756362  \n",
              "2019-05-10       274.661493  \n",
              "2019-05-17       285.052502  \n",
              "2019-05-24       278.804246  "
            ],
            "text/html": [
              "\n",
              "  <div id=\"df-d0ce3aa0-0d3c-42e9-8150-16728adaed1c\">\n",
              "    <div class=\"colab-df-container\">\n",
              "      <div>\n",
              "<style scoped>\n",
              "    .dataframe tbody tr th:only-of-type {\n",
              "        vertical-align: middle;\n",
              "    }\n",
              "\n",
              "    .dataframe tbody tr th {\n",
              "        vertical-align: top;\n",
              "    }\n",
              "\n",
              "    .dataframe thead th {\n",
              "        text-align: right;\n",
              "    }\n",
              "</style>\n",
              "<table border=\"1\" class=\"dataframe\">\n",
              "  <thead>\n",
              "    <tr style=\"text-align: right;\">\n",
              "      <th></th>\n",
              "      <th>India Price</th>\n",
              "      <th>Asia Price</th>\n",
              "      <th>Rotterdam Price</th>\n",
              "      <th>US Domestic Price</th>\n",
              "      <th>IndiaPrice_pred</th>\n",
              "    </tr>\n",
              "    <tr>\n",
              "      <th>Date</th>\n",
              "      <th></th>\n",
              "      <th></th>\n",
              "      <th></th>\n",
              "      <th></th>\n",
              "      <th></th>\n",
              "    </tr>\n",
              "  </thead>\n",
              "  <tbody>\n",
              "    <tr>\n",
              "      <th>2019-03-08</th>\n",
              "      <td>290.0</td>\n",
              "      <td>326.0</td>\n",
              "      <td>282.10</td>\n",
              "      <td>103.60</td>\n",
              "      <td>273.499893</td>\n",
              "    </tr>\n",
              "    <tr>\n",
              "      <th>2019-03-15</th>\n",
              "      <td>292.0</td>\n",
              "      <td>320.0</td>\n",
              "      <td>288.20</td>\n",
              "      <td>103.60</td>\n",
              "      <td>279.178339</td>\n",
              "    </tr>\n",
              "    <tr>\n",
              "      <th>2019-03-22</th>\n",
              "      <td>292.0</td>\n",
              "      <td>321.0</td>\n",
              "      <td>283.50</td>\n",
              "      <td>103.60</td>\n",
              "      <td>254.637731</td>\n",
              "    </tr>\n",
              "    <tr>\n",
              "      <th>2019-03-29</th>\n",
              "      <td>290.0</td>\n",
              "      <td>320.0</td>\n",
              "      <td>276.40</td>\n",
              "      <td>103.60</td>\n",
              "      <td>237.281009</td>\n",
              "    </tr>\n",
              "    <tr>\n",
              "      <th>2019-04-05</th>\n",
              "      <td>290.0</td>\n",
              "      <td>331.0</td>\n",
              "      <td>269.20</td>\n",
              "      <td>103.60</td>\n",
              "      <td>231.141299</td>\n",
              "    </tr>\n",
              "    <tr>\n",
              "      <th>2019-04-12</th>\n",
              "      <td>291.0</td>\n",
              "      <td>335.0</td>\n",
              "      <td>267.70</td>\n",
              "      <td>103.60</td>\n",
              "      <td>262.462307</td>\n",
              "    </tr>\n",
              "    <tr>\n",
              "      <th>2019-04-19</th>\n",
              "      <td>307.0</td>\n",
              "      <td>333.0</td>\n",
              "      <td>272.50</td>\n",
              "      <td>103.60</td>\n",
              "      <td>273.234591</td>\n",
              "    </tr>\n",
              "    <tr>\n",
              "      <th>2019-04-26</th>\n",
              "      <td>307.0</td>\n",
              "      <td>333.0</td>\n",
              "      <td>276.50</td>\n",
              "      <td>103.60</td>\n",
              "      <td>284.696898</td>\n",
              "    </tr>\n",
              "    <tr>\n",
              "      <th>2019-05-03</th>\n",
              "      <td>310.0</td>\n",
              "      <td>332.0</td>\n",
              "      <td>274.40</td>\n",
              "      <td>101.12</td>\n",
              "      <td>259.756362</td>\n",
              "    </tr>\n",
              "    <tr>\n",
              "      <th>2019-05-10</th>\n",
              "      <td>300.0</td>\n",
              "      <td>324.0</td>\n",
              "      <td>271.13</td>\n",
              "      <td>101.12</td>\n",
              "      <td>274.661493</td>\n",
              "    </tr>\n",
              "    <tr>\n",
              "      <th>2019-05-17</th>\n",
              "      <td>286.0</td>\n",
              "      <td>325.0</td>\n",
              "      <td>264.60</td>\n",
              "      <td>101.12</td>\n",
              "      <td>285.052502</td>\n",
              "    </tr>\n",
              "    <tr>\n",
              "      <th>2019-05-24</th>\n",
              "      <td>265.0</td>\n",
              "      <td>323.0</td>\n",
              "      <td>259.40</td>\n",
              "      <td>101.12</td>\n",
              "      <td>278.804246</td>\n",
              "    </tr>\n",
              "  </tbody>\n",
              "</table>\n",
              "</div>\n",
              "      <button class=\"colab-df-convert\" onclick=\"convertToInteractive('df-d0ce3aa0-0d3c-42e9-8150-16728adaed1c')\"\n",
              "              title=\"Convert this dataframe to an interactive table.\"\n",
              "              style=\"display:none;\">\n",
              "        \n",
              "  <svg xmlns=\"http://www.w3.org/2000/svg\" height=\"24px\"viewBox=\"0 0 24 24\"\n",
              "       width=\"24px\">\n",
              "    <path d=\"M0 0h24v24H0V0z\" fill=\"none\"/>\n",
              "    <path d=\"M18.56 5.44l.94 2.06.94-2.06 2.06-.94-2.06-.94-.94-2.06-.94 2.06-2.06.94zm-11 1L8.5 8.5l.94-2.06 2.06-.94-2.06-.94L8.5 2.5l-.94 2.06-2.06.94zm10 10l.94 2.06.94-2.06 2.06-.94-2.06-.94-.94-2.06-.94 2.06-2.06.94z\"/><path d=\"M17.41 7.96l-1.37-1.37c-.4-.4-.92-.59-1.43-.59-.52 0-1.04.2-1.43.59L10.3 9.45l-7.72 7.72c-.78.78-.78 2.05 0 2.83L4 21.41c.39.39.9.59 1.41.59.51 0 1.02-.2 1.41-.59l7.78-7.78 2.81-2.81c.8-.78.8-2.07 0-2.86zM5.41 20L4 18.59l7.72-7.72 1.47 1.35L5.41 20z\"/>\n",
              "  </svg>\n",
              "      </button>\n",
              "      \n",
              "  <style>\n",
              "    .colab-df-container {\n",
              "      display:flex;\n",
              "      flex-wrap:wrap;\n",
              "      gap: 12px;\n",
              "    }\n",
              "\n",
              "    .colab-df-convert {\n",
              "      background-color: #E8F0FE;\n",
              "      border: none;\n",
              "      border-radius: 50%;\n",
              "      cursor: pointer;\n",
              "      display: none;\n",
              "      fill: #1967D2;\n",
              "      height: 32px;\n",
              "      padding: 0 0 0 0;\n",
              "      width: 32px;\n",
              "    }\n",
              "\n",
              "    .colab-df-convert:hover {\n",
              "      background-color: #E2EBFA;\n",
              "      box-shadow: 0px 1px 2px rgba(60, 64, 67, 0.3), 0px 1px 3px 1px rgba(60, 64, 67, 0.15);\n",
              "      fill: #174EA6;\n",
              "    }\n",
              "\n",
              "    [theme=dark] .colab-df-convert {\n",
              "      background-color: #3B4455;\n",
              "      fill: #D2E3FC;\n",
              "    }\n",
              "\n",
              "    [theme=dark] .colab-df-convert:hover {\n",
              "      background-color: #434B5C;\n",
              "      box-shadow: 0px 1px 3px 1px rgba(0, 0, 0, 0.15);\n",
              "      filter: drop-shadow(0px 1px 2px rgba(0, 0, 0, 0.3));\n",
              "      fill: #FFFFFF;\n",
              "    }\n",
              "  </style>\n",
              "\n",
              "      <script>\n",
              "        const buttonEl =\n",
              "          document.querySelector('#df-d0ce3aa0-0d3c-42e9-8150-16728adaed1c button.colab-df-convert');\n",
              "        buttonEl.style.display =\n",
              "          google.colab.kernel.accessAllowed ? 'block' : 'none';\n",
              "\n",
              "        async function convertToInteractive(key) {\n",
              "          const element = document.querySelector('#df-d0ce3aa0-0d3c-42e9-8150-16728adaed1c');\n",
              "          const dataTable =\n",
              "            await google.colab.kernel.invokeFunction('convertToInteractive',\n",
              "                                                     [key], {});\n",
              "          if (!dataTable) return;\n",
              "\n",
              "          const docLinkHtml = 'Like what you see? Visit the ' +\n",
              "            '<a target=\"_blank\" href=https://colab.research.google.com/notebooks/data_table.ipynb>data table notebook</a>'\n",
              "            + ' to learn more about interactive tables.';\n",
              "          element.innerHTML = '';\n",
              "          dataTable['output_type'] = 'display_data';\n",
              "          await google.colab.output.renderOutput(dataTable, element);\n",
              "          const docLink = document.createElement('div');\n",
              "          docLink.innerHTML = docLinkHtml;\n",
              "          element.appendChild(docLink);\n",
              "        }\n",
              "      </script>\n",
              "    </div>\n",
              "  </div>\n",
              "  "
            ]
          },
          "metadata": {},
          "execution_count": 119
        }
      ]
    },
    {
      "cell_type": "code",
      "source": [
        "df_predictions1['India Price'].plot(figsize=(10,6))\n",
        "df_predictions1['IndiaPrice_pred'].plot()"
      ],
      "metadata": {
        "colab": {
          "base_uri": "https://localhost:8080/",
          "height": 608
        },
        "id": "Tmg6GG3WFdSx",
        "outputId": "d52abcce-8c75-424b-8cab-1d5111bf37dc"
      },
      "execution_count": 120,
      "outputs": [
        {
          "output_type": "execute_result",
          "data": {
            "text/plain": [
              "<Axes: xlabel='Date'>"
            ]
          },
          "metadata": {},
          "execution_count": 120
        },
        {
          "output_type": "display_data",
          "data": {
            "text/plain": [
              "<Figure size 1000x600 with 1 Axes>"
            ],
            "image/png": "[encoded data removed]"
          },
          "metadata": {}
        }
      ]
    },
    {
      "cell_type": "code",
      "source": [
        "from sklearn.metrics import mean_squared_error\n",
        "from math import sqrt\n",
        "error1=sqrt(mean_squared_error(df_predictions1['India Price'],df_predictions1['IndiaPrice_pred']))\n",
        "print(error1)"
      ],
      "metadata": {
        "colab": {
          "base_uri": "https://localhost:8080/"
        },
        "id": "iDfRmnoyFdsu",
        "outputId": "a73b0b2d-f787-4ed8-8fb8-0803c4ebf8b9"
      },
      "execution_count": 121,
      "outputs": [
        {
          "output_type": "stream",
          "name": "stdout",
          "text": [
            "34.01724513830555\n"
          ]
        }
      ]
    },
    {
      "cell_type": "code",
      "source": [
        "# Calculate range of test set\n",
        "range_test = test.max() - test.min()\n",
        "\n",
        "# Calculate Normalized RMSE\n",
        "normalized_rmse = error1 / range_test\n",
        "\n",
        "print(normalized_rmse)"
      ],
      "metadata": {
        "colab": {
          "base_uri": "https://localhost:8080/"
        },
        "id": "INIZEemiOYha",
        "outputId": "55b8fda2-e6e3-4d8c-dfdb-735aaebddadb"
      },
      "execution_count": 145,
      "outputs": [
        {
          "output_type": "stream",
          "name": "stdout",
          "text": [
            "India Price          0.106470\n",
            "Asia Price           0.120629\n",
            "Rotterdam Price      0.136178\n",
            "US Domestic Price    0.479454\n",
            "dtype: float64\n"
          ]
        }
      ]
    },
    {
      "cell_type": "code",
      "source": [
        "test3_input=data[726:738]\n",
        "test3_input_scaled=scaler.fit_transform(test3_input)"
      ],
      "metadata": {
        "id": "cHAgiWG6Fdow"
      },
      "execution_count": 122,
      "outputs": []
    },
    {
      "cell_type": "code",
      "source": [
        "test_pred2=data[738:750]"
      ],
      "metadata": {
        "id": "wVXaeqHnFgro"
      },
      "execution_count": 123,
      "outputs": []
    },
    {
      "cell_type": "code",
      "source": [
        "test_predictions2=[]\n",
        "n_input=12\n",
        "n_features=4\n",
        "first_batch2=test3_input_scaled\n",
        "curr_batch2=first_batch2.reshape((1,n_input,n_features))\n",
        "for i in range(0,len(test_pred2)):#len(test_pred)\n",
        "  curr_pred2=model.predict(curr_batch2)[0]\n",
        "  test_predictions2.append(curr_pred2)\n",
        "  slc=pred(i,curr_pred2,curr_batch2)\n",
        "  curr_batch2=np.append(curr_batch2[:,1:,:],[[slc]],axis=1)"
      ],
      "metadata": {
        "colab": {
          "base_uri": "https://localhost:8080/"
        },
        "id": "GBAe1DFTFjxW",
        "outputId": "a402c3a3-fae1-4593-bd04-bc23814b22cb"
      },
      "execution_count": 124,
      "outputs": [
        {
          "output_type": "stream",
          "name": "stdout",
          "text": [
            "1/1 [==============================] - 0s 27ms/step\n",
            "1/1 [==============================] - 0s 29ms/step\n",
            "1/1 [==============================] - 0s 28ms/step\n",
            "1/1 [==============================] - 0s 39ms/step\n",
            "1/1 [==============================] - 0s 25ms/step\n",
            "1/1 [==============================] - 0s 26ms/step\n",
            "1/1 [==============================] - 0s 28ms/step\n",
            "1/1 [==============================] - 0s 30ms/step\n",
            "1/1 [==============================] - 0s 27ms/step\n",
            "1/1 [==============================] - 0s 27ms/step\n",
            "1/1 [==============================] - 0s 25ms/step\n",
            "1/1 [==============================] - 0s 29ms/step\n"
          ]
        }
      ]
    },
    {
      "cell_type": "code",
      "source": [
        "curr_batch2"
      ],
      "metadata": {
        "colab": {
          "base_uri": "https://localhost:8080/"
        },
        "id": "u1yxUojJFrRP",
        "outputId": "d689e33f-c1ce-492e-d896-c8485306999e"
      },
      "execution_count": 125,
      "outputs": [
        {
          "output_type": "execute_result",
          "data": {
            "text/plain": [
              "array([[[0.38124403, 0.03296703, 0.        , 0.27047913],\n",
              "        [0.18385918, 0.16483516, 0.13513514, 0.        ],\n",
              "        [0.13601033, 0.50549451, 0.2652027 , 0.        ],\n",
              "        [0.27429479, 1.        , 0.78378378, 0.        ],\n",
              "        [0.64064991, 0.23076923, 0.55574324, 0.81530139],\n",
              "        [0.43169373, 0.0989011 , 0.73817568, 0.81530139],\n",
              "        [0.38205835, 0.03296703, 0.        , 0.27047913],\n",
              "        [0.14165699, 0.50549451, 0.2652027 , 0.        ],\n",
              "        [0.23432419, 0.23076923, 0.55574324, 0.81530139],\n",
              "        [0.32842574, 0.03296703, 0.        , 0.27047913],\n",
              "        [0.16045508, 0.23076923, 0.55574324, 0.81530139],\n",
              "        [0.30124149, 0.23076923, 0.55574324, 0.81530139]]])"
            ]
          },
          "metadata": {},
          "execution_count": 125
        }
      ]
    },
    {
      "cell_type": "code",
      "source": [
        "test_predictions2=np.array(test_predictions2)\n",
        "type(test_predictions2)"
      ],
      "metadata": {
        "colab": {
          "base_uri": "https://localhost:8080/"
        },
        "id": "Y86tRMhwFuo1",
        "outputId": "c936dd2a-e994-48f8-c727-e296043f2d57"
      },
      "execution_count": 126,
      "outputs": [
        {
          "output_type": "execute_result",
          "data": {
            "text/plain": [
              "numpy.ndarray"
            ]
          },
          "metadata": {},
          "execution_count": 126
        }
      ]
    },
    {
      "cell_type": "code",
      "source": [
        "curr_batch2=curr_batch2.reshape(n_input,n_features)\n",
        "curr_batch2.shape"
      ],
      "metadata": {
        "colab": {
          "base_uri": "https://localhost:8080/"
        },
        "id": "E08usGBHFw2u",
        "outputId": "3d190fbd-ff07-4225-f24f-eb03470a597c"
      },
      "execution_count": 127,
      "outputs": [
        {
          "output_type": "execute_result",
          "data": {
            "text/plain": [
              "(12, 4)"
            ]
          },
          "metadata": {},
          "execution_count": 127
        }
      ]
    },
    {
      "cell_type": "code",
      "source": [
        "true_predictions2=scaler.inverse_transform(curr_batch2)\n",
        "true_predictions2"
      ],
      "metadata": {
        "colab": {
          "base_uri": "https://localhost:8080/"
        },
        "id": "qq4Aa34mFykr",
        "outputId": "fd5b32fd-4869-4b93-c412-d9acbd8ec1d3"
      },
      "execution_count": 128,
      "outputs": [
        {
          "output_type": "execute_result",
          "data": {
            "text/plain": [
              "array([[209.86851731, 247.        , 201.6       ,  80.19      ],\n",
              "       [202.17050819, 259.        , 209.6       ,  76.69      ],\n",
              "       [200.30440302, 290.        , 217.3       ,  76.69      ],\n",
              "       [205.69749695, 335.        , 248.        ,  76.69      ],\n",
              "       [219.98534667, 265.        , 234.5       ,  87.24      ],\n",
              "       [211.83605558, 253.        , 245.3       ,  87.24      ],\n",
              "       [209.90027574, 247.        , 201.6       ,  80.19      ],\n",
              "       [200.5246228 , 290.        , 217.3       ,  76.69      ],\n",
              "       [204.13864329, 265.        , 234.5       ,  87.24      ],\n",
              "       [207.80860367, 247.        , 201.6       ,  80.19      ],\n",
              "       [201.25774804, 265.        , 234.5       ,  87.24      ],\n",
              "       [206.748418  , 265.        , 234.5       ,  87.24      ]])"
            ]
          },
          "metadata": {},
          "execution_count": 128
        }
      ]
    },
    {
      "cell_type": "code",
      "source": [
        "df_predictions2=test_pred2\n",
        "df_predictions2\n",
        "df_predictions2['IndiaPrice_pred']=true_predictions2[:,0]"
      ],
      "metadata": {
        "colab": {
          "base_uri": "https://localhost:8080/"
        },
        "id": "k9HsQNG7F0p-",
        "outputId": "6a46afa7-189d-49d6-dbc7-04546e390e74"
      },
      "execution_count": 129,
      "outputs": [
        {
          "output_type": "stream",
          "name": "stderr",
          "text": [
            "<ipython-input-129-a62c74056f6d>:3: SettingWithCopyWarning: \n",
            "A value is trying to be set on a copy of a slice from a DataFrame.\n",
            "Try using .loc[row_indexer,col_indexer] = value instead\n",
            "\n",
            "See the caveats in the documentation: https://pandas.pydata.org/pandas-docs/stable/user_guide/indexing.html#returning-a-view-versus-a-copy\n",
            "  df_predictions2['IndiaPrice_pred']=true_predictions2[:,0]\n"
          ]
        }
      ]
    },
    {
      "cell_type": "code",
      "source": [
        "df_predictions2"
      ],
      "metadata": {
        "colab": {
          "base_uri": "https://localhost:8080/",
          "height": 457
        },
        "id": "c7sIctq2F2sh",
        "outputId": "31ba7587-12c1-4373-8f4f-e1887c1c8caa"
      },
      "execution_count": 130,
      "outputs": [
        {
          "output_type": "execute_result",
          "data": {
            "text/plain": [
              "            India Price  Asia Price  Rotterdam Price  US Domestic Price  \\\n",
              "Date                                                                      \n",
              "2020-03-06        200.0       261.0           246.60              89.63   \n",
              "2020-03-13        189.0       241.0           211.20              89.63   \n",
              "2020-03-20        182.0       229.0           180.20              89.63   \n",
              "2020-03-27        172.0       214.0           165.30              79.88   \n",
              "2020-04-03        156.0       182.0           152.20              79.88   \n",
              "2020-04-10        152.0       183.0           149.50              79.88   \n",
              "2020-04-17        152.0       179.0           152.00              79.88   \n",
              "2020-04-24        147.0       178.0           154.00              79.88   \n",
              "2020-05-01        148.0       178.0           147.20              70.13   \n",
              "2020-05-08        144.0       178.0           144.25              70.13   \n",
              "2020-05-15        143.0       179.0           140.20              70.13   \n",
              "2020-05-22        138.0       174.0           145.80              70.13   \n",
              "\n",
              "            IndiaPrice_pred  \n",
              "Date                         \n",
              "2020-03-06       209.868517  \n",
              "2020-03-13       202.170508  \n",
              "2020-03-20       200.304403  \n",
              "2020-03-27       205.697497  \n",
              "2020-04-03       219.985347  \n",
              "2020-04-10       211.836056  \n",
              "2020-04-17       209.900276  \n",
              "2020-04-24       200.524623  \n",
              "2020-05-01       204.138643  \n",
              "2020-05-08       207.808604  \n",
              "2020-05-15       201.257748  \n",
              "2020-05-22       206.748418  "
            ],
            "text/html": [
              "\n",
              "  <div id=\"df-1fabd05e-7454-458b-a754-9b0f3acff267\">\n",
              "    <div class=\"colab-df-container\">\n",
              "      <div>\n",
              "<style scoped>\n",
              "    .dataframe tbody tr th:only-of-type {\n",
              "        vertical-align: middle;\n",
              "    }\n",
              "\n",
              "    .dataframe tbody tr th {\n",
              "        vertical-align: top;\n",
              "    }\n",
              "\n",
              "    .dataframe thead th {\n",
              "        text-align: right;\n",
              "    }\n",
              "</style>\n",
              "<table border=\"1\" class=\"dataframe\">\n",
              "  <thead>\n",
              "    <tr style=\"text-align: right;\">\n",
              "      <th></th>\n",
              "      <th>India Price</th>\n",
              "      <th>Asia Price</th>\n",
              "      <th>Rotterdam Price</th>\n",
              "      <th>US Domestic Price</th>\n",
              "      <th>IndiaPrice_pred</th>\n",
              "    </tr>\n",
              "    <tr>\n",
              "      <th>Date</th>\n",
              "      <th></th>\n",
              "      <th></th>\n",
              "      <th></th>\n",
              "      <th></th>\n",
              "      <th></th>\n",
              "    </tr>\n",
              "  </thead>\n",
              "  <tbody>\n",
              "    <tr>\n",
              "      <th>2020-03-06</th>\n",
              "      <td>200.0</td>\n",
              "      <td>261.0</td>\n",
              "      <td>246.60</td>\n",
              "      <td>89.63</td>\n",
              "      <td>209.868517</td>\n",
              "    </tr>\n",
              "    <tr>\n",
              "      <th>2020-03-13</th>\n",
              "      <td>189.0</td>\n",
              "      <td>241.0</td>\n",
              "      <td>211.20</td>\n",
              "      <td>89.63</td>\n",
              "      <td>202.170508</td>\n",
              "    </tr>\n",
              "    <tr>\n",
              "      <th>2020-03-20</th>\n",
              "      <td>182.0</td>\n",
              "      <td>229.0</td>\n",
              "      <td>180.20</td>\n",
              "      <td>89.63</td>\n",
              "      <td>200.304403</td>\n",
              "    </tr>\n",
              "    <tr>\n",
              "      <th>2020-03-27</th>\n",
              "      <td>172.0</td>\n",
              "      <td>214.0</td>\n",
              "      <td>165.30</td>\n",
              "      <td>79.88</td>\n",
              "      <td>205.697497</td>\n",
              "    </tr>\n",
              "    <tr>\n",
              "      <th>2020-04-03</th>\n",
              "      <td>156.0</td>\n",
              "      <td>182.0</td>\n",
              "      <td>152.20</td>\n",
              "      <td>79.88</td>\n",
              "      <td>219.985347</td>\n",
              "    </tr>\n",
              "    <tr>\n",
              "      <th>2020-04-10</th>\n",
              "      <td>152.0</td>\n",
              "      <td>183.0</td>\n",
              "      <td>149.50</td>\n",
              "      <td>79.88</td>\n",
              "      <td>211.836056</td>\n",
              "    </tr>\n",
              "    <tr>\n",
              "      <th>2020-04-17</th>\n",
              "      <td>152.0</td>\n",
              "      <td>179.0</td>\n",
              "      <td>152.00</td>\n",
              "      <td>79.88</td>\n",
              "      <td>209.900276</td>\n",
              "    </tr>\n",
              "    <tr>\n",
              "      <th>2020-04-24</th>\n",
              "      <td>147.0</td>\n",
              "      <td>178.0</td>\n",
              "      <td>154.00</td>\n",
              "      <td>79.88</td>\n",
              "      <td>200.524623</td>\n",
              "    </tr>\n",
              "    <tr>\n",
              "      <th>2020-05-01</th>\n",
              "      <td>148.0</td>\n",
              "      <td>178.0</td>\n",
              "      <td>147.20</td>\n",
              "      <td>70.13</td>\n",
              "      <td>204.138643</td>\n",
              "    </tr>\n",
              "    <tr>\n",
              "      <th>2020-05-08</th>\n",
              "      <td>144.0</td>\n",
              "      <td>178.0</td>\n",
              "      <td>144.25</td>\n",
              "      <td>70.13</td>\n",
              "      <td>207.808604</td>\n",
              "    </tr>\n",
              "    <tr>\n",
              "      <th>2020-05-15</th>\n",
              "      <td>143.0</td>\n",
              "      <td>179.0</td>\n",
              "      <td>140.20</td>\n",
              "      <td>70.13</td>\n",
              "      <td>201.257748</td>\n",
              "    </tr>\n",
              "    <tr>\n",
              "      <th>2020-05-22</th>\n",
              "      <td>138.0</td>\n",
              "      <td>174.0</td>\n",
              "      <td>145.80</td>\n",
              "      <td>70.13</td>\n",
              "      <td>206.748418</td>\n",
              "    </tr>\n",
              "  </tbody>\n",
              "</table>\n",
              "</div>\n",
              "      <button class=\"colab-df-convert\" onclick=\"convertToInteractive('df-1fabd05e-7454-458b-a754-9b0f3acff267')\"\n",
              "              title=\"Convert this dataframe to an interactive table.\"\n",
              "              style=\"display:none;\">\n",
              "        \n",
              "  <svg xmlns=\"http://www.w3.org/2000/svg\" height=\"24px\"viewBox=\"0 0 24 24\"\n",
              "       width=\"24px\">\n",
              "    <path d=\"M0 0h24v24H0V0z\" fill=\"none\"/>\n",
              "    <path d=\"M18.56 5.44l.94 2.06.94-2.06 2.06-.94-2.06-.94-.94-2.06-.94 2.06-2.06.94zm-11 1L8.5 8.5l.94-2.06 2.06-.94-2.06-.94L8.5 2.5l-.94 2.06-2.06.94zm10 10l.94 2.06.94-2.06 2.06-.94-2.06-.94-.94-2.06-.94 2.06-2.06.94z\"/><path d=\"M17.41 7.96l-1.37-1.37c-.4-.4-.92-.59-1.43-.59-.52 0-1.04.2-1.43.59L10.3 9.45l-7.72 7.72c-.78.78-.78 2.05 0 2.83L4 21.41c.39.39.9.59 1.41.59.51 0 1.02-.2 1.41-.59l7.78-7.78 2.81-2.81c.8-.78.8-2.07 0-2.86zM5.41 20L4 18.59l7.72-7.72 1.47 1.35L5.41 20z\"/>\n",
              "  </svg>\n",
              "      </button>\n",
              "      \n",
              "  <style>\n",
              "    .colab-df-container {\n",
              "      display:flex;\n",
              "      flex-wrap:wrap;\n",
              "      gap: 12px;\n",
              "    }\n",
              "\n",
              "    .colab-df-convert {\n",
              "      background-color: #E8F0FE;\n",
              "      border: none;\n",
              "      border-radius: 50%;\n",
              "      cursor: pointer;\n",
              "      display: none;\n",
              "      fill: #1967D2;\n",
              "      height: 32px;\n",
              "      padding: 0 0 0 0;\n",
              "      width: 32px;\n",
              "    }\n",
              "\n",
              "    .colab-df-convert:hover {\n",
              "      background-color: #E2EBFA;\n",
              "      box-shadow: 0px 1px 2px rgba(60, 64, 67, 0.3), 0px 1px 3px 1px rgba(60, 64, 67, 0.15);\n",
              "      fill: #174EA6;\n",
              "    }\n",
              "\n",
              "    [theme=dark] .colab-df-convert {\n",
              "      background-color: #3B4455;\n",
              "      fill: #D2E3FC;\n",
              "    }\n",
              "\n",
              "    [theme=dark] .colab-df-convert:hover {\n",
              "      background-color: #434B5C;\n",
              "      box-shadow: 0px 1px 3px 1px rgba(0, 0, 0, 0.15);\n",
              "      filter: drop-shadow(0px 1px 2px rgba(0, 0, 0, 0.3));\n",
              "      fill: #FFFFFF;\n",
              "    }\n",
              "  </style>\n",
              "\n",
              "      <script>\n",
              "        const buttonEl =\n",
              "          document.querySelector('#df-1fabd05e-7454-458b-a754-9b0f3acff267 button.colab-df-convert');\n",
              "        buttonEl.style.display =\n",
              "          google.colab.kernel.accessAllowed ? 'block' : 'none';\n",
              "\n",
              "        async function convertToInteractive(key) {\n",
              "          const element = document.querySelector('#df-1fabd05e-7454-458b-a754-9b0f3acff267');\n",
              "          const dataTable =\n",
              "            await google.colab.kernel.invokeFunction('convertToInteractive',\n",
              "                                                     [key], {});\n",
              "          if (!dataTable) return;\n",
              "\n",
              "          const docLinkHtml = 'Like what you see? Visit the ' +\n",
              "            '<a target=\"_blank\" href=https://colab.research.google.com/notebooks/data_table.ipynb>data table notebook</a>'\n",
              "            + ' to learn more about interactive tables.';\n",
              "          element.innerHTML = '';\n",
              "          dataTable['output_type'] = 'display_data';\n",
              "          await google.colab.output.renderOutput(dataTable, element);\n",
              "          const docLink = document.createElement('div');\n",
              "          docLink.innerHTML = docLinkHtml;\n",
              "          element.appendChild(docLink);\n",
              "        }\n",
              "      </script>\n",
              "    </div>\n",
              "  </div>\n",
              "  "
            ]
          },
          "metadata": {},
          "execution_count": 130
        }
      ]
    },
    {
      "cell_type": "code",
      "source": [
        "df_predictions2['India Price'].plot(figsize=(10,6))\n",
        "df_predictions2['IndiaPrice_pred'].plot()"
      ],
      "metadata": {
        "colab": {
          "base_uri": "https://localhost:8080/",
          "height": 608
        },
        "id": "iFB64YLAF5-r",
        "outputId": "cc74b343-df7f-481d-daea-35fd0812774f"
      },
      "execution_count": 131,
      "outputs": [
        {
          "output_type": "execute_result",
          "data": {
            "text/plain": [
              "<Axes: xlabel='Date'>"
            ]
          },
          "metadata": {},
          "execution_count": 131
        },
        {
          "output_type": "display_data",
          "data": {
            "text/plain": [
              "<Figure size 1000x600 with 1 Axes>"
            ],
            "image/png": "[encoded data removed]"
          },
          "metadata": {}
        }
      ]
    },
    {
      "cell_type": "code",
      "source": [
        "error2=sqrt(mean_squared_error(df_predictions2['India Price'],df_predictions2['IndiaPrice_pred']))\n",
        "print(error2)"
      ],
      "metadata": {
        "colab": {
          "base_uri": "https://localhost:8080/"
        },
        "id": "Snt96NRLF8jw",
        "outputId": "d130d336-5f27-47b1-89bf-6b79df4bc63c"
      },
      "execution_count": 132,
      "outputs": [
        {
          "output_type": "stream",
          "name": "stdout",
          "text": [
            "50.80733465831527\n"
          ]
        }
      ]
    },
    {
      "cell_type": "code",
      "source": [
        "# Calculate range of test set\n",
        "range_test = test.max() - test.min()\n",
        "\n",
        "# Calculate Normalized RMSE\n",
        "normalized_rmse = error2 / range_test\n",
        "\n",
        "print(normalized_rmse)"
      ],
      "metadata": {
        "colab": {
          "base_uri": "https://localhost:8080/"
        },
        "id": "L1Qyr1hSORpN",
        "outputId": "2e833811-d3f1-49ea-8296-27178b1ad270"
      },
      "execution_count": 144,
      "outputs": [
        {
          "output_type": "stream",
          "name": "stdout",
          "text": [
            "India Price          0.159021\n",
            "Asia Price           0.180168\n",
            "Rotterdam Price      0.203392\n",
            "US Domestic Price    0.716101\n",
            "dtype: float64\n"
          ]
        }
      ]
    },
    {
      "cell_type": "code",
      "source": [
        "test4_input=data[772:784]\n",
        "test4_input_scaled=scaler.fit_transform(test4_input)\n",
        "test_pred3=data[784:796]"
      ],
      "metadata": {
        "id": "lokZxgGmF8c2"
      },
      "execution_count": 133,
      "outputs": []
    },
    {
      "cell_type": "code",
      "source": [
        "test_predictions3=[]\n",
        "n_input=12\n",
        "n_features=4\n",
        "first_batch3=test4_input_scaled\n",
        "curr_batch3=first_batch3.reshape((1,n_input,n_features))\n",
        "for i in range(0,len(test_pred3)):#len(test_pred)\n",
        "  curr_pred3=model.predict(curr_batch3)[0]\n",
        "  test_predictions3.append(curr_pred3)\n",
        "  slc=pred(i,curr_pred3,curr_batch3)\n",
        "  curr_batch3=np.append(curr_batch3[:,1:,:],[[slc]],axis=1)"
      ],
      "metadata": {
        "colab": {
          "base_uri": "https://localhost:8080/"
        },
        "id": "LDO3wXoxF8V1",
        "outputId": "bd9e63a4-37ea-4280-f1de-9d5854105da4"
      },
      "execution_count": 134,
      "outputs": [
        {
          "output_type": "stream",
          "name": "stdout",
          "text": [
            "1/1 [==============================] - 0s 39ms/step\n",
            "1/1 [==============================] - 0s 39ms/step\n",
            "1/1 [==============================] - 0s 41ms/step\n",
            "1/1 [==============================] - 0s 42ms/step\n",
            "1/1 [==============================] - 0s 43ms/step\n",
            "1/1 [==============================] - 0s 47ms/step\n",
            "1/1 [==============================] - 0s 63ms/step\n",
            "1/1 [==============================] - 0s 41ms/step\n",
            "1/1 [==============================] - 0s 53ms/step\n",
            "1/1 [==============================] - 0s 38ms/step\n",
            "1/1 [==============================] - 0s 40ms/step\n",
            "1/1 [==============================] - 0s 41ms/step\n"
          ]
        }
      ]
    },
    {
      "cell_type": "code",
      "source": [
        "curr_batch3"
      ],
      "metadata": {
        "colab": {
          "base_uri": "https://localhost:8080/"
        },
        "id": "1EQUoOWlF8Su",
        "outputId": "05cf3195-179b-4507-eccb-182b8051ff70"
      },
      "execution_count": 135,
      "outputs": [
        {
          "output_type": "execute_result",
          "data": {
            "text/plain": [
              "array([[[0.81776667, 0.        , 0.        , 0.        ],\n",
              "        [0.28830868, 0.16      , 0.14134615, 0.21575758],\n",
              "        [0.01058936, 0.2       , 0.47211538, 0.21575758],\n",
              "        [0.01784387, 0.44      , 0.86057692, 0.43181818],\n",
              "        [0.39321733, 0.96      , 1.        , 1.        ],\n",
              "        [0.66067147, 1.        , 0.73173077, 1.        ],\n",
              "        [0.64127213, 0.        , 0.        , 0.        ],\n",
              "        [0.31953356, 0.2       , 0.47211538, 0.21575758],\n",
              "        [0.3249222 , 0.96      , 1.        , 1.        ],\n",
              "        [0.67065954, 0.        , 0.        , 0.        ],\n",
              "        [0.28507659, 0.96      , 1.        , 1.        ],\n",
              "        [0.64369965, 0.96      , 1.        , 1.        ]]])"
            ]
          },
          "metadata": {},
          "execution_count": 135
        }
      ]
    },
    {
      "cell_type": "code",
      "source": [
        "test_predictions3=np.array(test_predictions3)\n",
        "type(test_predictions3)"
      ],
      "metadata": {
        "colab": {
          "base_uri": "https://localhost:8080/"
        },
        "id": "qhFR8gm8GE8P",
        "outputId": "267a8995-b458-4932-c9b4-3ef377fcff7c"
      },
      "execution_count": 136,
      "outputs": [
        {
          "output_type": "execute_result",
          "data": {
            "text/plain": [
              "numpy.ndarray"
            ]
          },
          "metadata": {},
          "execution_count": 136
        }
      ]
    },
    {
      "cell_type": "code",
      "source": [
        "curr_batch3=curr_batch3.reshape(n_input,n_features)\n",
        "curr_batch3.shape"
      ],
      "metadata": {
        "colab": {
          "base_uri": "https://localhost:8080/"
        },
        "id": "q_K02p-_GE5p",
        "outputId": "101f8f3a-bf4c-45b2-c74b-630fdbeee4ba"
      },
      "execution_count": 137,
      "outputs": [
        {
          "output_type": "execute_result",
          "data": {
            "text/plain": [
              "(12, 4)"
            ]
          },
          "metadata": {},
          "execution_count": 137
        }
      ]
    },
    {
      "cell_type": "code",
      "source": [
        "true_predictions3=scaler.inverse_transform(curr_batch3)\n",
        "true_predictions3"
      ],
      "metadata": {
        "colab": {
          "base_uri": "https://localhost:8080/"
        },
        "id": "W-WRiqbSGE2p",
        "outputId": "cc2ed526-d1ff-4c3c-9956-a30930db5572"
      },
      "execution_count": 138,
      "outputs": [
        {
          "output_type": "execute_result",
          "data": {
            "text/plain": [
              "array([[277.41676664, 260.        , 239.1       ,  76.88      ],\n",
              "       [229.23608989, 280.        , 253.8       ,  84.        ],\n",
              "       [203.96363187, 285.        , 288.2       ,  84.        ],\n",
              "       [204.62379238, 315.        , 328.6       ,  91.13      ],\n",
              "       [238.78277659, 380.        , 343.1       , 109.88      ],\n",
              "       [263.121104  , 385.        , 315.2       , 109.88      ],\n",
              "       [261.35576361, 260.        , 239.1       ,  76.88      ],\n",
              "       [232.07755366, 285.        , 288.2       ,  84.        ],\n",
              "       [232.56792057, 380.        , 343.1       , 109.88      ],\n",
              "       [264.03001833, 260.        , 239.1       ,  76.88      ],\n",
              "       [228.94196954, 380.        , 343.1       , 109.88      ],\n",
              "       [261.57666779, 380.        , 343.1       , 109.88      ]])"
            ]
          },
          "metadata": {},
          "execution_count": 138
        }
      ]
    },
    {
      "cell_type": "code",
      "source": [
        "df_predictions3=test_pred3\n",
        "df_predictions3\n",
        "df_predictions3['IndiaPrice_pred']=true_predictions3[:,0]"
      ],
      "metadata": {
        "colab": {
          "base_uri": "https://localhost:8080/"
        },
        "id": "zXpiCXXmGL-E",
        "outputId": "2384f2b6-8c42-4ee2-b71c-651d4cd66752"
      },
      "execution_count": 139,
      "outputs": [
        {
          "output_type": "stream",
          "name": "stderr",
          "text": [
            "<ipython-input-139-9486bbec8021>:3: SettingWithCopyWarning: \n",
            "A value is trying to be set on a copy of a slice from a DataFrame.\n",
            "Try using .loc[row_indexer,col_indexer] = value instead\n",
            "\n",
            "See the caveats in the documentation: https://pandas.pydata.org/pandas-docs/stable/user_guide/indexing.html#returning-a-view-versus-a-copy\n",
            "  df_predictions3['IndiaPrice_pred']=true_predictions3[:,0]\n"
          ]
        }
      ]
    },
    {
      "cell_type": "code",
      "source": [
        "df_predictions3"
      ],
      "metadata": {
        "colab": {
          "base_uri": "https://localhost:8080/",
          "height": 457
        },
        "id": "LCOoTfRhGL7o",
        "outputId": "24e2a03d-865e-4055-acf0-2a4f39ef9306"
      },
      "execution_count": 140,
      "outputs": [
        {
          "output_type": "execute_result",
          "data": {
            "text/plain": [
              "            India Price  Asia Price  Rotterdam Price  US Domestic Price  \\\n",
              "Date                                                                      \n",
              "2021-02-05        282.0       385.0           346.50             111.00   \n",
              "2021-02-12        282.0       385.0           335.90             111.00   \n",
              "2021-02-19        282.0       374.0           330.50             111.00   \n",
              "2021-02-26        284.0       382.0           340.00             111.00   \n",
              "2021-03-05        289.0       387.0           331.90             112.88   \n",
              "2021-03-12        283.0       370.0           326.40             112.88   \n",
              "2021-03-19        281.0       370.0           319.60             112.88   \n",
              "2021-03-26        274.0       370.0           316.40             112.88   \n",
              "2021-04-02        274.0       365.0           316.75             117.75   \n",
              "2021-04-09        276.0       364.0           324.00             117.75   \n",
              "2021-04-16        275.0       375.0           320.50             117.75   \n",
              "2021-04-23        275.0       371.0           321.30             117.75   \n",
              "\n",
              "            IndiaPrice_pred  \n",
              "Date                         \n",
              "2021-02-05       277.416767  \n",
              "2021-02-12       229.236090  \n",
              "2021-02-19       203.963632  \n",
              "2021-02-26       204.623792  \n",
              "2021-03-05       238.782777  \n",
              "2021-03-12       263.121104  \n",
              "2021-03-19       261.355764  \n",
              "2021-03-26       232.077554  \n",
              "2021-04-02       232.567921  \n",
              "2021-04-09       264.030018  \n",
              "2021-04-16       228.941970  \n",
              "2021-04-23       261.576668  "
            ],
            "text/html": [
              "\n",
              "  <div id=\"df-7d9ee07e-4e8c-4731-838e-d048fd750edc\">\n",
              "    <div class=\"colab-df-container\">\n",
              "      <div>\n",
              "<style scoped>\n",
              "    .dataframe tbody tr th:only-of-type {\n",
              "        vertical-align: middle;\n",
              "    }\n",
              "\n",
              "    .dataframe tbody tr th {\n",
              "        vertical-align: top;\n",
              "    }\n",
              "\n",
              "    .dataframe thead th {\n",
              "        text-align: right;\n",
              "    }\n",
              "</style>\n",
              "<table border=\"1\" class=\"dataframe\">\n",
              "  <thead>\n",
              "    <tr style=\"text-align: right;\">\n",
              "      <th></th>\n",
              "      <th>India Price</th>\n",
              "      <th>Asia Price</th>\n",
              "      <th>Rotterdam Price</th>\n",
              "      <th>US Domestic Price</th>\n",
              "      <th>IndiaPrice_pred</th>\n",
              "    </tr>\n",
              "    <tr>\n",
              "      <th>Date</th>\n",
              "      <th></th>\n",
              "      <th></th>\n",
              "      <th></th>\n",
              "      <th></th>\n",
              "      <th></th>\n",
              "    </tr>\n",
              "  </thead>\n",
              "  <tbody>\n",
              "    <tr>\n",
              "      <th>2021-02-05</th>\n",
              "      <td>282.0</td>\n",
              "      <td>385.0</td>\n",
              "      <td>346.50</td>\n",
              "      <td>111.00</td>\n",
              "      <td>277.416767</td>\n",
              "    </tr>\n",
              "    <tr>\n",
              "      <th>2021-02-12</th>\n",
              "      <td>282.0</td>\n",
              "      <td>385.0</td>\n",
              "      <td>335.90</td>\n",
              "      <td>111.00</td>\n",
              "      <td>229.236090</td>\n",
              "    </tr>\n",
              "    <tr>\n",
              "      <th>2021-02-19</th>\n",
              "      <td>282.0</td>\n",
              "      <td>374.0</td>\n",
              "      <td>330.50</td>\n",
              "      <td>111.00</td>\n",
              "      <td>203.963632</td>\n",
              "    </tr>\n",
              "    <tr>\n",
              "      <th>2021-02-26</th>\n",
              "      <td>284.0</td>\n",
              "      <td>382.0</td>\n",
              "      <td>340.00</td>\n",
              "      <td>111.00</td>\n",
              "      <td>204.623792</td>\n",
              "    </tr>\n",
              "    <tr>\n",
              "      <th>2021-03-05</th>\n",
              "      <td>289.0</td>\n",
              "      <td>387.0</td>\n",
              "      <td>331.90</td>\n",
              "      <td>112.88</td>\n",
              "      <td>238.782777</td>\n",
              "    </tr>\n",
              "    <tr>\n",
              "      <th>2021-03-12</th>\n",
              "      <td>283.0</td>\n",
              "      <td>370.0</td>\n",
              "      <td>326.40</td>\n",
              "      <td>112.88</td>\n",
              "      <td>263.121104</td>\n",
              "    </tr>\n",
              "    <tr>\n",
              "      <th>2021-03-19</th>\n",
              "      <td>281.0</td>\n",
              "      <td>370.0</td>\n",
              "      <td>319.60</td>\n",
              "      <td>112.88</td>\n",
              "      <td>261.355764</td>\n",
              "    </tr>\n",
              "    <tr>\n",
              "      <th>2021-03-26</th>\n",
              "      <td>274.0</td>\n",
              "      <td>370.0</td>\n",
              "      <td>316.40</td>\n",
              "      <td>112.88</td>\n",
              "      <td>232.077554</td>\n",
              "    </tr>\n",
              "    <tr>\n",
              "      <th>2021-04-02</th>\n",
              "      <td>274.0</td>\n",
              "      <td>365.0</td>\n",
              "      <td>316.75</td>\n",
              "      <td>117.75</td>\n",
              "      <td>232.567921</td>\n",
              "    </tr>\n",
              "    <tr>\n",
              "      <th>2021-04-09</th>\n",
              "      <td>276.0</td>\n",
              "      <td>364.0</td>\n",
              "      <td>324.00</td>\n",
              "      <td>117.75</td>\n",
              "      <td>264.030018</td>\n",
              "    </tr>\n",
              "    <tr>\n",
              "      <th>2021-04-16</th>\n",
              "      <td>275.0</td>\n",
              "      <td>375.0</td>\n",
              "      <td>320.50</td>\n",
              "      <td>117.75</td>\n",
              "      <td>228.941970</td>\n",
              "    </tr>\n",
              "    <tr>\n",
              "      <th>2021-04-23</th>\n",
              "      <td>275.0</td>\n",
              "      <td>371.0</td>\n",
              "      <td>321.30</td>\n",
              "      <td>117.75</td>\n",
              "      <td>261.576668</td>\n",
              "    </tr>\n",
              "  </tbody>\n",
              "</table>\n",
              "</div>\n",
              "      <button class=\"colab-df-convert\" onclick=\"convertToInteractive('df-7d9ee07e-4e8c-4731-838e-d048fd750edc')\"\n",
              "              title=\"Convert this dataframe to an interactive table.\"\n",
              "              style=\"display:none;\">\n",
              "        \n",
              "  <svg xmlns=\"http://www.w3.org/2000/svg\" height=\"24px\"viewBox=\"0 0 24 24\"\n",
              "       width=\"24px\">\n",
              "    <path d=\"M0 0h24v24H0V0z\" fill=\"none\"/>\n",
              "    <path d=\"M18.56 5.44l.94 2.06.94-2.06 2.06-.94-2.06-.94-.94-2.06-.94 2.06-2.06.94zm-11 1L8.5 8.5l.94-2.06 2.06-.94-2.06-.94L8.5 2.5l-.94 2.06-2.06.94zm10 10l.94 2.06.94-2.06 2.06-.94-2.06-.94-.94-2.06-.94 2.06-2.06.94z\"/><path d=\"M17.41 7.96l-1.37-1.37c-.4-.4-.92-.59-1.43-.59-.52 0-1.04.2-1.43.59L10.3 9.45l-7.72 7.72c-.78.78-.78 2.05 0 2.83L4 21.41c.39.39.9.59 1.41.59.51 0 1.02-.2 1.41-.59l7.78-7.78 2.81-2.81c.8-.78.8-2.07 0-2.86zM5.41 20L4 18.59l7.72-7.72 1.47 1.35L5.41 20z\"/>\n",
              "  </svg>\n",
              "      </button>\n",
              "      \n",
              "  <style>\n",
              "    .colab-df-container {\n",
              "      display:flex;\n",
              "      flex-wrap:wrap;\n",
              "      gap: 12px;\n",
              "    }\n",
              "\n",
              "    .colab-df-convert {\n",
              "      background-color: #E8F0FE;\n",
              "      border: none;\n",
              "      border-radius: 50%;\n",
              "      cursor: pointer;\n",
              "      display: none;\n",
              "      fill: #1967D2;\n",
              "      height: 32px;\n",
              "      padding: 0 0 0 0;\n",
              "      width: 32px;\n",
              "    }\n",
              "\n",
              "    .colab-df-convert:hover {\n",
              "      background-color: #E2EBFA;\n",
              "      box-shadow: 0px 1px 2px rgba(60, 64, 67, 0.3), 0px 1px 3px 1px rgba(60, 64, 67, 0.15);\n",
              "      fill: #174EA6;\n",
              "    }\n",
              "\n",
              "    [theme=dark] .colab-df-convert {\n",
              "      background-color: #3B4455;\n",
              "      fill: #D2E3FC;\n",
              "    }\n",
              "\n",
              "    [theme=dark] .colab-df-convert:hover {\n",
              "      background-color: #434B5C;\n",
              "      box-shadow: 0px 1px 3px 1px rgba(0, 0, 0, 0.15);\n",
              "      filter: drop-shadow(0px 1px 2px rgba(0, 0, 0, 0.3));\n",
              "      fill: #FFFFFF;\n",
              "    }\n",
              "  </style>\n",
              "\n",
              "      <script>\n",
              "        const buttonEl =\n",
              "          document.querySelector('#df-7d9ee07e-4e8c-4731-838e-d048fd750edc button.colab-df-convert');\n",
              "        buttonEl.style.display =\n",
              "          google.colab.kernel.accessAllowed ? 'block' : 'none';\n",
              "\n",
              "        async function convertToInteractive(key) {\n",
              "          const element = document.querySelector('#df-7d9ee07e-4e8c-4731-838e-d048fd750edc');\n",
              "          const dataTable =\n",
              "            await google.colab.kernel.invokeFunction('convertToInteractive',\n",
              "                                                     [key], {});\n",
              "          if (!dataTable) return;\n",
              "\n",
              "          const docLinkHtml = 'Like what you see? Visit the ' +\n",
              "            '<a target=\"_blank\" href=https://colab.research.google.com/notebooks/data_table.ipynb>data table notebook</a>'\n",
              "            + ' to learn more about interactive tables.';\n",
              "          element.innerHTML = '';\n",
              "          dataTable['output_type'] = 'display_data';\n",
              "          await google.colab.output.renderOutput(dataTable, element);\n",
              "          const docLink = document.createElement('div');\n",
              "          docLink.innerHTML = docLinkHtml;\n",
              "          element.appendChild(docLink);\n",
              "        }\n",
              "      </script>\n",
              "    </div>\n",
              "  </div>\n",
              "  "
            ]
          },
          "metadata": {},
          "execution_count": 140
        }
      ]
    },
    {
      "cell_type": "code",
      "source": [
        "df_predictions3['India Price'].plot(figsize=(10,6))\n",
        "df_predictions3['IndiaPrice_pred'].plot()"
      ],
      "metadata": {
        "colab": {
          "base_uri": "https://localhost:8080/",
          "height": 608
        },
        "id": "0S7t7RlBGRLe",
        "outputId": "8e72dcfe-6f93-4c75-de6b-8f85f624ee01"
      },
      "execution_count": 141,
      "outputs": [
        {
          "output_type": "execute_result",
          "data": {
            "text/plain": [
              "<Axes: xlabel='Date'>"
            ]
          },
          "metadata": {},
          "execution_count": 141
        },
        {
          "output_type": "display_data",
          "data": {
            "text/plain": [
              "<Figure size 1000x600 with 1 Axes>"
            ],
            "image/png": "[encoded data removed]"
          },
          "metadata": {}
        }
      ]
    },
    {
      "cell_type": "code",
      "source": [
        "error3=sqrt(mean_squared_error(df_predictions3['India Price'],df_predictions3['IndiaPrice_pred']))\n",
        "print(error3)"
      ],
      "metadata": {
        "colab": {
          "base_uri": "https://localhost:8080/"
        },
        "id": "WP5pdCxoGRJV",
        "outputId": "4d3582da-27e8-45ab-952f-15ddcd53fdeb"
      },
      "execution_count": 142,
      "outputs": [
        {
          "output_type": "stream",
          "name": "stdout",
          "text": [
            "45.10824626534697\n"
          ]
        }
      ]
    },
    {
      "cell_type": "code",
      "source": [
        "# Calculate range of test set\n",
        "range_test = test.max() - test.min()\n",
        "\n",
        "# Calculate Normalized RMSE\n",
        "normalized_rmse = error3 / range_test\n",
        "\n",
        "print(normalized_rmse)"
      ],
      "metadata": {
        "colab": {
          "base_uri": "https://localhost:8080/"
        },
        "id": "-KP-lx2tOBE5",
        "outputId": "3fb1e44c-5791-4047-b406-6a7d5b83ffeb"
      },
      "execution_count": 143,
      "outputs": [
        {
          "output_type": "stream",
          "name": "stdout",
          "text": [
            "India Price          0.141184\n",
            "Asia Price           0.159958\n",
            "Rotterdam Price      0.180577\n",
            "US Domestic Price    0.635775\n",
            "dtype: float64\n"
          ]
        }
      ]
    }
  ]
}